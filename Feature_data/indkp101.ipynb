{
 "cells": [
  {
   "cell_type": "markdown",
   "id": "42c84891",
   "metadata": {},
   "source": [
    "Extracts income data (nr 3, 26, 29) in statistics denmark table indkp101\n",
    "\n"
   ]
  },
  {
   "cell_type": "code",
   "execution_count": 31,
   "id": "066ca9ed",
   "metadata": {},
   "outputs": [],
   "source": [
    "# Getting the data\n",
    "import pandas as pd\n",
    "url = \"https://api.statbank.dk/v1/data/INDKP101/CSV?valuePresentation=CodeAndValue&OMR%C3%85DE=*&ENHED=116&KOEN=MOK&INDKOMSTTYPE=110%2C225%2C240&Tid=*\"\n",
    "indkp101 = pd.read_csv(url, sep = \";\")\n",
    "\n",
    "indkp101 = indkp101.pivot(index=[\"OMRÅDE\", \"TID\"], columns = \"INDKOMSTTYPE\", values = \"INDHOLD\")\n",
    "indkp101.columns.name = None\n",
    "indkp101 = indkp101\\\n",
    "    .reset_index()"
   ]
  },
  {
   "cell_type": "code",
   "execution_count": 32,
   "id": "c240eb09",
   "metadata": {},
   "outputs": [],
   "source": [
    "# Cleaning the data and saving it \n",
    "def clean_ds_data(df):\n",
    "    df['muni_code'] = df['OMRÅDE'].str.extract(r'(\\d{3})')   # extracting municipality code\n",
    "    df['muni_name'] = df['OMRÅDE'].str.extract(r'(\\d{3}\\s+(.*))')[1] # extracting municipalit name\n",
    "    df['year'] = df['TID'].str.split().str[0]\n",
    "    df = df\\\n",
    "        .drop(columns=[\"OMRÅDE\", 'TID'])\n",
    "    return df\n",
    "indkp101 = clean_ds_data(indkp101)\n",
    "indkp101 = indkp101\\\n",
    "    .drop(columns = [\"muni_name\"])\\\n",
    "    .rename(columns =  {\"110 3 Erhvervsindkomst (4+5+6)\" : \"erhvervsindkomst\",\n",
    "                       \"225 26 Formueindkomst, brutto (27+28)\": \"formueindkomst\",\n",
    "                       \"240 29 Anden personlig indkomst\":\"anden_personlig_indkomst\"})\n",
    "indkp101['muni_code'] = indkp101['muni_code'].astype(\"Int64\")\n",
    "\n",
    "indkp101.to_csv(\"indkp101.csv\")"
   ]
  }
 ],
 "metadata": {
  "kernelspec": {
   "display_name": "Python 3 (ipykernel)",
   "language": "python",
   "name": "python3"
  },
  "language_info": {
   "codemirror_mode": {
    "name": "ipython",
    "version": 3
   },
   "file_extension": ".py",
   "mimetype": "text/x-python",
   "name": "python",
   "nbconvert_exporter": "python",
   "pygments_lexer": "ipython3",
   "version": "3.9.12"
  }
 },
 "nbformat": 4,
 "nbformat_minor": 5
}
