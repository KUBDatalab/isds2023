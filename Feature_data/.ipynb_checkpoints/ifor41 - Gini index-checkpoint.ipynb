{
 "cells": [
  {
   "cell_type": "markdown",
   "id": "42c84891",
   "metadata": {},
   "source": [
    "From Statistics Denmark's api console, we obtain the data set \"IFOR41: Inequality measure measured on equivalent disposable income by inequality measure and municipality\". From the data set we extract the municipality code, year, and Gini coefficient.\n",
    "\n",
    "Sources:\n",
    "\n",
    "- IFOR41: Inequality measure measured on equivalent disposable income by inequality measure and municipality. Found 16-08-2023. https://www.statistikbanken.dk/statbank5a/SelectVarVal/Define.asp?MainTable=IFOR41&PLanguage=0&PXSId=0&wsid=cftree\n",
    "\n",
    "Script by Lars Kjær"
   ]
  },
  {
   "cell_type": "code",
   "execution_count": 1,
   "id": "066ca9ed",
   "metadata": {},
   "outputs": [],
   "source": [
    "# get data from api.statbank\n",
    "import pandas as pd\n",
    "url = \"https://api.statbank.dk/v1/data/IFOR41/CSV?valuePresentation=CodeAndValue&KOMMUNEDK=*&ULLIG=*&Tid=*\"\n",
    "ifor41_raw = pd.read_csv(url, sep = \";\")"
   ]
  },
  {
   "cell_type": "code",
   "execution_count": 2,
   "id": "94a35b29",
   "metadata": {},
   "outputs": [],
   "source": [
    "input_df = ifor41_raw.copy()\n",
    "\n",
    "############### wrangle the data ########################\n",
    "\n",
    "\n",
    "# Subset the data so only values representiong Gini coefficient is present\n",
    "input_df = input_df[input_df['ULLIG'] == '70 Gini-koefficient']\n",
    "\n",
    "\n",
    "# Get municipality code\n",
    "def get_muni_code(row):\n",
    "    return row.split()[0]\n",
    "input_df['muni_code'] = input_df['KOMMUNEDK'].apply(lambda row: get_muni_code(row))\n",
    "\n",
    "# Get year\n",
    "def get_year(row):\n",
    "    return row.split()[0]\n",
    "input_df['year'] = input_df['TID'].apply(lambda row: get_year(row))\n",
    "\n",
    "# get Gini-coefficient values\n",
    "def get_gini_index(row):\n",
    "    return row.replace(',','.')\n",
    "input_df['gini_index'] = input_df['INDHOLD'].apply(lambda row: get_gini_index(row))\n",
    "\n",
    "# change data types\n",
    "input_df['muni_code'] = input_df['muni_code'].astype(int)\n",
    "input_df['year'] = input_df['year'].astype(int)\n",
    "input_df['gini_index'] = input_df['gini_index'].astype(float)\n",
    "\n",
    "# filter on year \n",
    "input_df = input_df.query('year >= 1992')\n",
    "\n",
    "# Store data in output variable \n",
    "output_df = input_df.iloc[:, -3:]"
   ]
  },
  {
   "cell_type": "code",
   "execution_count": 4,
   "id": "2354b40d",
   "metadata": {},
   "outputs": [],
   "source": [
    "output_df.to_csv('gini_index.csv',index=False)"
   ]
  }
 ],
 "metadata": {
  "kernelspec": {
   "display_name": "Python 3 (ipykernel)",
   "language": "python",
   "name": "python3"
  },
  "language_info": {
   "codemirror_mode": {
    "name": "ipython",
    "version": 3
   },
   "file_extension": ".py",
   "mimetype": "text/x-python",
   "name": "python",
   "nbconvert_exporter": "python",
   "pygments_lexer": "ipython3",
   "version": "3.10.9"
  }
 },
 "nbformat": 4,
 "nbformat_minor": 5
}
