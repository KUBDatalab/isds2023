{
 "cells": [
  {
   "cell_type": "markdown",
   "id": "c90d4380",
   "metadata": {},
   "source": [
    "Getting population data aggregated on municipali"
   ]
  },
  {
   "cell_type": "code",
   "execution_count": 58,
   "id": "01d2eb42",
   "metadata": {},
   "outputs": [],
   "source": [
    "import requests\n",
    "import pandas as pd\n",
    "\n",
    "# Retrieves population data from all municipalities\n",
    "\n",
    "## Defining calls to Statistic Denmark API\n",
    "# 2008 to date\n",
    "FOLK1A = 'https://api.statbank.dk/v1/data/FOLK1A/CSV?valuePresentation=CodeAndValue&OMR%C3%85DE=*&Tid=*'\n",
    "\n",
    "# 2005 to 2009\n",
    "BEF1A07 = \"https://api.statbank.dk/v1/data/BEF1A07/CSV?valuePresentation=CodeAndValue&OMR%C3%85DE=*&Tid=*\"\n",
    "\n",
    "# 1979 to 2006\n",
    "BEF1A = \"https://api.statbank.dk/v1/data/BEF1A/CSV?valuePresentation=CodeAndValue&OMR%C3%85DE=*&Tid=*\"\n",
    "\n",
    "# Retrieving data\n",
    "FOLK1A_data = pd.read_csv(FOLK1A, sep = \";\")\n",
    "BEF1A07_data = pd.read_csv(BEF1A07, sep = \";\")\n",
    "BEF1A_data = pd.read_csv(BEF1A, sep = \";\")"
   ]
  },
  {
   "cell_type": "code",
   "execution_count": 59,
   "id": "12c34cfc",
   "metadata": {},
   "outputs": [],
   "source": [
    "# cleaning the data\n",
    "# FOLK1A needs additional step\n",
    "\n",
    "def clean_pop_data(df):\n",
    "    df['muni_code'] = df['OMRÅDE'].str.extract(r'(\\d{3})')   # extracting municipality code\n",
    "    df['muni_name'] = df['OMRÅDE'].str.extract(r'(\\d{3}\\s+(.*))')[1] # extracting municipalit name\n",
    "    df['year'] = df['TID'].str.split().str[0]\n",
    "    df = df\\\n",
    "        .drop(columns=[\"OMRÅDE\", 'TID'])\\\n",
    "        .rename(columns={'INDHOLD':'pop'})\n",
    "    return df\n",
    "\n",
    "FOLK1A_data = clean_pop_data(FOLK1A_data)\n",
    "BEF1A_data = clean_pop_data(BEF1A_data)\n",
    "BEF1A07_data = clean_pop_data(BEF1A07_data)"
   ]
  },
  {
   "cell_type": "code",
   "execution_count": null,
   "id": "9ad413d6",
   "metadata": {},
   "outputs": [],
   "source": []
  },
  {
   "cell_type": "code",
   "execution_count": 60,
   "id": "7205d87d",
   "metadata": {},
   "outputs": [],
   "source": [
    "FOLK1A_data[\"muni_code\"] = FOLK1A_data[\"muni_code\"].astype(\"Int64\")\n",
    "BEF1A_data[\"muni_code\"] = BEF1A_data[\"muni_code\"].astype(\"Int64\")\n",
    "BEF1A07_data[\"muni_code\"] = BEF1A07_data[\"muni_code\"].astype(\"Int64\")"
   ]
  },
  {
   "cell_type": "code",
   "execution_count": 61,
   "id": "faa75939",
   "metadata": {},
   "outputs": [],
   "source": [
    "# additional cleaning of FOLK1A data\n",
    "FOLK1A_data = FOLK1A_data[FOLK1A_data['year'].str.endswith('1')]\n",
    "FOLK1A_data['year'] = FOLK1A_data['year'].str.replace('K1', \"\")\n"
   ]
  },
  {
   "cell_type": "code",
   "execution_count": null,
   "id": "a7e3e666",
   "metadata": {},
   "outputs": [],
   "source": []
  },
  {
   "cell_type": "markdown",
   "id": "08dda2d0",
   "metadata": {},
   "source": [
    "concatenating the newish data"
   ]
  },
  {
   "cell_type": "code",
   "execution_count": 62,
   "id": "4bc2d6bd",
   "metadata": {},
   "outputs": [],
   "source": [
    "pop_data = pd.concat([FOLK1A_data, BEF1A07_data]).reset_index(drop = True).drop_duplicates()\n",
    "nye = pop_data[[\"muni_code\", 'year', \"pop\"]]"
   ]
  },
  {
   "cell_type": "code",
   "execution_count": 63,
   "id": "0945b7bf",
   "metadata": {},
   "outputs": [],
   "source": [
    "#now working on older data\n",
    "\n",
    "# vi indlæser vores data på hvilke nye muni_codes de har\n",
    "konkordans = pd.read_csv(\"nye_og_gamle_kommuner.csv\")\n",
    "\n",
    "\n",
    "konkordans['old_muni_code'] = konkordans['old_muni_code'].astype('Int64')\n",
    "konkordans['muni_code'] = konkordans['muni_code'].astype('Int64')\n",
    "\n",
    "\n",
    "BEF1A_data['muni_code'] = BEF1A_data['muni_code'].astype('Int64')\n",
    "BEF1A_data = BEF1A_data.rename(columns={\"muni_code\":\"old_muni_code\"})\n",
    "\n",
    "gamle = BEF1A_data\\\n",
    "    .merge(konkordans, how='left', on = 'old_muni_code')\\\n",
    "    .groupby([\"muni_code\", \"year\"])[\"pop\"].agg(\"sum\").reset_index()\n"
   ]
  },
  {
   "cell_type": "code",
   "execution_count": 64,
   "id": "9d2fb292",
   "metadata": {},
   "outputs": [
    {
     "data": {
      "text/html": [
       "<div>\n",
       "<style scoped>\n",
       "    .dataframe tbody tr th:only-of-type {\n",
       "        vertical-align: middle;\n",
       "    }\n",
       "\n",
       "    .dataframe tbody tr th {\n",
       "        vertical-align: top;\n",
       "    }\n",
       "\n",
       "    .dataframe thead th {\n",
       "        text-align: right;\n",
       "    }\n",
       "</style>\n",
       "<table border=\"1\" class=\"dataframe\">\n",
       "  <thead>\n",
       "    <tr style=\"text-align: right;\">\n",
       "      <th></th>\n",
       "      <th>muni_code</th>\n",
       "      <th>year</th>\n",
       "      <th>pop</th>\n",
       "    </tr>\n",
       "  </thead>\n",
       "  <tbody>\n",
       "    <tr>\n",
       "      <th>0</th>\n",
       "      <td>101</td>\n",
       "      <td>1979</td>\n",
       "      <td>505974</td>\n",
       "    </tr>\n",
       "    <tr>\n",
       "      <th>1</th>\n",
       "      <td>101</td>\n",
       "      <td>1980</td>\n",
       "      <td>498850</td>\n",
       "    </tr>\n",
       "    <tr>\n",
       "      <th>2</th>\n",
       "      <td>101</td>\n",
       "      <td>1981</td>\n",
       "      <td>493771</td>\n",
       "    </tr>\n",
       "    <tr>\n",
       "      <th>3</th>\n",
       "      <td>101</td>\n",
       "      <td>1982</td>\n",
       "      <td>490587</td>\n",
       "    </tr>\n",
       "    <tr>\n",
       "      <th>4</th>\n",
       "      <td>101</td>\n",
       "      <td>1983</td>\n",
       "      <td>486593</td>\n",
       "    </tr>\n",
       "    <tr>\n",
       "      <th>...</th>\n",
       "      <td>...</td>\n",
       "      <td>...</td>\n",
       "      <td>...</td>\n",
       "    </tr>\n",
       "    <tr>\n",
       "      <th>2739</th>\n",
       "      <td>860</td>\n",
       "      <td>2002</td>\n",
       "      <td>68325</td>\n",
       "    </tr>\n",
       "    <tr>\n",
       "      <th>2740</th>\n",
       "      <td>860</td>\n",
       "      <td>2003</td>\n",
       "      <td>68022</td>\n",
       "    </tr>\n",
       "    <tr>\n",
       "      <th>2741</th>\n",
       "      <td>860</td>\n",
       "      <td>2004</td>\n",
       "      <td>67898</td>\n",
       "    </tr>\n",
       "    <tr>\n",
       "      <th>2742</th>\n",
       "      <td>860</td>\n",
       "      <td>2005</td>\n",
       "      <td>67816</td>\n",
       "    </tr>\n",
       "    <tr>\n",
       "      <th>2743</th>\n",
       "      <td>860</td>\n",
       "      <td>2006</td>\n",
       "      <td>67480</td>\n",
       "    </tr>\n",
       "  </tbody>\n",
       "</table>\n",
       "<p>2744 rows × 3 columns</p>\n",
       "</div>"
      ],
      "text/plain": [
       "      muni_code  year     pop\n",
       "0           101  1979  505974\n",
       "1           101  1980  498850\n",
       "2           101  1981  493771\n",
       "3           101  1982  490587\n",
       "4           101  1983  486593\n",
       "...         ...   ...     ...\n",
       "2739        860  2002   68325\n",
       "2740        860  2003   68022\n",
       "2741        860  2004   67898\n",
       "2742        860  2005   67816\n",
       "2743        860  2006   67480\n",
       "\n",
       "[2744 rows x 3 columns]"
      ]
     },
     "execution_count": 64,
     "metadata": {},
     "output_type": "execute_result"
    }
   ],
   "source": [
    "konkordans['old_muni_code'] = konkordans['old_muni_code'].astype('Int64')\n",
    "konkordans['muni_code'] = konkordans['muni_code'].astype('Int64')\n"
   ]
  },
  {
   "cell_type": "code",
   "execution_count": 65,
   "id": "bb8c48e1",
   "metadata": {},
   "outputs": [],
   "source": [
    "# Combining total\n",
    "totalen = pd.concat([nye, gamle])\n",
    "totalen[\"year\"] = totalen[\"year\"].astype(\"Int64\")"
   ]
  },
  {
   "cell_type": "code",
   "execution_count": 66,
   "id": "fd78a0d6",
   "metadata": {},
   "outputs": [],
   "source": [
    "# writing to file\n",
    "totalen.to_csv(\"population_data.csv\")\n"
   ]
  }
 ],
 "metadata": {
  "kernelspec": {
   "display_name": "Python 3 (ipykernel)",
   "language": "python",
   "name": "python3"
  },
  "language_info": {
   "codemirror_mode": {
    "name": "ipython",
    "version": 3
   },
   "file_extension": ".py",
   "mimetype": "text/x-python",
   "name": "python",
   "nbconvert_exporter": "python",
   "pygments_lexer": "ipython3",
   "version": "3.9.12"
  }
 },
 "nbformat": 4,
 "nbformat_minor": 5
}
