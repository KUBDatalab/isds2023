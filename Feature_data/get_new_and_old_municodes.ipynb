{
 "cells": [
  {
   "cell_type": "code",
   "execution_count": 167,
   "id": "58cd44cb-fb88-4cac-9603-8d556baf81e2",
   "metadata": {},
   "outputs": [],
   "source": [
    "import pandas as pd"
   ]
  },
  {
   "cell_type": "code",
   "execution_count": 168,
   "id": "8f8bec5b-6d17-4acf-b9ea-86501b314346",
   "metadata": {},
   "outputs": [],
   "source": [
    "url = 'https://info.skat.dk/data.aspx?oid=2276646'\n",
    "tables = pd.read_html(url, encoding='utf-8', header=0)"
   ]
  },
  {
   "cell_type": "code",
   "execution_count": 169,
   "id": "909347b1-9512-421a-94c6-c4bbdb4b572e",
   "metadata": {},
   "outputs": [],
   "source": [
    "df = pd.DataFrame(tables[0])\n",
    "df.columns = ['Kommunenavn', 'muni_code', 'old_muni_code']"
   ]
  },
  {
   "cell_type": "code",
   "execution_count": 170,
   "id": "9eb5a2de-768b-416c-852e-4d7844f8b1c3",
   "metadata": {},
   "outputs": [],
   "source": [
    "\n",
    "# Split digits in groups of three with a comma between them\n",
    "def split_numbers(value):\n",
    "    if isinstance(value, str) and value.isdigit():\n",
    "        return ', '.join([value[i:i+3] for i in range(0, len(value), 3)])\n",
    "    return value\n",
    "\n",
    "df['old_muni_code'] = df['old_muni_code'].apply(split_numbers)"
   ]
  },
  {
   "cell_type": "code",
   "execution_count": 179,
   "id": "92dc5b3a-f968-4cbb-b5dd-a95b57e52e53",
   "metadata": {},
   "outputs": [],
   "source": [
    "df.to_csv('data.csv', index=False)"
   ]
  },
  {
   "cell_type": "code",
   "execution_count": 171,
   "id": "c34b8418-b322-484d-b0ab-124b47d2b4e8",
   "metadata": {},
   "outputs": [],
   "source": [
    "# Create a new DataFrame to store the updated values\n",
    "updated_data = []\n",
    "\n",
    "# Iterate over each row in the original DataFrame\n",
    "for _, row in df.iterrows():\n",
    "    muni_code = row['muni_code']\n",
    "    old_muni_code = row['old_muni_code']\n",
    "    \n",
    "    # Add muni_code to old_muni_code if it's not NaN\n",
    "    if not pd.isna(old_muni_code):\n",
    "        old_muni_codes = old_muni_code.split(',')\n",
    "        if str(muni_code) not in old_muni_codes:\n",
    "            old_muni_codes.append(str(muni_code))\n",
    "        for code in old_muni_codes:\n",
    "            updated_data.append({'Kommunenavn': row['Kommunenavn'], 'muni_code': muni_code, 'old_muni_code': code.strip()})\n",
    "    else:\n",
    "        updated_data.append({'Kommunenavn': row['Kommunenavn'], 'muni_code': muni_code, 'old_muni_code': str(muni_code)})\n",
    "\n",
    "# Create the updated DataFrame\n",
    "updated_df = pd.DataFrame(updated_data)\n"
   ]
  },
  {
   "cell_type": "code",
   "execution_count": 172,
   "id": "6f6fc442-1d11-43c3-917d-2591e5929006",
   "metadata": {},
   "outputs": [],
   "source": [
    "unique_combinations = updated_df[['muni_code', 'old_muni_code']].duplicated(keep=False)\n",
    "updated_df = updated_df[~unique_combinations]"
   ]
  },
  {
   "cell_type": "code",
   "execution_count": 173,
   "id": "8273579c-0186-4bba-b5aa-e3caf16683a7",
   "metadata": {},
   "outputs": [
    {
     "data": {
      "text/html": [
       "<div>\n",
       "<style scoped>\n",
       "    .dataframe tbody tr th:only-of-type {\n",
       "        vertical-align: middle;\n",
       "    }\n",
       "\n",
       "    .dataframe tbody tr th {\n",
       "        vertical-align: top;\n",
       "    }\n",
       "\n",
       "    .dataframe thead th {\n",
       "        text-align: right;\n",
       "    }\n",
       "</style>\n",
       "<table border=\"1\" class=\"dataframe\">\n",
       "  <thead>\n",
       "    <tr style=\"text-align: right;\">\n",
       "      <th></th>\n",
       "      <th>Kommunenavn</th>\n",
       "      <th>muni_code</th>\n",
       "      <th>old_muni_code</th>\n",
       "    </tr>\n",
       "  </thead>\n",
       "  <tbody>\n",
       "    <tr>\n",
       "      <th>0</th>\n",
       "      <td>Albertslund</td>\n",
       "      <td>165</td>\n",
       "      <td>165</td>\n",
       "    </tr>\n",
       "    <tr>\n",
       "      <th>1</th>\n",
       "      <td>Allerød</td>\n",
       "      <td>201</td>\n",
       "      <td>201</td>\n",
       "    </tr>\n",
       "    <tr>\n",
       "      <th>2</th>\n",
       "      <td>Assens</td>\n",
       "      <td>420</td>\n",
       "      <td>421</td>\n",
       "    </tr>\n",
       "    <tr>\n",
       "      <th>3</th>\n",
       "      <td>Assens</td>\n",
       "      <td>420</td>\n",
       "      <td>433</td>\n",
       "    </tr>\n",
       "    <tr>\n",
       "      <th>4</th>\n",
       "      <td>Assens</td>\n",
       "      <td>420</td>\n",
       "      <td>437</td>\n",
       "    </tr>\n",
       "    <tr>\n",
       "      <th>...</th>\n",
       "      <td>...</td>\n",
       "      <td>...</td>\n",
       "      <td>...</td>\n",
       "    </tr>\n",
       "    <tr>\n",
       "      <th>331</th>\n",
       "      <td>Aalborg</td>\n",
       "      <td>851</td>\n",
       "      <td>831</td>\n",
       "    </tr>\n",
       "    <tr>\n",
       "      <th>332</th>\n",
       "      <td>Aalborg</td>\n",
       "      <td>851</td>\n",
       "      <td>837</td>\n",
       "    </tr>\n",
       "    <tr>\n",
       "      <th>333</th>\n",
       "      <td>Aalborg</td>\n",
       "      <td>851</td>\n",
       "      <td>851</td>\n",
       "    </tr>\n",
       "    <tr>\n",
       "      <th>334</th>\n",
       "      <td>Århus</td>\n",
       "      <td>751</td>\n",
       "      <td>751</td>\n",
       "    </tr>\n",
       "    <tr>\n",
       "      <th>335</th>\n",
       "      <td>Udlandet</td>\n",
       "      <td>999</td>\n",
       "      <td>999</td>\n",
       "    </tr>\n",
       "  </tbody>\n",
       "</table>\n",
       "<p>332 rows × 3 columns</p>\n",
       "</div>"
      ],
      "text/plain": [
       "     Kommunenavn  muni_code old_muni_code\n",
       "0    Albertslund        165           165\n",
       "1        Allerød        201           201\n",
       "2         Assens        420           421\n",
       "3         Assens        420           433\n",
       "4         Assens        420           437\n",
       "..           ...        ...           ...\n",
       "331      Aalborg        851           831\n",
       "332      Aalborg        851           837\n",
       "333      Aalborg        851           851\n",
       "334        Århus        751           751\n",
       "335     Udlandet        999           999\n",
       "\n",
       "[332 rows x 3 columns]"
      ]
     },
     "execution_count": 173,
     "metadata": {},
     "output_type": "execute_result"
    }
   ],
   "source": [
    "updated_df"
   ]
  },
  {
   "cell_type": "code",
   "execution_count": 178,
   "id": "07b718b8-29b6-41f9-9efc-98b8e115588e",
   "metadata": {},
   "outputs": [],
   "source": [
    "updated_df.to_csv('nye_og_gamle_kommuner.csv', index=False)"
   ]
  },
  {
   "cell_type": "code",
   "execution_count": null,
   "id": "2856051e-db24-4964-9736-323461312b39",
   "metadata": {},
   "outputs": [],
   "source": []
  }
 ],
 "metadata": {
  "kernelspec": {
   "display_name": "Python 3 (ipykernel)",
   "language": "python",
   "name": "python3"
  },
  "language_info": {
   "codemirror_mode": {
    "name": "ipython",
    "version": 3
   },
   "file_extension": ".py",
   "mimetype": "text/x-python",
   "name": "python",
   "nbconvert_exporter": "python",
   "pygments_lexer": "ipython3",
   "version": "3.10.4"
  }
 },
 "nbformat": 4,
 "nbformat_minor": 5
}
