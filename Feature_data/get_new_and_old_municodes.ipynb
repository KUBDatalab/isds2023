{
 "cells": [
  {
   "cell_type": "raw",
   "id": "0a3e6969-5d50-4e0f-bae0-600cea2d4451",
   "metadata": {},
   "source": [
    "Created by Daniel Pryn"
   ]
  },
  {
   "cell_type": "code",
   "execution_count": null,
   "id": "58cd44cb-fb88-4cac-9603-8d556baf81e2",
   "metadata": {},
   "outputs": [],
   "source": [
    "import pandas as pd"
   ]
  },
  {
   "cell_type": "code",
   "execution_count": null,
   "id": "8f8bec5b-6d17-4acf-b9ea-86501b314346",
   "metadata": {},
   "outputs": [],
   "source": [
    "url = 'https://info.skat.dk/data.aspx?oid=2276646'\n",
    "tables = pd.read_html(url, encoding='utf-8', header=0)"
   ]
  },
  {
   "cell_type": "code",
   "execution_count": null,
   "id": "909347b1-9512-421a-94c6-c4bbdb4b572e",
   "metadata": {},
   "outputs": [],
   "source": [
    "df = pd.DataFrame(tables[0])\n",
    "df.columns = ['Kommunenavn', 'muni_code', 'old_muni_code']"
   ]
  },
  {
   "cell_type": "code",
   "execution_count": null,
   "id": "9eb5a2de-768b-416c-852e-4d7844f8b1c3",
   "metadata": {},
   "outputs": [],
   "source": [
    "\n",
    "# Split digits in groups of three with a comma between them\n",
    "def split_numbers(value):\n",
    "    if isinstance(value, str) and value.isdigit():\n",
    "        return ', '.join([value[i:i+3] for i in range(0, len(value), 3)])\n",
    "    return value\n",
    "\n",
    "df['old_muni_code'] = df['old_muni_code'].apply(split_numbers)"
   ]
  },
  {
   "cell_type": "code",
   "execution_count": null,
   "id": "92dc5b3a-f968-4cbb-b5dd-a95b57e52e53",
   "metadata": {},
   "outputs": [],
   "source": [
    "df.to_csv('data.csv', index=False)"
   ]
  },
  {
   "cell_type": "code",
   "execution_count": null,
   "id": "c34b8418-b322-484d-b0ab-124b47d2b4e8",
   "metadata": {},
   "outputs": [],
   "source": [
    "# Create a new DataFrame to store the updated values\n",
    "updated_data = []\n",
    "\n",
    "# Iterate over each row in the original DataFrame\n",
    "for _, row in df.iterrows():\n",
    "    muni_code = row['muni_code']\n",
    "    old_muni_code = row['old_muni_code']\n",
    "    \n",
    "    # Add muni_code to old_muni_code if it's not NaN\n",
    "    if not pd.isna(old_muni_code):\n",
    "        old_muni_codes = old_muni_code.split(',')\n",
    "        if str(muni_code) not in old_muni_codes:\n",
    "            old_muni_codes.append(str(muni_code))\n",
    "        for code in old_muni_codes:\n",
    "            updated_data.append({'Kommunenavn': row['Kommunenavn'], 'muni_code': muni_code, 'old_muni_code': code.strip()})\n",
    "    else:\n",
    "        updated_data.append({'Kommunenavn': row['Kommunenavn'], 'muni_code': muni_code, 'old_muni_code': str(muni_code)})\n",
    "\n",
    "# Create the updated DataFrame\n",
    "updated_df = pd.DataFrame(updated_data)\n"
   ]
  },
  {
   "cell_type": "code",
   "execution_count": null,
   "id": "6f6fc442-1d11-43c3-917d-2591e5929006",
   "metadata": {},
   "outputs": [],
   "source": [
    "unique_combinations = updated_df[['muni_code', 'old_muni_code']].duplicated(keep=False)\n",
    "updated_df = updated_df[~unique_combinations]"
   ]
  },
  {
   "cell_type": "code",
   "execution_count": null,
   "id": "8273579c-0186-4bba-b5aa-e3caf16683a7",
   "metadata": {},
   "outputs": [],
   "source": [
    "updated_df"
   ]
  },
  {
   "cell_type": "code",
   "execution_count": null,
   "id": "07b718b8-29b6-41f9-9efc-98b8e115588e",
   "metadata": {},
   "outputs": [],
   "source": [
    "updated_df.to_csv('nye_og_gamle_kommuner.csv', index=False)"
   ]
  },
  {
   "cell_type": "code",
   "execution_count": null,
   "id": "2856051e-db24-4964-9736-323461312b39",
   "metadata": {},
   "outputs": [],
   "source": []
  }
 ],
 "metadata": {
  "kernelspec": {
   "display_name": "Python 3 (ipykernel)",
   "language": "python",
   "name": "python3"
  },
  "language_info": {
   "codemirror_mode": {
    "name": "ipython",
    "version": 3
   },
   "file_extension": ".py",
   "mimetype": "text/x-python",
   "name": "python",
   "nbconvert_exporter": "python",
   "pygments_lexer": "ipython3",
   "version": "3.10.4"
  }
 },
 "nbformat": 4,
 "nbformat_minor": 5
}
