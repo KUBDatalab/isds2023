{
 "cells": [
  {
   "cell_type": "code",
   "execution_count": 1,
   "id": "810dd8f7-1e82-452f-b734-7624f51c0351",
   "metadata": {},
   "outputs": [],
   "source": [
    "from pathlib import Path\n",
    "import pandas as pd\n",
    "import time\n",
    "import os\n",
    "import tqdm"
   ]
  },
  {
   "cell_type": "code",
   "execution_count": 2,
   "id": "1b08b873-3ecd-449b-b10d-28710d7f10cb",
   "metadata": {},
   "outputs": [],
   "source": [
    "# Replace 'your_file.csv' with the actual path to your CSV file\n",
    "input_fp = Path.cwd() / 'tidy_data' # path of files to be found\n",
    "\n",
    "output_fp = Path.cwd() / 'unique_data' # output path of files generated\n",
    "# Use the Path object to actually create the subfolder\n",
    "Path.mkdir(output_fp, exist_ok=True)"
   ]
  },
  {
   "cell_type": "raw",
   "id": "adfe7bd1-3f5e-4582-84c1-2c2d28a7cf4e",
   "metadata": {},
   "source": [
    "def find_matching_rows(df):\n",
    "    matching_indices = []\n",
    "\n",
    "    for index, row in df.iterrows():\n",
    "        col1_value = row['date_of_sale']\n",
    "        col2_value = row['purchase_amount']\n",
    "\n",
    "        matching_rows = df[\n",
    "            (df['date_of_sale'] == col1_value) &\n",
    "            (df['purchase_amount'] == col2_value)\n",
    "        ]\n",
    "\n",
    "        if len(matching_rows) > 1:\n",
    "            matching_indices.extend(matching_rows.index.tolist())\n",
    "\n",
    "    return matching_indices"
   ]
  },
  {
   "cell_type": "raw",
   "id": "488c764f-9e06-490c-a4eb-066d5ef22d4c",
   "metadata": {},
   "source": [
    "def find_matching_rows(df):\n",
    "    matching_indices = []\n",
    "    matched_indices = set()\n",
    "\n",
    "    for index, row in df.iterrows():\n",
    "        if index in matched_indices:\n",
    "            continue\n",
    "        \n",
    "        col1_value = row['date_of_sale']\n",
    "        col2_value = row['purchase_amount']\n",
    "\n",
    "        matching_rows = df[\n",
    "            (df['date_of_sale'] == col1_value) &\n",
    "            (df['purchase_amount'] == col2_value)\n",
    "        ]\n",
    "\n",
    "        if len(matching_rows) > 1:\n",
    "            matching_indices.extend(matching_rows.index.tolist())\n",
    "            matched_indices.update(matching_rows.index.tolist())\n",
    "            #print(matching_indices)\n",
    "\n",
    "    return matching_indices"
   ]
  },
  {
   "cell_type": "code",
   "execution_count": 3,
   "id": "622f0991-5ccf-4a70-a176-8a5fdf64a664",
   "metadata": {},
   "outputs": [],
   "source": [
    "def find_matching_rows(df):\n",
    "    grouped = df.groupby(['date_of_sale', 'purchase_amount'])\n",
    "    matching_indices = []\n",
    "\n",
    "    for _, group in grouped:\n",
    "        if len(group) > 1:\n",
    "            matching_indices.extend(group.index.tolist())\n",
    "\n",
    "    return matching_indices"
   ]
  },
  {
   "cell_type": "code",
   "execution_count": 4,
   "id": "91b0223d-64d1-4cfa-8435-bc53e0fef1f2",
   "metadata": {},
   "outputs": [
    {
     "name": "stderr",
     "output_type": "stream",
     "text": [
      "  0%|                                                                        | 0/98 [00:00<?, ?it/s]"
     ]
    },
    {
     "name": "stdout",
     "output_type": "stream",
     "text": [
      "(297624, 13)\n"
     ]
    },
    {
     "name": "stderr",
     "output_type": "stream",
     "text": [
      "  1%|▋                                                               | 1/98 [00:04<06:57,  4.31s/it]"
     ]
    },
    {
     "name": "stdout",
     "output_type": "stream",
     "text": [
      "Number of rows in tidy_sales_1992_2022_101.csv: 297624\n",
      "Number of matching rows: 82788\n",
      "Number of unique rows: 214836\n",
      "\n",
      "(56327, 13)\n"
     ]
    },
    {
     "name": "stderr",
     "output_type": "stream",
     "text": [
      "  2%|█▎                                                              | 2/98 [00:05<03:40,  2.30s/it]"
     ]
    },
    {
     "name": "stdout",
     "output_type": "stream",
     "text": [
      "Number of rows in tidy_sales_1992_2022_147.csv: 56327\n",
      "Number of matching rows: 12199\n",
      "Number of unique rows: 44128\n",
      "\n",
      "(18191, 13)\n"
     ]
    },
    {
     "name": "stderr",
     "output_type": "stream",
     "text": [
      "  4%|██▌                                                             | 4/98 [00:05<01:22,  1.14it/s]"
     ]
    },
    {
     "name": "stdout",
     "output_type": "stream",
     "text": [
      "Number of rows in tidy_sales_1992_2022_151.csv: 18191\n",
      "Number of matching rows: 5970\n",
      "Number of unique rows: 12221\n",
      "\n",
      "(9457, 13)\n",
      "Number of rows in tidy_sales_1992_2022_153.csv: 9457\n",
      "Number of matching rows: 1791\n",
      "Number of unique rows: 7666\n",
      "\n",
      "(8115, 13)\n"
     ]
    },
    {
     "name": "stderr",
     "output_type": "stream",
     "text": [
      "  5%|███▎                                                            | 5/98 [00:05<00:56,  1.63it/s]"
     ]
    },
    {
     "name": "stdout",
     "output_type": "stream",
     "text": [
      "Number of rows in tidy_sales_1992_2022_155.csv: 8115\n",
      "Number of matching rows: 640\n",
      "Number of unique rows: 7475\n",
      "\n",
      "(56459, 13)\n"
     ]
    },
    {
     "name": "stderr",
     "output_type": "stream",
     "text": [
      "  6%|███▉                                                            | 6/98 [00:06<01:04,  1.43it/s]"
     ]
    },
    {
     "name": "stdout",
     "output_type": "stream",
     "text": [
      "Number of rows in tidy_sales_1992_2022_157.csv: 56459\n",
      "Number of matching rows: 13149\n",
      "Number of unique rows: 43310\n",
      "\n",
      "(30578, 13)\n"
     ]
    },
    {
     "name": "stderr",
     "output_type": "stream",
     "text": [
      "  8%|█████▏                                                          | 8/98 [00:07<00:44,  2.03it/s]"
     ]
    },
    {
     "name": "stdout",
     "output_type": "stream",
     "text": [
      "Number of rows in tidy_sales_1992_2022_159.csv: 30578\n",
      "Number of matching rows: 4413\n",
      "Number of unique rows: 26165\n",
      "\n",
      "(9207, 13)\n",
      "Number of rows in tidy_sales_1992_2022_161.csv: 9207\n",
      "Number of matching rows: 1365\n",
      "Number of unique rows: 7842\n",
      "\n",
      "(7311, 13)\n"
     ]
    },
    {
     "name": "stderr",
     "output_type": "stream",
     "text": [
      " 10%|██████▍                                                        | 10/98 [00:07<00:26,  3.36it/s]"
     ]
    },
    {
     "name": "stdout",
     "output_type": "stream",
     "text": [
      "Number of rows in tidy_sales_1992_2022_163.csv: 7311\n",
      "Number of matching rows: 457\n",
      "Number of unique rows: 6854\n",
      "\n",
      "(7613, 13)\n",
      "Number of rows in tidy_sales_1992_2022_165.csv: 7613\n",
      "Number of matching rows: 287\n",
      "Number of unique rows: 7326\n",
      "\n",
      "(19979, 13)\n"
     ]
    },
    {
     "name": "stderr",
     "output_type": "stream",
     "text": [
      " 11%|███████                                                        | 11/98 [00:07<00:26,  3.25it/s]"
     ]
    },
    {
     "name": "stdout",
     "output_type": "stream",
     "text": [
      "Number of rows in tidy_sales_1992_2022_167.csv: 19979\n",
      "Number of matching rows: 1734\n",
      "Number of unique rows: 18245\n",
      "\n",
      "(28437, 13)\n"
     ]
    },
    {
     "name": "stderr",
     "output_type": "stream",
     "text": [
      " 12%|███████▋                                                       | 12/98 [00:08<00:32,  2.65it/s]"
     ]
    },
    {
     "name": "stdout",
     "output_type": "stream",
     "text": [
      "Number of rows in tidy_sales_1992_2022_169.csv: 28437\n",
      "Number of matching rows: 2820\n",
      "Number of unique rows: 25617\n",
      "\n",
      "(27690, 13)\n"
     ]
    },
    {
     "name": "stderr",
     "output_type": "stream",
     "text": [
      " 13%|████████▎                                                      | 13/98 [00:08<00:35,  2.38it/s]"
     ]
    },
    {
     "name": "stdout",
     "output_type": "stream",
     "text": [
      "Number of rows in tidy_sales_1992_2022_173.csv: 27690\n",
      "Number of matching rows: 3131\n",
      "Number of unique rows: 24559\n",
      "\n",
      "(18852, 13)\n"
     ]
    },
    {
     "name": "stderr",
     "output_type": "stream",
     "text": [
      " 15%|█████████▋                                                     | 15/98 [00:09<00:28,  2.94it/s]"
     ]
    },
    {
     "name": "stdout",
     "output_type": "stream",
     "text": [
      "Number of rows in tidy_sales_1992_2022_175.csv: 18852\n",
      "Number of matching rows: 3267\n",
      "Number of unique rows: 15585\n",
      "\n",
      "(8968, 13)\n",
      "Number of rows in tidy_sales_1992_2022_183.csv: 8968\n",
      "Number of matching rows: 208\n",
      "Number of unique rows: 8760\n",
      "\n",
      "(17920, 13)\n"
     ]
    },
    {
     "name": "stderr",
     "output_type": "stream",
     "text": [
      " 17%|██████████▉                                                    | 17/98 [00:09<00:22,  3.57it/s]"
     ]
    },
    {
     "name": "stdout",
     "output_type": "stream",
     "text": [
      "Number of rows in tidy_sales_1992_2022_185.csv: 17920\n",
      "Number of matching rows: 951\n",
      "Number of unique rows: 16969\n",
      "\n",
      "(10933, 13)\n",
      "Number of rows in tidy_sales_1992_2022_187.csv: 10933\n",
      "Number of matching rows: 1584\n",
      "Number of unique rows: 9349\n",
      "\n",
      "(18055, 13)\n"
     ]
    },
    {
     "name": "stderr",
     "output_type": "stream",
     "text": [
      " 19%|████████████▏                                                  | 19/98 [00:10<00:21,  3.73it/s]"
     ]
    },
    {
     "name": "stdout",
     "output_type": "stream",
     "text": [
      "Number of rows in tidy_sales_1992_2022_190.csv: 18055\n",
      "Number of matching rows: 909\n",
      "Number of unique rows: 17146\n",
      "\n",
      "(12332, 13)\n",
      "Number of rows in tidy_sales_1992_2022_201.csv: 12332\n",
      "Number of matching rows: 746\n",
      "Number of unique rows: 11586\n",
      "\n",
      "(22542, 13)\n"
     ]
    },
    {
     "name": "stderr",
     "output_type": "stream",
     "text": [
      " 20%|████████████▊                                                  | 20/98 [00:10<00:24,  3.13it/s]"
     ]
    },
    {
     "name": "stdout",
     "output_type": "stream",
     "text": [
      "Number of rows in tidy_sales_1992_2022_210.csv: 22542\n",
      "Number of matching rows: 1419\n",
      "Number of unique rows: 21123\n",
      "\n",
      "(36523, 13)\n"
     ]
    },
    {
     "name": "stderr",
     "output_type": "stream",
     "text": [
      " 21%|█████████████▌                                                 | 21/98 [00:11<00:30,  2.54it/s]"
     ]
    },
    {
     "name": "stdout",
     "output_type": "stream",
     "text": [
      "Number of rows in tidy_sales_1992_2022_217.csv: 36523\n",
      "Number of matching rows: 5704\n",
      "Number of unique rows: 30819\n",
      "\n",
      "(27576, 13)\n"
     ]
    },
    {
     "name": "stderr",
     "output_type": "stream",
     "text": [
      " 22%|██████████████▏                                                | 22/98 [00:11<00:32,  2.37it/s]"
     ]
    },
    {
     "name": "stdout",
     "output_type": "stream",
     "text": [
      "Number of rows in tidy_sales_1992_2022_219.csv: 27576\n",
      "Number of matching rows: 4844\n",
      "Number of unique rows: 22732\n",
      "\n",
      "(15326, 13)\n"
     ]
    },
    {
     "name": "stderr",
     "output_type": "stream",
     "text": [
      " 23%|██████████████▊                                                | 23/98 [00:12<00:27,  2.72it/s]"
     ]
    },
    {
     "name": "stdout",
     "output_type": "stream",
     "text": [
      "Number of rows in tidy_sales_1992_2022_223.csv: 15326\n",
      "Number of matching rows: 1565\n",
      "Number of unique rows: 13761\n",
      "\n",
      "(32915, 13)\n"
     ]
    },
    {
     "name": "stderr",
     "output_type": "stream",
     "text": [
      " 24%|███████████████▍                                               | 24/98 [00:12<00:31,  2.34it/s]"
     ]
    },
    {
     "name": "stdout",
     "output_type": "stream",
     "text": [
      "Number of rows in tidy_sales_1992_2022_230.csv: 32915\n",
      "Number of matching rows: 2634\n",
      "Number of unique rows: 30281\n",
      "\n",
      "(23045, 13)\n"
     ]
    },
    {
     "name": "stderr",
     "output_type": "stream",
     "text": [
      " 26%|████████████████                                               | 25/98 [00:13<00:30,  2.37it/s]"
     ]
    },
    {
     "name": "stdout",
     "output_type": "stream",
     "text": [
      "Number of rows in tidy_sales_1992_2022_240.csv: 23045\n",
      "Number of matching rows: 1603\n",
      "Number of unique rows: 21442\n",
      "\n",
      "(23577, 13)\n"
     ]
    },
    {
     "name": "stderr",
     "output_type": "stream",
     "text": [
      " 27%|████████████████▋                                              | 26/98 [00:13<00:29,  2.41it/s]"
     ]
    },
    {
     "name": "stdout",
     "output_type": "stream",
     "text": [
      "Number of rows in tidy_sales_1992_2022_250.csv: 23577\n",
      "Number of matching rows: 3348\n",
      "Number of unique rows: 20229\n",
      "\n",
      "(25561, 13)\n"
     ]
    },
    {
     "name": "stderr",
     "output_type": "stream",
     "text": [
      " 28%|█████████████████▎                                             | 27/98 [00:14<00:30,  2.31it/s]"
     ]
    },
    {
     "name": "stdout",
     "output_type": "stream",
     "text": [
      "Number of rows in tidy_sales_1992_2022_253.csv: 25561\n",
      "Number of matching rows: 3355\n",
      "Number of unique rows: 22206\n",
      "\n",
      "(29250, 13)\n"
     ]
    },
    {
     "name": "stderr",
     "output_type": "stream",
     "text": [
      " 29%|██████████████████                                             | 28/98 [00:14<00:31,  2.21it/s]"
     ]
    },
    {
     "name": "stdout",
     "output_type": "stream",
     "text": [
      "Number of rows in tidy_sales_1992_2022_259.csv: 29250\n",
      "Number of matching rows: 3272\n",
      "Number of unique rows: 25978\n",
      "\n",
      "(16817, 13)\n"
     ]
    },
    {
     "name": "stderr",
     "output_type": "stream",
     "text": [
      " 30%|██████████████████▋                                            | 29/98 [00:14<00:27,  2.48it/s]"
     ]
    },
    {
     "name": "stdout",
     "output_type": "stream",
     "text": [
      "Number of rows in tidy_sales_1992_2022_260.csv: 16817\n",
      "Number of matching rows: 2070\n",
      "Number of unique rows: 14747\n",
      "\n",
      "(47446, 13)\n"
     ]
    },
    {
     "name": "stderr",
     "output_type": "stream",
     "text": [
      " 31%|███████████████████▎                                           | 30/98 [00:15<00:35,  1.92it/s]"
     ]
    },
    {
     "name": "stdout",
     "output_type": "stream",
     "text": [
      "Number of rows in tidy_sales_1992_2022_265.csv: 47446\n",
      "Number of matching rows: 7480\n",
      "Number of unique rows: 39966\n",
      "\n",
      "(14714, 13)\n"
     ]
    },
    {
     "name": "stderr",
     "output_type": "stream",
     "text": [
      " 32%|███████████████████▉                                           | 31/98 [00:15<00:29,  2.26it/s]"
     ]
    },
    {
     "name": "stdout",
     "output_type": "stream",
     "text": [
      "Number of rows in tidy_sales_1992_2022_269.csv: 14714\n",
      "Number of matching rows: 1489\n",
      "Number of unique rows: 13225\n",
      "\n",
      "(22753, 13)\n"
     ]
    },
    {
     "name": "stderr",
     "output_type": "stream",
     "text": [
      " 33%|████████████████████▌                                          | 32/98 [00:16<00:28,  2.35it/s]"
     ]
    },
    {
     "name": "stdout",
     "output_type": "stream",
     "text": [
      "Number of rows in tidy_sales_1992_2022_270.csv: 22753\n",
      "Number of matching rows: 3116\n",
      "Number of unique rows: 19637\n",
      "\n",
      "(20082, 13)\n"
     ]
    },
    {
     "name": "stderr",
     "output_type": "stream",
     "text": [
      " 34%|█████████████████████▏                                         | 33/98 [00:16<00:26,  2.48it/s]"
     ]
    },
    {
     "name": "stdout",
     "output_type": "stream",
     "text": [
      "Number of rows in tidy_sales_1992_2022_306.csv: 20082\n",
      "Number of matching rows: 3572\n",
      "Number of unique rows: 16510\n",
      "\n",
      "(40005, 13)\n"
     ]
    },
    {
     "name": "stderr",
     "output_type": "stream",
     "text": [
      " 35%|█████████████████████▊                                         | 34/98 [00:17<00:31,  2.06it/s]"
     ]
    },
    {
     "name": "stdout",
     "output_type": "stream",
     "text": [
      "Number of rows in tidy_sales_1992_2022_316.csv: 40005\n",
      "Number of matching rows: 8413\n",
      "Number of unique rows: 31592\n",
      "\n",
      "(22207, 13)\n"
     ]
    },
    {
     "name": "stderr",
     "output_type": "stream",
     "text": [
      " 36%|██████████████████████▌                                        | 35/98 [00:17<00:28,  2.24it/s]"
     ]
    },
    {
     "name": "stdout",
     "output_type": "stream",
     "text": [
      "Number of rows in tidy_sales_1992_2022_320.csv: 22207\n",
      "Number of matching rows: 3765\n",
      "Number of unique rows: 18442\n",
      "\n",
      "(29496, 13)\n"
     ]
    },
    {
     "name": "stderr",
     "output_type": "stream",
     "text": [
      " 37%|███████████████████████▏                                       | 36/98 [00:18<00:28,  2.14it/s]"
     ]
    },
    {
     "name": "stdout",
     "output_type": "stream",
     "text": [
      "Number of rows in tidy_sales_1992_2022_326.csv: 29496\n",
      "Number of matching rows: 5075\n",
      "Number of unique rows: 24421\n",
      "\n",
      "(19263, 13)\n"
     ]
    },
    {
     "name": "stderr",
     "output_type": "stream",
     "text": [
      " 38%|███████████████████████▊                                       | 37/98 [00:18<00:25,  2.38it/s]"
     ]
    },
    {
     "name": "stdout",
     "output_type": "stream",
     "text": [
      "Number of rows in tidy_sales_1992_2022_329.csv: 19263\n",
      "Number of matching rows: 3670\n",
      "Number of unique rows: 15593\n",
      "\n",
      "(49930, 13)\n"
     ]
    },
    {
     "name": "stderr",
     "output_type": "stream",
     "text": [
      " 39%|████████████████████████▍                                      | 38/98 [00:19<00:30,  1.94it/s]"
     ]
    },
    {
     "name": "stdout",
     "output_type": "stream",
     "text": [
      "Number of rows in tidy_sales_1992_2022_330.csv: 49930\n",
      "Number of matching rows: 14891\n",
      "Number of unique rows: 35039\n",
      "\n",
      "(14017, 13)\n"
     ]
    },
    {
     "name": "stderr",
     "output_type": "stream",
     "text": [
      " 40%|█████████████████████████                                      | 39/98 [00:19<00:25,  2.29it/s]"
     ]
    },
    {
     "name": "stdout",
     "output_type": "stream",
     "text": [
      "Number of rows in tidy_sales_1992_2022_336.csv: 14017\n",
      "Number of matching rows: 1994\n",
      "Number of unique rows: 12023\n",
      "\n",
      "(19098, 13)\n"
     ]
    },
    {
     "name": "stderr",
     "output_type": "stream",
     "text": [
      " 41%|█████████████████████████▋                                     | 40/98 [00:19<00:22,  2.55it/s]"
     ]
    },
    {
     "name": "stdout",
     "output_type": "stream",
     "text": [
      "Number of rows in tidy_sales_1992_2022_340.csv: 19098\n",
      "Number of matching rows: 4311\n",
      "Number of unique rows: 14787\n",
      "\n",
      "(13663, 13)\n"
     ]
    },
    {
     "name": "stderr",
     "output_type": "stream",
     "text": [
      " 42%|██████████████████████████▎                                    | 41/98 [00:19<00:19,  2.89it/s]"
     ]
    },
    {
     "name": "stdout",
     "output_type": "stream",
     "text": [
      "Number of rows in tidy_sales_1992_2022_350.csv: 13663\n",
      "Number of matching rows: 1233\n",
      "Number of unique rows: 12430\n",
      "\n",
      "(30435, 13)\n"
     ]
    },
    {
     "name": "stderr",
     "output_type": "stream",
     "text": [
      " 43%|███████████████████████████                                    | 42/98 [00:20<00:21,  2.55it/s]"
     ]
    },
    {
     "name": "stdout",
     "output_type": "stream",
     "text": [
      "Number of rows in tidy_sales_1992_2022_360.csv: 30435\n",
      "Number of matching rows: 4373\n",
      "Number of unique rows: 26062\n",
      "\n",
      "(48189, 13)\n"
     ]
    },
    {
     "name": "stderr",
     "output_type": "stream",
     "text": [
      " 44%|███████████████████████████▋                                   | 43/98 [00:21<00:28,  1.92it/s]"
     ]
    },
    {
     "name": "stdout",
     "output_type": "stream",
     "text": [
      "Number of rows in tidy_sales_1992_2022_370.csv: 48189\n",
      "Number of matching rows: 7390\n",
      "Number of unique rows: 40799\n",
      "\n",
      "(41517, 13)\n"
     ]
    },
    {
     "name": "stderr",
     "output_type": "stream",
     "text": [
      " 45%|████████████████████████████▎                                  | 44/98 [00:21<00:30,  1.77it/s]"
     ]
    },
    {
     "name": "stdout",
     "output_type": "stream",
     "text": [
      "Number of rows in tidy_sales_1992_2022_376.csv: 41517\n",
      "Number of matching rows: 6831\n",
      "Number of unique rows: 34686\n",
      "\n",
      "(31615, 13)\n"
     ]
    },
    {
     "name": "stderr",
     "output_type": "stream",
     "text": [
      " 46%|████████████████████████████▉                                  | 45/98 [00:22<00:28,  1.83it/s]"
     ]
    },
    {
     "name": "stdout",
     "output_type": "stream",
     "text": [
      "Number of rows in tidy_sales_1992_2022_390.csv: 31615\n",
      "Number of matching rows: 6356\n",
      "Number of unique rows: 25259\n",
      "\n",
      "(25644, 13)\n"
     ]
    },
    {
     "name": "stderr",
     "output_type": "stream",
     "text": [
      " 47%|█████████████████████████████▌                                 | 46/98 [00:22<00:26,  1.95it/s]"
     ]
    },
    {
     "name": "stdout",
     "output_type": "stream",
     "text": [
      "Number of rows in tidy_sales_1992_2022_400.csv: 25644\n",
      "Number of matching rows: 2557\n",
      "Number of unique rows: 23087\n",
      "\n",
      "(24561, 13)\n"
     ]
    },
    {
     "name": "stderr",
     "output_type": "stream",
     "text": [
      " 48%|██████████████████████████████▏                                | 47/98 [00:23<00:24,  2.11it/s]"
     ]
    },
    {
     "name": "stdout",
     "output_type": "stream",
     "text": [
      "Number of rows in tidy_sales_1992_2022_410.csv: 24561\n",
      "Number of matching rows: 4967\n",
      "Number of unique rows: 19594\n",
      "\n",
      "(25835, 13)\n"
     ]
    },
    {
     "name": "stderr",
     "output_type": "stream",
     "text": [
      " 49%|██████████████████████████████▊                                | 48/98 [00:23<00:23,  2.11it/s]"
     ]
    },
    {
     "name": "stdout",
     "output_type": "stream",
     "text": [
      "Number of rows in tidy_sales_1992_2022_420.csv: 25835\n",
      "Number of matching rows: 5045\n",
      "Number of unique rows: 20790\n",
      "\n",
      "(30803, 13)\n"
     ]
    },
    {
     "name": "stderr",
     "output_type": "stream",
     "text": [
      " 50%|███████████████████████████████▌                               | 49/98 [00:24<00:23,  2.07it/s]"
     ]
    },
    {
     "name": "stdout",
     "output_type": "stream",
     "text": [
      "Number of rows in tidy_sales_1992_2022_430.csv: 30803\n",
      "Number of matching rows: 5393\n",
      "Number of unique rows: 25410\n",
      "\n",
      "(12541, 13)\n"
     ]
    },
    {
     "name": "stderr",
     "output_type": "stream",
     "text": [
      " 51%|████████████████████████████████▏                              | 50/98 [00:24<00:19,  2.48it/s]"
     ]
    },
    {
     "name": "stdout",
     "output_type": "stream",
     "text": [
      "Number of rows in tidy_sales_1992_2022_440.csv: 12541\n",
      "Number of matching rows: 2650\n",
      "Number of unique rows: 9891\n",
      "\n",
      "(18398, 13)\n"
     ]
    },
    {
     "name": "stderr",
     "output_type": "stream",
     "text": [
      " 52%|████████████████████████████████▊                              | 51/98 [00:24<00:16,  2.78it/s]"
     ]
    },
    {
     "name": "stdout",
     "output_type": "stream",
     "text": [
      "Number of rows in tidy_sales_1992_2022_450.csv: 18398\n",
      "Number of matching rows: 3654\n",
      "Number of unique rows: 14744\n",
      "\n",
      "(113911, 13)\n"
     ]
    },
    {
     "name": "stderr",
     "output_type": "stream",
     "text": [
      " 53%|█████████████████████████████████▍                             | 52/98 [00:26<00:32,  1.40it/s]"
     ]
    },
    {
     "name": "stdout",
     "output_type": "stream",
     "text": [
      "Number of rows in tidy_sales_1992_2022_461.csv: 113911\n",
      "Number of matching rows: 37011\n",
      "Number of unique rows: 76900\n",
      "\n",
      "(35586, 13)\n"
     ]
    },
    {
     "name": "stderr",
     "output_type": "stream",
     "text": [
      " 54%|██████████████████████████████████                             | 53/98 [00:26<00:29,  1.50it/s]"
     ]
    },
    {
     "name": "stdout",
     "output_type": "stream",
     "text": [
      "Number of rows in tidy_sales_1992_2022_479.csv: 35586\n",
      "Number of matching rows: 8347\n",
      "Number of unique rows: 27239\n",
      "\n",
      "(17412, 13)\n"
     ]
    },
    {
     "name": "stderr",
     "output_type": "stream",
     "text": [
      " 56%|███████████████████████████████████▎                           | 55/98 [00:27<00:18,  2.27it/s]"
     ]
    },
    {
     "name": "stdout",
     "output_type": "stream",
     "text": [
      "Number of rows in tidy_sales_1992_2022_480.csv: 17412\n",
      "Number of matching rows: 2506\n",
      "Number of unique rows: 14906\n",
      "\n",
      "(11302, 13)\n",
      "Number of rows in tidy_sales_1992_2022_482.csv: 11302\n",
      "Number of matching rows: 1738\n",
      "Number of unique rows: 9564\n",
      "\n",
      "(6389, 13)\n"
     ]
    },
    {
     "name": "stderr",
     "output_type": "stream",
     "text": [
      " 57%|████████████████████████████████████                           | 56/98 [00:27<00:14,  2.94it/s]"
     ]
    },
    {
     "name": "stdout",
     "output_type": "stream",
     "text": [
      "Number of rows in tidy_sales_1992_2022_492.csv: 6389\n",
      "Number of matching rows: 699\n",
      "Number of unique rows: 5690\n",
      "\n",
      "(33784, 13)\n"
     ]
    },
    {
     "name": "stderr",
     "output_type": "stream",
     "text": [
      " 58%|████████████████████████████████████▋                          | 57/98 [00:27<00:15,  2.62it/s]"
     ]
    },
    {
     "name": "stdout",
     "output_type": "stream",
     "text": [
      "Number of rows in tidy_sales_1992_2022_510.csv: 33784\n",
      "Number of matching rows: 10556\n",
      "Number of unique rows: 23228\n",
      "\n",
      "(15569, 13)\n"
     ]
    },
    {
     "name": "stderr",
     "output_type": "stream",
     "text": [
      " 59%|█████████████████████████████████████▎                         | 58/98 [00:28<00:13,  2.89it/s]"
     ]
    },
    {
     "name": "stdout",
     "output_type": "stream",
     "text": [
      "Number of rows in tidy_sales_1992_2022_530.csv: 15569\n",
      "Number of matching rows: 2652\n",
      "Number of unique rows: 12917\n",
      "\n",
      "(38795, 13)\n"
     ]
    },
    {
     "name": "stderr",
     "output_type": "stream",
     "text": [
      " 60%|█████████████████████████████████████▉                         | 59/98 [00:28<00:16,  2.37it/s]"
     ]
    },
    {
     "name": "stdout",
     "output_type": "stream",
     "text": [
      "Number of rows in tidy_sales_1992_2022_540.csv: 38795\n",
      "Number of matching rows: 8739\n",
      "Number of unique rows: 30056\n",
      "\n",
      "(23490, 13)\n"
     ]
    },
    {
     "name": "stderr",
     "output_type": "stream",
     "text": [
      " 61%|██████████████████████████████████████▌                        | 60/98 [00:29<00:15,  2.48it/s]"
     ]
    },
    {
     "name": "stdout",
     "output_type": "stream",
     "text": [
      "Number of rows in tidy_sales_1992_2022_550.csv: 23490\n",
      "Number of matching rows: 5440\n",
      "Number of unique rows: 18050\n",
      "\n",
      "(64520, 13)\n"
     ]
    },
    {
     "name": "stderr",
     "output_type": "stream",
     "text": [
      " 62%|███████████████████████████████████████▏                       | 61/98 [00:30<00:20,  1.77it/s]"
     ]
    },
    {
     "name": "stdout",
     "output_type": "stream",
     "text": [
      "Number of rows in tidy_sales_1992_2022_561.csv: 64520\n",
      "Number of matching rows: 15025\n",
      "Number of unique rows: 49495\n",
      "\n",
      "(2286, 13)\n",
      "Number of rows in tidy_sales_1992_2022_563.csv: 2286\n",
      "Number of matching rows: 253\n",
      "Number of unique rows: 2033\n",
      "\n",
      "(27225, 13)\n"
     ]
    },
    {
     "name": "stderr",
     "output_type": "stream",
     "text": [
      " 64%|████████████████████████████████████████▌                      | 63/98 [00:30<00:14,  2.34it/s]"
     ]
    },
    {
     "name": "stdout",
     "output_type": "stream",
     "text": [
      "Number of rows in tidy_sales_1992_2022_573.csv: 27225\n",
      "Number of matching rows: 3945\n",
      "Number of unique rows: 23280\n",
      "\n",
      "(24550, 13)\n"
     ]
    },
    {
     "name": "stderr",
     "output_type": "stream",
     "text": [
      " 65%|█████████████████████████████████████████▏                     | 64/98 [00:31<00:14,  2.31it/s]"
     ]
    },
    {
     "name": "stdout",
     "output_type": "stream",
     "text": [
      "Number of rows in tidy_sales_1992_2022_575.csv: 24550\n",
      "Number of matching rows: 4084\n",
      "Number of unique rows: 20466\n",
      "\n",
      "(33994, 13)\n"
     ]
    },
    {
     "name": "stderr",
     "output_type": "stream",
     "text": [
      " 66%|█████████████████████████████████████████▊                     | 65/98 [00:31<00:15,  2.19it/s]"
     ]
    },
    {
     "name": "stdout",
     "output_type": "stream",
     "text": [
      "Number of rows in tidy_sales_1992_2022_580.csv: 33994\n",
      "Number of matching rows: 7656\n",
      "Number of unique rows: 26338\n",
      "\n",
      "(30956, 13)\n"
     ]
    },
    {
     "name": "stderr",
     "output_type": "stream",
     "text": [
      " 67%|██████████████████████████████████████████▍                    | 66/98 [00:32<00:15,  2.09it/s]"
     ]
    },
    {
     "name": "stdout",
     "output_type": "stream",
     "text": [
      "Number of rows in tidy_sales_1992_2022_607.csv: 30956\n",
      "Number of matching rows: 9545\n",
      "Number of unique rows: 21411\n",
      "\n",
      "(57306, 13)\n"
     ]
    },
    {
     "name": "stderr",
     "output_type": "stream",
     "text": [
      " 68%|███████████████████████████████████████████                    | 67/98 [00:32<00:18,  1.72it/s]"
     ]
    },
    {
     "name": "stdout",
     "output_type": "stream",
     "text": [
      "Number of rows in tidy_sales_1992_2022_615.csv: 57306\n",
      "Number of matching rows: 15857\n",
      "Number of unique rows: 41449\n",
      "\n",
      "(55384, 13)\n"
     ]
    },
    {
     "name": "stderr",
     "output_type": "stream",
     "text": [
      " 69%|███████████████████████████████████████████▋                   | 68/98 [00:33<00:19,  1.54it/s]"
     ]
    },
    {
     "name": "stdout",
     "output_type": "stream",
     "text": [
      "Number of rows in tidy_sales_1992_2022_621.csv: 55384\n",
      "Number of matching rows: 14846\n",
      "Number of unique rows: 40538\n",
      "\n",
      "(69843, 13)\n"
     ]
    },
    {
     "name": "stderr",
     "output_type": "stream",
     "text": [
      " 70%|████████████████████████████████████████████▎                  | 69/98 [00:34<00:21,  1.34it/s]"
     ]
    },
    {
     "name": "stdout",
     "output_type": "stream",
     "text": [
      "Number of rows in tidy_sales_1992_2022_630.csv: 69843\n",
      "Number of matching rows: 20444\n",
      "Number of unique rows: 49399\n",
      "\n",
      "(50205, 13)\n"
     ]
    },
    {
     "name": "stderr",
     "output_type": "stream",
     "text": [
      " 71%|█████████████████████████████████████████████                  | 70/98 [00:35<00:21,  1.33it/s]"
     ]
    },
    {
     "name": "stdout",
     "output_type": "stream",
     "text": [
      "Number of rows in tidy_sales_1992_2022_657.csv: 50205\n",
      "Number of matching rows: 11318\n",
      "Number of unique rows: 38887\n",
      "\n",
      "(34380, 13)\n"
     ]
    },
    {
     "name": "stderr",
     "output_type": "stream",
     "text": [
      " 72%|█████████████████████████████████████████████▋                 | 71/98 [00:36<00:18,  1.42it/s]"
     ]
    },
    {
     "name": "stdout",
     "output_type": "stream",
     "text": [
      "Number of rows in tidy_sales_1992_2022_661.csv: 34380\n",
      "Number of matching rows: 5869\n",
      "Number of unique rows: 28511\n",
      "\n",
      "(12568, 13)\n"
     ]
    },
    {
     "name": "stderr",
     "output_type": "stream",
     "text": [
      " 74%|██████████████████████████████████████████████▉                | 73/98 [00:36<00:11,  2.23it/s]"
     ]
    },
    {
     "name": "stdout",
     "output_type": "stream",
     "text": [
      "Number of rows in tidy_sales_1992_2022_665.csv: 12568\n",
      "Number of matching rows: 2090\n",
      "Number of unique rows: 10478\n",
      "\n",
      "(12693, 13)\n",
      "Number of rows in tidy_sales_1992_2022_671.csv: 12693\n",
      "Number of matching rows: 2354\n",
      "Number of unique rows: 10339\n",
      "\n",
      "(25833, 13)\n"
     ]
    },
    {
     "name": "stderr",
     "output_type": "stream",
     "text": [
      " 76%|███████████████████████████████████████████████▌               | 74/98 [00:36<00:10,  2.21it/s]"
     ]
    },
    {
     "name": "stdout",
     "output_type": "stream",
     "text": [
      "Number of rows in tidy_sales_1992_2022_706.csv: 25833\n",
      "Number of matching rows: 3864\n",
      "Number of unique rows: 21969\n",
      "\n",
      "(22835, 13)\n"
     ]
    },
    {
     "name": "stderr",
     "output_type": "stream",
     "text": [
      " 77%|████████████████████████████████████████████████▏              | 75/98 [00:37<00:09,  2.33it/s]"
     ]
    },
    {
     "name": "stdout",
     "output_type": "stream",
     "text": [
      "Number of rows in tidy_sales_1992_2022_707.csv: 22835\n",
      "Number of matching rows: 4197\n",
      "Number of unique rows: 18638\n",
      "\n",
      "(27025, 13)\n"
     ]
    },
    {
     "name": "stderr",
     "output_type": "stream",
     "text": [
      " 79%|█████████████████████████████████████████████████▌             | 77/98 [00:38<00:07,  2.69it/s]"
     ]
    },
    {
     "name": "stdout",
     "output_type": "stream",
     "text": [
      "Number of rows in tidy_sales_1992_2022_710.csv: 27025\n",
      "Number of matching rows: 3343\n",
      "Number of unique rows: 23682\n",
      "\n",
      "(13506, 13)\n",
      "Number of rows in tidy_sales_1992_2022_727.csv: 13506\n",
      "Number of matching rows: 2013\n",
      "Number of unique rows: 11493\n",
      "\n",
      "(64035, 13)\n"
     ]
    },
    {
     "name": "stderr",
     "output_type": "stream",
     "text": [
      " 80%|██████████████████████████████████████████████████▏            | 78/98 [00:39<00:11,  1.78it/s]"
     ]
    },
    {
     "name": "stdout",
     "output_type": "stream",
     "text": [
      "Number of rows in tidy_sales_1992_2022_730.csv: 64035\n",
      "Number of matching rows: 15682\n",
      "Number of unique rows: 48353\n",
      "\n",
      "(51936, 13)\n"
     ]
    },
    {
     "name": "stderr",
     "output_type": "stream",
     "text": [
      " 81%|██████████████████████████████████████████████████▊            | 79/98 [00:39<00:12,  1.58it/s]"
     ]
    },
    {
     "name": "stdout",
     "output_type": "stream",
     "text": [
      "Number of rows in tidy_sales_1992_2022_740.csv: 51936\n",
      "Number of matching rows: 10461\n",
      "Number of unique rows: 41475\n",
      "\n",
      "(4333, 13)\n",
      "Number of rows in tidy_sales_1992_2022_741.csv: 4333\n",
      "Number of matching rows: 802\n",
      "Number of unique rows: 3531\n",
      "\n",
      "(35112, 13)\n"
     ]
    },
    {
     "name": "stderr",
     "output_type": "stream",
     "text": [
      " 83%|████████████████████████████████████████████████████           | 81/98 [00:40<00:08,  2.04it/s]"
     ]
    },
    {
     "name": "stdout",
     "output_type": "stream",
     "text": [
      "Number of rows in tidy_sales_1992_2022_746.csv: 35112\n",
      "Number of matching rows: 4239\n",
      "Number of unique rows: 30873\n",
      "\n",
      "(193113, 13)\n"
     ]
    },
    {
     "name": "stderr",
     "output_type": "stream",
     "text": [
      " 84%|████████████████████████████████████████████████████▋          | 82/98 [00:43<00:16,  1.01s/it]"
     ]
    },
    {
     "name": "stdout",
     "output_type": "stream",
     "text": [
      "Number of rows in tidy_sales_1992_2022_751.csv: 193113\n",
      "Number of matching rows: 55769\n",
      "Number of unique rows: 137344\n",
      "\n",
      "(25118, 13)\n"
     ]
    },
    {
     "name": "stderr",
     "output_type": "stream",
     "text": [
      " 85%|█████████████████████████████████████████████████████▎         | 83/98 [00:43<00:12,  1.18it/s]"
     ]
    },
    {
     "name": "stdout",
     "output_type": "stream",
     "text": [
      "Number of rows in tidy_sales_1992_2022_756.csv: 25118\n",
      "Number of matching rows: 4843\n",
      "Number of unique rows: 20275\n",
      "\n",
      "(32556, 13)\n"
     ]
    },
    {
     "name": "stderr",
     "output_type": "stream",
     "text": [
      " 86%|██████████████████████████████████████████████████████         | 84/98 [00:44<00:10,  1.32it/s]"
     ]
    },
    {
     "name": "stdout",
     "output_type": "stream",
     "text": [
      "Number of rows in tidy_sales_1992_2022_760.csv: 32556\n",
      "Number of matching rows: 4786\n",
      "Number of unique rows: 27770\n",
      "\n",
      "(29934, 13)\n"
     ]
    },
    {
     "name": "stderr",
     "output_type": "stream",
     "text": [
      " 87%|██████████████████████████████████████████████████████▋        | 85/98 [00:44<00:09,  1.44it/s]"
     ]
    },
    {
     "name": "stdout",
     "output_type": "stream",
     "text": [
      "Number of rows in tidy_sales_1992_2022_766.csv: 29934\n",
      "Number of matching rows: 4410\n",
      "Number of unique rows: 25524\n",
      "\n",
      "(13567, 13)\n"
     ]
    },
    {
     "name": "stderr",
     "output_type": "stream",
     "text": [
      " 88%|███████████████████████████████████████████████████████▎       | 86/98 [00:44<00:06,  1.80it/s]"
     ]
    },
    {
     "name": "stdout",
     "output_type": "stream",
     "text": [
      "Number of rows in tidy_sales_1992_2022_773.csv: 13567\n",
      "Number of matching rows: 2341\n",
      "Number of unique rows: 11226\n",
      "\n",
      "(26152, 13)\n"
     ]
    },
    {
     "name": "stderr",
     "output_type": "stream",
     "text": [
      " 89%|███████████████████████████████████████████████████████▉       | 87/98 [00:45<00:05,  1.91it/s]"
     ]
    },
    {
     "name": "stdout",
     "output_type": "stream",
     "text": [
      "Number of rows in tidy_sales_1992_2022_779.csv: 26152\n",
      "Number of matching rows: 5719\n",
      "Number of unique rows: 20433\n",
      "\n",
      "(28038, 13)\n"
     ]
    },
    {
     "name": "stderr",
     "output_type": "stream",
     "text": [
      " 90%|████████████████████████████████████████████████████████▌      | 88/98 [00:45<00:05,  1.95it/s]"
     ]
    },
    {
     "name": "stdout",
     "output_type": "stream",
     "text": [
      "Number of rows in tidy_sales_1992_2022_787.csv: 28038\n",
      "Number of matching rows: 4543\n",
      "Number of unique rows: 23495\n",
      "\n",
      "(55286, 13)\n"
     ]
    },
    {
     "name": "stderr",
     "output_type": "stream",
     "text": [
      " 91%|█████████████████████████████████████████████████████████▏     | 89/98 [00:46<00:05,  1.67it/s]"
     ]
    },
    {
     "name": "stdout",
     "output_type": "stream",
     "text": [
      "Number of rows in tidy_sales_1992_2022_791.csv: 55286\n",
      "Number of matching rows: 11068\n",
      "Number of unique rows: 44218\n",
      "\n",
      "(22423, 13)\n"
     ]
    },
    {
     "name": "stderr",
     "output_type": "stream",
     "text": [
      " 92%|█████████████████████████████████████████████████████████▊     | 90/98 [00:46<00:04,  1.82it/s]"
     ]
    },
    {
     "name": "stdout",
     "output_type": "stream",
     "text": [
      "Number of rows in tidy_sales_1992_2022_810.csv: 22423\n",
      "Number of matching rows: 4969\n",
      "Number of unique rows: 17454\n",
      "\n",
      "(37590, 13)\n"
     ]
    },
    {
     "name": "stderr",
     "output_type": "stream",
     "text": [
      " 93%|██████████████████████████████████████████████████████████▌    | 91/98 [00:47<00:03,  1.75it/s]"
     ]
    },
    {
     "name": "stdout",
     "output_type": "stream",
     "text": [
      "Number of rows in tidy_sales_1992_2022_813.csv: 37590\n",
      "Number of matching rows: 7821\n",
      "Number of unique rows: 29769\n",
      "\n",
      "(23307, 13)\n"
     ]
    },
    {
     "name": "stderr",
     "output_type": "stream",
     "text": [
      " 94%|███████████████████████████████████████████████████████████▏   | 92/98 [00:47<00:03,  1.95it/s]"
     ]
    },
    {
     "name": "stdout",
     "output_type": "stream",
     "text": [
      "Number of rows in tidy_sales_1992_2022_820.csv: 23307\n",
      "Number of matching rows: 5346\n",
      "Number of unique rows: 17961\n",
      "\n",
      "(1722, 13)\n",
      "Number of rows in tidy_sales_1992_2022_825.csv: 1722\n",
      "Number of matching rows: 235\n",
      "Number of unique rows: 1487\n",
      "\n",
      "(17164, 13)\n"
     ]
    },
    {
     "name": "stderr",
     "output_type": "stream",
     "text": [
      " 96%|████████████████████████████████████████████████████████████▍  | 94/98 [00:48<00:01,  2.82it/s]"
     ]
    },
    {
     "name": "stdout",
     "output_type": "stream",
     "text": [
      "Number of rows in tidy_sales_1992_2022_840.csv: 17164\n",
      "Number of matching rows: 2024\n",
      "Number of unique rows: 15140\n",
      "\n",
      "(27197, 13)\n"
     ]
    },
    {
     "name": "stderr",
     "output_type": "stream",
     "text": [
      " 97%|█████████████████████████████████████████████████████████████  | 95/98 [00:48<00:01,  2.73it/s]"
     ]
    },
    {
     "name": "stdout",
     "output_type": "stream",
     "text": [
      "Number of rows in tidy_sales_1992_2022_846.csv: 27197\n",
      "Number of matching rows: 6883\n",
      "Number of unique rows: 20314\n",
      "\n",
      "(25821, 13)\n"
     ]
    },
    {
     "name": "stderr",
     "output_type": "stream",
     "text": [
      " 98%|█████████████████████████████████████████████████████████████▋ | 96/98 [00:49<00:00,  2.57it/s]"
     ]
    },
    {
     "name": "stdout",
     "output_type": "stream",
     "text": [
      "Number of rows in tidy_sales_1992_2022_849.csv: 25821\n",
      "Number of matching rows: 3948\n",
      "Number of unique rows: 21873\n",
      "\n",
      "(131115, 13)\n"
     ]
    },
    {
     "name": "stderr",
     "output_type": "stream",
     "text": [
      " 99%|██████████████████████████████████████████████████████████████▎| 97/98 [00:50<00:00,  1.29it/s]"
     ]
    },
    {
     "name": "stdout",
     "output_type": "stream",
     "text": [
      "Number of rows in tidy_sales_1992_2022_851.csv: 131115\n",
      "Number of matching rows: 36905\n",
      "Number of unique rows: 94210\n",
      "\n",
      "(41978, 13)\n"
     ]
    },
    {
     "name": "stderr",
     "output_type": "stream",
     "text": [
      "100%|███████████████████████████████████████████████████████████████| 98/98 [00:51<00:00,  1.90it/s]"
     ]
    },
    {
     "name": "stdout",
     "output_type": "stream",
     "text": [
      "Number of rows in tidy_sales_1992_2022_860.csv: 41978\n",
      "Number of matching rows: 9402\n",
      "Number of unique rows: 32576\n",
      "\n",
      "Runtime: 51.593843936920166\n"
     ]
    },
    {
     "name": "stderr",
     "output_type": "stream",
     "text": [
      "\n"
     ]
    }
   ],
   "source": [
    "start_time = time.time()\n",
    "\n",
    "# Iterate through log files in the folder\n",
    "for filename in tqdm.tqdm(sorted(os.listdir(input_fp))):\n",
    "    if filename.startswith('tidy_sales_1992_2022_') and filename.endswith('.csv'):\n",
    "        df = pd.read_csv(input_fp/filename, low_memory=False) # read the CSV file into a DataFrame\n",
    "        print(df.shape)\n",
    "        matching_indices = find_matching_rows(df)\n",
    "        matching_df = df[df.index.isin(matching_indices)]\n",
    "        unique_matching_indices = list(set(matching_indices))\n",
    "\n",
    "        # List of index numbers to exclude\n",
    "        index_numbers_to_exclude = unique_matching_indices\n",
    "        \n",
    "        # Create a new DataFrame excluding rows with specified index numbers\n",
    "        new_df = df[~df.index.isin(index_numbers_to_exclude)]\n",
    "        \n",
    "        # Rename and save the new DataFrame to a CSV file without index numbers\n",
    "        output_filename = filename.replace('tidy_', 'unique_')  # Replace 'tidy_' with 'unique_' in filename\n",
    "        new_df.to_csv(f'{output_fp}/{output_filename}', index=False)\n",
    "\n",
    "        print(f'Number of rows in {filename}: {len(df)}')\n",
    "        print(f'Number of matching rows: {len(matching_df)}')\n",
    "        print(f'Number of unique rows: {len(new_df)}')\n",
    "        print()\n",
    "\n",
    "elapsed_time = time.time() - start_time\n",
    "print(f'Runtime: {elapsed_time}')"
   ]
  },
  {
   "cell_type": "code",
   "execution_count": null,
   "id": "7cef337b-e669-4500-b258-abc0e0f16772",
   "metadata": {},
   "outputs": [],
   "source": []
  }
 ],
 "metadata": {
  "kernelspec": {
   "display_name": "Python 3 (ipykernel)",
   "language": "python",
   "name": "python3"
  },
  "language_info": {
   "codemirror_mode": {
    "name": "ipython",
    "version": 3
   },
   "file_extension": ".py",
   "mimetype": "text/x-python",
   "name": "python",
   "nbconvert_exporter": "python",
   "pygments_lexer": "ipython3",
   "version": "3.10.4"
  }
 },
 "nbformat": 4,
 "nbformat_minor": 5
}
