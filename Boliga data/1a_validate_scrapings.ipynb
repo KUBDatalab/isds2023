{
 "cells": [
  {
   "cell_type": "markdown",
   "id": "8ef63290-4054-405d-adad-6332cc34a395",
   "metadata": {},
   "source": [
    "# Comparing file list with municipality codes to check that all data has been scraped"
   ]
  },
  {
   "cell_type": "code",
   "execution_count": 1,
   "id": "d2cc6d08-04d2-4a8e-9240-3b527c5a9978",
   "metadata": {},
   "outputs": [],
   "source": [
    "import pandas as pd\n",
    "import os\n",
    "from pathlib import Path\n",
    "import re\n",
    "import requests\n",
    "from bs4 import BeautifulSoup"
   ]
  },
  {
   "cell_type": "code",
   "execution_count": 2,
   "id": "143b74fd-c0b0-4c3f-928d-b61f6645c0f6",
   "metadata": {},
   "outputs": [],
   "source": [
    "fp = Path.cwd() / 'data' # path of files to be found"
   ]
  },
  {
   "cell_type": "code",
   "execution_count": 3,
   "id": "3cbdf861-0637-464c-94b9-4b11c0dfdba8",
   "metadata": {},
   "outputs": [
    {
     "name": "stdout",
     "output_type": "stream",
     "text": [
      "Amount of log files: 98\n",
      "Amount of sales files: 98\n"
     ]
    }
   ],
   "source": [
    "# Initialize a list to store the last three letters as integers\n",
    "municipality_code_sales = [] #contains all the municipality codes from sales files sorted by number\n",
    "municipality_code_log = [] #contains all the municipality codes from log files sorted by number\n",
    "\n",
    "# Iterate through log files in the folder\n",
    "for filename in sorted(os.listdir(fp)):\n",
    "    if filename.startswith('sales_1992_2022_') and filename.endswith('.csv'):\n",
    "        mun_code = filename.split('_')[-1].split('.')[0]\n",
    "        municipality_code_sales.append(int(mun_code))\n",
    "    if filename.startswith('log_') and filename.endswith('.csv'):\n",
    "        mun_code = filename.split('_')[-1].split('.')[0]\n",
    "        municipality_code_log.append(int(mun_code))\n",
    "\n",
    "print(f'Amount of log files: {len(municipality_code_log)}')\n",
    "print(f'Amount of sales files: {len(municipality_code_sales)}')"
   ]
  },
  {
   "cell_type": "code",
   "execution_count": 17,
   "id": "1670aee0-de28-4bb2-b2e1-3cc181f0f9a2",
   "metadata": {},
   "outputs": [
    {
     "name": "stdout",
     "output_type": "stream",
     "text": [
      "Total length of 'log' files: 65414\n",
      "Boliga listings: 65365. Missing: -49\n"
     ]
    }
   ],
   "source": [
    "# Initialize variables to store the total lengths\n",
    "total_log_length = 0\n",
    "number_in_logs_dict = {}\n",
    "\n",
    "# Iterate through files in the folder\n",
    "for filename in sorted(os.listdir(fp)):\n",
    "\n",
    "    if filename.startswith('log_') and filename.endswith('.csv'):\n",
    "        results_log = pd.read_csv(f'{fp}/{filename}')\n",
    "        #print(filename, len(results_log))\n",
    "        total_log_length += len(results_log)\n",
    "        \n",
    "        number = re.search(r'\\d+', filename).group()\n",
    "        number_in_logs_dict[int(number)] = len(results_log)\n",
    "\n",
    "print(f\"Total length of 'log' files: {total_log_length}\") #65365 pages on Boliga\n",
    "print(f'Boliga listings: 65365. Missing:', 65365 - total_log_length) #there are more in our files since some pages don't have 50 listings"
   ]
  },
  {
   "cell_type": "code",
   "execution_count": 5,
   "id": "4883e141-340d-4b3f-9ec9-c25ab419dec0",
   "metadata": {},
   "outputs": [
    {
     "name": "stderr",
     "output_type": "stream",
     "text": [
      "/var/folders/y9/g15wbk0j1wd01kznfcf__8f00000gn/T/ipykernel_44425/1936823352.py:8: DtypeWarning: Columns (6) have mixed types. Specify dtype option on import or set low_memory=False.\n",
      "  sales_listings = pd.read_csv(f'{fp}/{filename}')\n",
      "/var/folders/y9/g15wbk0j1wd01kznfcf__8f00000gn/T/ipykernel_44425/1936823352.py:8: DtypeWarning: Columns (6) have mixed types. Specify dtype option on import or set low_memory=False.\n",
      "  sales_listings = pd.read_csv(f'{fp}/{filename}')\n",
      "/var/folders/y9/g15wbk0j1wd01kznfcf__8f00000gn/T/ipykernel_44425/1936823352.py:8: DtypeWarning: Columns (6) have mixed types. Specify dtype option on import or set low_memory=False.\n",
      "  sales_listings = pd.read_csv(f'{fp}/{filename}')\n",
      "/var/folders/y9/g15wbk0j1wd01kznfcf__8f00000gn/T/ipykernel_44425/1936823352.py:8: DtypeWarning: Columns (6) have mixed types. Specify dtype option on import or set low_memory=False.\n",
      "  sales_listings = pd.read_csv(f'{fp}/{filename}')\n"
     ]
    },
    {
     "name": "stdout",
     "output_type": "stream",
     "text": [
      "Total length of 'log' files: 3268236\n",
      "Boliga listings: 3268236. Missing: 0\n"
     ]
    },
    {
     "name": "stderr",
     "output_type": "stream",
     "text": [
      "/var/folders/y9/g15wbk0j1wd01kznfcf__8f00000gn/T/ipykernel_44425/1936823352.py:8: DtypeWarning: Columns (6) have mixed types. Specify dtype option on import or set low_memory=False.\n",
      "  sales_listings = pd.read_csv(f'{fp}/{filename}')\n"
     ]
    }
   ],
   "source": [
    "# Initialize variables to store the total lengths\n",
    "total_sales_length = 0\n",
    "\n",
    "# Iterate through sales files in the folder\n",
    "for filename in sorted(os.listdir(fp)):\n",
    "\n",
    "    if filename.startswith('sales_1992_2022_') and filename.endswith('.csv'):\n",
    "            sales_listings = pd.read_csv(f'{fp}/{filename}')\n",
    "            #print(filename, len(sales_listings))\n",
    "            total_sales_length += len(sales_listings)\n",
    "\n",
    "print(f\"Total length of 'log' files: {total_sales_length}\") #3268236 pages on Boliga\n",
    "print(f'Boliga listings: 3268236. Missing:', 3268236 - total_sales_length)"
   ]
  },
  {
   "cell_type": "code",
   "execution_count": null,
   "id": "d36033cd-51d1-4039-aa25-36254e5f9474",
   "metadata": {},
   "outputs": [],
   "source": []
  },
  {
   "cell_type": "code",
   "execution_count": 6,
   "id": "8909b669-a768-4c3c-bc64-927c90fce447",
   "metadata": {},
   "outputs": [],
   "source": [
    "# Find the last page number of a search based on a given municipality code\n",
    "def get_last_page_no(url):\n",
    "    \n",
    "    response = requests.get(url)\n",
    "    html_content = response.content\n",
    "    \n",
    "    soup = BeautifulSoup(html_content, 'html.parser')\n",
    "    nav_right_element = soup.find(class_='nav-right')\n",
    "    \n",
    "    if nav_right_element:\n",
    "        page_button_element = nav_right_element.find(class_='page-button')\n",
    "        last_page = int(page_button_element.text)\n",
    "        return last_page"
   ]
  },
  {
   "cell_type": "code",
   "execution_count": 7,
   "id": "2e25ab85-5ce2-4968-959b-09de433daf05",
   "metadata": {},
   "outputs": [],
   "source": [
    "# All municipality numbers:\n",
    "numbers = [\n",
    "    101, 147, 151, 153, 155, 157, 159, 161, 163, 165, 167, 169, 173, 175, 183, 185, 187,\n",
    "    190, 201, 210, 217, 219, 223, 230, 240, 250, 253, 259, 260, 265, 269, 270, 306, 316,\n",
    "    320, 326, 329, 330, 336, 340, 350, 360, 370, 376, 390, 400, 410, 420, 430, 440, 450,\n",
    "    461, 479, 480, 482, 492, 510, 530, 540, 550, 561, 563, 573, 575, 580, 607, 615, 621,\n",
    "    630, 657, 661, 665, 671, 706, 707, 710, 727, 730, 740, 741, 746, 751, 756, 760, 766,\n",
    "    773, 779, 787, 791, 810, 813, 820, 825, 840, 846, 849, 851, 860\n",
    "]\n",
    "\n",
    "base_url = \"https://www.boliga.dk/salg/resultater?searchTab=1&propertyType=1,2,3&salesDateMin=1992&salesDateMax=2022&sort=date-d&page=1&municipality=\"\n",
    "\n",
    "number_of_pages_dict = {}\n",
    "for number in numbers:\n",
    "    url = base_url + str(number)\n",
    "    pages = get_last_page_no(url)\n",
    "    number_of_pages_dict[int(number)] = pages\n",
    "    #print(f\"Number of pages for municipality {number}: {pages}\")\n",
    "    #print()\n",
    "    #print(number_of_pages_dict)"
   ]
  },
  {
   "cell_type": "code",
   "execution_count": 18,
   "id": "fb76b6ef-3718-46dd-9ad0-c250a6a3593f",
   "metadata": {
    "jupyter": {
     "source_hidden": true
    }
   },
   "outputs": [
    {
     "data": {
      "text/plain": [
       "True"
      ]
     },
     "execution_count": 18,
     "metadata": {},
     "output_type": "execute_result"
    }
   ],
   "source": [
    "number_in_logs_dict == number_of_pages_dict"
   ]
  },
  {
   "cell_type": "code",
   "execution_count": 19,
   "id": "8c1ba1dc-eeba-4bbe-a99f-6a8e63d3fb21",
   "metadata": {},
   "outputs": [],
   "source": [
    "dict1 = number_in_logs_dict\n",
    "dict2 = number_of_pages_dict"
   ]
  },
  {
   "cell_type": "code",
   "execution_count": 22,
   "id": "c1758651-595d-4f37-a7d6-c8d20eb34939",
   "metadata": {},
   "outputs": [
    {
     "name": "stdout",
     "output_type": "stream",
     "text": [
      "Key 101: Values the same - Dict1: 5953, Dict2: 5953\n",
      "Key 147: Values the same - Dict1: 1127, Dict2: 1127\n",
      "Key 151: Values the same - Dict1: 364, Dict2: 364\n",
      "Key 153: Values the same - Dict1: 190, Dict2: 190\n",
      "Key 155: Values the same - Dict1: 163, Dict2: 163\n",
      "Key 157: Values the same - Dict1: 1130, Dict2: 1130\n",
      "Key 159: Values the same - Dict1: 612, Dict2: 612\n",
      "Key 161: Values the same - Dict1: 185, Dict2: 185\n",
      "Key 163: Values the same - Dict1: 147, Dict2: 147\n",
      "Key 165: Values the same - Dict1: 153, Dict2: 153\n",
      "Key 167: Values the same - Dict1: 400, Dict2: 400\n",
      "Key 169: Values the same - Dict1: 569, Dict2: 569\n",
      "Key 173: Values the same - Dict1: 554, Dict2: 554\n",
      "Key 175: Values the same - Dict1: 378, Dict2: 378\n",
      "Key 183: Values the same - Dict1: 180, Dict2: 180\n",
      "Key 185: Values the same - Dict1: 359, Dict2: 359\n",
      "Key 187: Values the same - Dict1: 219, Dict2: 219\n",
      "Key 190: Values the same - Dict1: 362, Dict2: 362\n",
      "Key 201: Values the same - Dict1: 247, Dict2: 247\n",
      "Key 210: Values the same - Dict1: 451, Dict2: 451\n",
      "Key 217: Values the same - Dict1: 731, Dict2: 731\n",
      "Key 219: Values the same - Dict1: 552, Dict2: 552\n",
      "Key 223: Values the same - Dict1: 307, Dict2: 307\n",
      "Key 230: Values the same - Dict1: 659, Dict2: 659\n",
      "Key 240: Values the same - Dict1: 461, Dict2: 461\n",
      "Key 250: Values the same - Dict1: 472, Dict2: 472\n",
      "Key 253: Values the same - Dict1: 512, Dict2: 512\n",
      "Key 259: Values the same - Dict1: 585, Dict2: 585\n",
      "Key 260: Values the same - Dict1: 337, Dict2: 337\n",
      "Key 265: Values the same - Dict1: 949, Dict2: 949\n",
      "Key 269: Values the same - Dict1: 295, Dict2: 295\n",
      "Key 270: Values the same - Dict1: 456, Dict2: 456\n",
      "Key 306: Values the same - Dict1: 402, Dict2: 402\n",
      "Key 316: Values the same - Dict1: 801, Dict2: 801\n",
      "Key 320: Values the same - Dict1: 445, Dict2: 445\n",
      "Key 326: Values the same - Dict1: 590, Dict2: 590\n",
      "Key 329: Values the same - Dict1: 386, Dict2: 386\n",
      "Key 330: Values the same - Dict1: 999, Dict2: 999\n",
      "Key 336: Values the same - Dict1: 281, Dict2: 281\n",
      "Key 340: Values the same - Dict1: 382, Dict2: 382\n",
      "Key 350: Values the same - Dict1: 274, Dict2: 274\n",
      "Key 360: Values the same - Dict1: 609, Dict2: 609\n",
      "Key 370: Values the same - Dict1: 964, Dict2: 964\n",
      "Key 376: Values the same - Dict1: 831, Dict2: 831\n",
      "Key 390: Values the same - Dict1: 633, Dict2: 633\n",
      "Key 400: Values the same - Dict1: 513, Dict2: 513\n",
      "Key 410: Values the same - Dict1: 492, Dict2: 492\n",
      "Key 420: Values the same - Dict1: 517, Dict2: 517\n",
      "Key 430: Values the same - Dict1: 617, Dict2: 617\n",
      "Key 440: Values the same - Dict1: 251, Dict2: 251\n",
      "Key 450: Values the same - Dict1: 368, Dict2: 368\n",
      "Key 461: Values the same - Dict1: 2279, Dict2: 2279\n",
      "Key 479: Values the same - Dict1: 712, Dict2: 712\n",
      "Key 480: Values the same - Dict1: 349, Dict2: 349\n",
      "Key 482: Values the same - Dict1: 227, Dict2: 227\n",
      "Key 492: Values the same - Dict1: 128, Dict2: 128\n",
      "Key 510: Values the same - Dict1: 676, Dict2: 676\n",
      "Key 530: Values the same - Dict1: 312, Dict2: 312\n",
      "Key 540: Values the same - Dict1: 776, Dict2: 776\n",
      "Key 550: Values the same - Dict1: 470, Dict2: 470\n",
      "Key 561: Values the same - Dict1: 1291, Dict2: 1291\n",
      "Key 563: Values the same - Dict1: 46, Dict2: 46\n",
      "Key 573: Values the same - Dict1: 545, Dict2: 545\n",
      "Key 575: Values the same - Dict1: 491, Dict2: 491\n",
      "Key 580: Values the same - Dict1: 680, Dict2: 680\n",
      "Key 607: Values the same - Dict1: 620, Dict2: 620\n",
      "Key 615: Values the same - Dict1: 1147, Dict2: 1147\n",
      "Key 621: Values the same - Dict1: 1108, Dict2: 1108\n",
      "Key 630: Values the same - Dict1: 1397, Dict2: 1397\n",
      "Key 657: Values the same - Dict1: 1005, Dict2: 1005\n",
      "Key 661: Values the same - Dict1: 688, Dict2: 688\n",
      "Key 665: Values the same - Dict1: 252, Dict2: 252\n",
      "Key 671: Values the same - Dict1: 254, Dict2: 254\n",
      "Key 706: Values the same - Dict1: 517, Dict2: 517\n",
      "Key 707: Values the same - Dict1: 457, Dict2: 457\n",
      "Key 710: Values the same - Dict1: 541, Dict2: 541\n",
      "Key 727: Values the same - Dict1: 271, Dict2: 271\n",
      "Key 730: Values the same - Dict1: 1281, Dict2: 1281\n",
      "Key 740: Values the same - Dict1: 1039, Dict2: 1039\n",
      "Key 741: Values the same - Dict1: 87, Dict2: 87\n",
      "Key 746: Values the same - Dict1: 703, Dict2: 703\n",
      "Key 751: Values the same - Dict1: 3863, Dict2: 3863\n",
      "Key 756: Values the same - Dict1: 503, Dict2: 503\n",
      "Key 760: Values the same - Dict1: 652, Dict2: 652\n",
      "Key 766: Values the same - Dict1: 599, Dict2: 599\n",
      "Key 773: Values the same - Dict1: 272, Dict2: 272\n",
      "Key 779: Values the same - Dict1: 524, Dict2: 524\n",
      "Key 787: Values the same - Dict1: 561, Dict2: 561\n",
      "Key 791: Values the same - Dict1: 1106, Dict2: 1106\n",
      "Key 810: Values the same - Dict1: 449, Dict2: 449\n",
      "Key 813: Values the same - Dict1: 752, Dict2: 752\n",
      "Key 820: Values the same - Dict1: 467, Dict2: 467\n",
      "Key 825: Values the same - Dict1: 35, Dict2: 35\n",
      "Key 840: Values the same - Dict1: 344, Dict2: 344\n",
      "Key 846: Values the same - Dict1: 544, Dict2: 544\n",
      "Key 849: Values the same - Dict1: 517, Dict2: 517\n",
      "Key 851: Values the same - Dict1: 2623, Dict2: 2623\n",
      "Key 860: Values the same - Dict1: 840, Dict2: 840\n"
     ]
    }
   ],
   "source": [
    "for key in dict1:\n",
    "    if key in dict2:\n",
    "        value1 = dict1[key]\n",
    "        value2 = dict2[key]\n",
    "        if value1 == value2:\n",
    "            print(f\"Key {key}: Values the same - Dict1: {value1}, Dict2: {value2}\")\n",
    "        else:\n",
    "            print(f\"Key {key}: Values NOT the same - Dict1: {value1}, Dict2: {value2}\")\n",
    "    else:\n",
    "        print(f\"Key {key} not found in Dict2\")"
   ]
  },
  {
   "cell_type": "code",
   "execution_count": null,
   "id": "ee4acd19-d94f-4571-86fe-ff13140ce295",
   "metadata": {},
   "outputs": [],
   "source": []
  }
 ],
 "metadata": {
  "kernelspec": {
   "display_name": "Python 3 (ipykernel)",
   "language": "python",
   "name": "python3"
  },
  "language_info": {
   "codemirror_mode": {
    "name": "ipython",
    "version": 3
   },
   "file_extension": ".py",
   "mimetype": "text/x-python",
   "name": "python",
   "nbconvert_exporter": "python",
   "pygments_lexer": "ipython3",
   "version": "3.10.4"
  }
 },
 "nbformat": 4,
 "nbformat_minor": 5
}
