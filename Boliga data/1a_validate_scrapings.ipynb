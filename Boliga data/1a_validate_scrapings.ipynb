{
 "cells": [
  {
   "cell_type": "raw",
   "id": "058086cf-baf1-4021-a56d-ead84d69022b",
   "metadata": {},
   "source": [
    "Created by Daniel Pryn"
   ]
  },
  {
   "cell_type": "code",
   "execution_count": null,
   "id": "bafc8226-b2c8-47e2-8204-abdca1982b84",
   "metadata": {},
   "outputs": [],
   "source": [
    "# Comparing file list with municipality codes to check that all data has been scraped"
   ]
  },
  {
   "cell_type": "code",
   "execution_count": null,
   "id": "d2cc6d08-04d2-4a8e-9240-3b527c5a9978",
   "metadata": {},
   "outputs": [],
   "source": [
    "import pandas as pd\n",
    "import os\n",
    "from pathlib import Path\n",
    "import re\n",
    "import requests\n",
    "from bs4 import BeautifulSoup"
   ]
  },
  {
   "cell_type": "code",
   "execution_count": null,
   "id": "143b74fd-c0b0-4c3f-928d-b61f6645c0f6",
   "metadata": {},
   "outputs": [],
   "source": [
    "fp = Path.cwd() / 'data' # path of files to be found"
   ]
  },
  {
   "cell_type": "code",
   "execution_count": null,
   "id": "3cbdf861-0637-464c-94b9-4b11c0dfdba8",
   "metadata": {},
   "outputs": [],
   "source": [
    "# Initialize a list to store the last three letters as integers\n",
    "municipality_code_sales = [] #contains all the municipality codes from sales files sorted by number\n",
    "municipality_code_log = [] #contains all the municipality codes from log files sorted by number\n",
    "\n",
    "# Iterate through log files in the folder\n",
    "for filename in sorted(os.listdir(fp)):\n",
    "    if filename.startswith('sales_1992_2022_') and filename.endswith('.csv'):\n",
    "        mun_code = filename.split('_')[-1].split('.')[0]\n",
    "        municipality_code_sales.append(int(mun_code))\n",
    "    if filename.startswith('log_') and filename.endswith('.csv'):\n",
    "        mun_code = filename.split('_')[-1].split('.')[0]\n",
    "        municipality_code_log.append(int(mun_code))\n",
    "\n",
    "print(f'Amount of log files: {len(municipality_code_log)}')\n",
    "print(f'Amount of sales files: {len(municipality_code_sales)}')"
   ]
  },
  {
   "cell_type": "code",
   "execution_count": null,
   "id": "1670aee0-de28-4bb2-b2e1-3cc181f0f9a2",
   "metadata": {},
   "outputs": [],
   "source": [
    "# Initialize variables to store the total lengths\n",
    "total_log_length = 0\n",
    "number_in_logs_dict = {}\n",
    "\n",
    "# Iterate through files in the folder\n",
    "for filename in sorted(os.listdir(fp)):\n",
    "\n",
    "    if filename.startswith('log_') and filename.endswith('.csv'):\n",
    "        results_log = pd.read_csv(f'{fp}/{filename}')\n",
    "        #print(filename, len(results_log))\n",
    "        total_log_length += len(results_log)\n",
    "        \n",
    "        number = re.search(r'\\d+', filename).group()\n",
    "        number_in_logs_dict[int(number)] = len(results_log)\n",
    "\n",
    "print(f\"Total length of 'log' files: {total_log_length}\") #65365 pages on Boliga\n",
    "print(f'Boliga listings: 65365. Missing:', 65365 - total_log_length) #there are more in our files since some pages don't have 50 listings"
   ]
  },
  {
   "cell_type": "code",
   "execution_count": null,
   "id": "4883e141-340d-4b3f-9ec9-c25ab419dec0",
   "metadata": {},
   "outputs": [],
   "source": [
    "# Initialize variables to store the total lengths\n",
    "total_sales_length = 0\n",
    "\n",
    "# Iterate through sales files in the folder\n",
    "for filename in sorted(os.listdir(fp)):\n",
    "\n",
    "    if filename.startswith('sales_1992_2022_') and filename.endswith('.csv'):\n",
    "            sales_listings = pd.read_csv(f'{fp}/{filename}')\n",
    "            #print(filename, len(sales_listings))\n",
    "            total_sales_length += len(sales_listings)\n",
    "\n",
    "print(f\"Total length of 'log' files: {total_sales_length}\") #3268236 pages on Boliga\n",
    "print(f'Boliga listings: 3268236. Missing:', 3268236 - total_sales_length)"
   ]
  },
  {
   "cell_type": "code",
   "execution_count": null,
   "id": "d36033cd-51d1-4039-aa25-36254e5f9474",
   "metadata": {},
   "outputs": [],
   "source": []
  },
  {
   "cell_type": "code",
   "execution_count": null,
   "id": "8909b669-a768-4c3c-bc64-927c90fce447",
   "metadata": {},
   "outputs": [],
   "source": [
    "# Find the last page number of a search based on a given municipality code\n",
    "def get_last_page_no(url):\n",
    "    \n",
    "    response = requests.get(url)\n",
    "    html_content = response.content\n",
    "    \n",
    "    soup = BeautifulSoup(html_content, 'html.parser')\n",
    "    nav_right_element = soup.find(class_='nav-right')\n",
    "    \n",
    "    if nav_right_element:\n",
    "        page_button_element = nav_right_element.find(class_='page-button')\n",
    "        last_page = int(page_button_element.text)\n",
    "        return last_page"
   ]
  },
  {
   "cell_type": "code",
   "execution_count": null,
   "id": "2e25ab85-5ce2-4968-959b-09de433daf05",
   "metadata": {},
   "outputs": [],
   "source": [
    "# All municipality numbers:\n",
    "numbers = [\n",
    "    101, 147, 151, 153, 155, 157, 159, 161, 163, 165, 167, 169, 173, 175, 183, 185, 187,\n",
    "    190, 201, 210, 217, 219, 223, 230, 240, 250, 253, 259, 260, 265, 269, 270, 306, 316,\n",
    "    320, 326, 329, 330, 336, 340, 350, 360, 370, 376, 390, 400, 410, 420, 430, 440, 450,\n",
    "    461, 479, 480, 482, 492, 510, 530, 540, 550, 561, 563, 573, 575, 580, 607, 615, 621,\n",
    "    630, 657, 661, 665, 671, 706, 707, 710, 727, 730, 740, 741, 746, 751, 756, 760, 766,\n",
    "    773, 779, 787, 791, 810, 813, 820, 825, 840, 846, 849, 851, 860\n",
    "]\n",
    "\n",
    "base_url = \"https://www.boliga.dk/salg/resultater?searchTab=1&propertyType=1,2,3&salesDateMin=1992&salesDateMax=2022&sort=date-d&page=1&municipality=\"\n",
    "\n",
    "number_of_pages_dict = {}\n",
    "for number in numbers:\n",
    "    url = base_url + str(number)\n",
    "    pages = get_last_page_no(url)\n",
    "    number_of_pages_dict[int(number)] = pages\n",
    "    #print(f\"Number of pages for municipality {number}: {pages}\")\n",
    "    #print()\n",
    "    #print(number_of_pages_dict)"
   ]
  },
  {
   "cell_type": "code",
   "execution_count": null,
   "id": "fb76b6ef-3718-46dd-9ad0-c250a6a3593f",
   "metadata": {
    "jupyter": {
     "source_hidden": true
    }
   },
   "outputs": [],
   "source": [
    "number_in_logs_dict == number_of_pages_dict"
   ]
  },
  {
   "cell_type": "code",
   "execution_count": null,
   "id": "8c1ba1dc-eeba-4bbe-a99f-6a8e63d3fb21",
   "metadata": {},
   "outputs": [],
   "source": [
    "dict1 = number_in_logs_dict\n",
    "dict2 = number_of_pages_dict"
   ]
  },
  {
   "cell_type": "code",
   "execution_count": null,
   "id": "c1758651-595d-4f37-a7d6-c8d20eb34939",
   "metadata": {},
   "outputs": [],
   "source": [
    "for key in dict1:\n",
    "    if key in dict2:\n",
    "        value1 = dict1[key]\n",
    "        value2 = dict2[key]\n",
    "        if value1 == value2:\n",
    "            print(f\"Key {key}: Values the same - Dict1: {value1}, Dict2: {value2}\")\n",
    "        else:\n",
    "            print(f\"Key {key}: Values NOT the same - Dict1: {value1}, Dict2: {value2}\")\n",
    "    else:\n",
    "        print(f\"Key {key} not found in Dict2\")"
   ]
  },
  {
   "cell_type": "code",
   "execution_count": null,
   "id": "ee4acd19-d94f-4571-86fe-ff13140ce295",
   "metadata": {},
   "outputs": [],
   "source": []
  }
 ],
 "metadata": {
  "kernelspec": {
   "display_name": "Python 3 (ipykernel)",
   "language": "python",
   "name": "python3"
  },
  "language_info": {
   "codemirror_mode": {
    "name": "ipython",
    "version": 3
   },
   "file_extension": ".py",
   "mimetype": "text/x-python",
   "name": "python",
   "nbconvert_exporter": "python",
   "pygments_lexer": "ipython3",
   "version": "3.10.4"
  }
 },
 "nbformat": 4,
 "nbformat_minor": 5
}
