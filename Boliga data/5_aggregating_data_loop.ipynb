{
 "cells": [
  {
   "cell_type": "markdown",
   "id": "5e979c5c",
   "metadata": {},
   "source": [
    "OK - vi skal have preprocesset det her data vi indsamler....\n",
    "\n"
   ]
  },
  {
   "cell_type": "code",
   "execution_count": 1,
   "id": "f4561124",
   "metadata": {},
   "outputs": [],
   "source": [
    "# import libraries\n",
    "from pathlib import Path\n",
    "import pandas as pd\n",
    "import time\n",
    "import os\n",
    "import tqdm"
   ]
  },
  {
   "cell_type": "code",
   "execution_count": 2,
   "id": "5a52c2ca-3e77-49ed-a475-46392da18ca2",
   "metadata": {},
   "outputs": [],
   "source": [
    "# Replace 'your_file.csv' with the actual path to your CSV file\n",
    "input_fp = Path.cwd() / 'inlier_data' # path of files to be found\n",
    "\n",
    "output_fp = Path.cwd() / 'agg_data' # output path of files generated\n",
    "# Use the Path object to actually create the subfolder\n",
    "Path.mkdir(output_fp, exist_ok=True)"
   ]
  },
  {
   "cell_type": "code",
   "execution_count": 3,
   "id": "01c43f94-45ec-40dc-8618-242fcb307eeb",
   "metadata": {},
   "outputs": [],
   "source": [
    "def aar(str):\n",
    "    return str.split('-')[-1]"
   ]
  },
  {
   "cell_type": "code",
   "execution_count": 4,
   "id": "71e6306c",
   "metadata": {},
   "outputs": [],
   "source": [
    "def agg_data(df):\n",
    "    \n",
    "    # der er ingen grund til at tro at kolonnerne konsekvent hedder hvad de burde hedde:\n",
    "    column_mapping = {\n",
    "        \"municipalities\": \"muni_code\",\n",
    "        \"municipality\": \"muni_code\",\n",
    "        \"muni_code\": \"muni_code\",\n",
    "        \"municode\": \"muni_code\",\n",
    "        \"square meters_price\":\"square_meters_price\"\n",
    "    }\n",
    "\n",
    "    # Loop igennem hver DataFrame og omdøb kolonnerne, hvis de findes. trækker year ud af datoen \n",
    "    df = df\\\n",
    "        .rename(columns=column_mapping, inplace=False)\\\n",
    "        .assign(year = df[\"date_of_sale\"].apply(lambda row: aar(row)))\n",
    "    \n",
    "    '''\n",
    "    Hvad vil vi så gruppere de her data på? Det er der ingen der ved. Men vi må hellere gøre noget, så vi kan komme videre...\n",
    "    Hvad vil vi gruppere på? Det ved vi ikke helt. Vi skal have grupperet på muni_code. Ville vi også have på housing type. Det vil vi nok.Vi skal have trukket et år ud, for det er der ikke. Antal værelser? Type of sale?\n",
    "    Uanset hvad, så skal den spytte en dataframe ud vi kan gøre noget videre med. og den skal gemmes til fil.\n",
    "    '''\n",
    "\n",
    "    group_vars = [\"muni_code\", \"housing_type\", \"year\"]\n",
    "    agg_vars = [\"square_meters_price\"]\n",
    "    \n",
    "    df = df\\\n",
    "        .groupby(group_vars)[agg_vars].agg([\"mean\", \"count\"])\\\n",
    "        .reset_index()\n",
    "    \n",
    "    '''\n",
    "    Vi har nogen fæle outliers. Det kunne vi gøre noget ved på denne måde:\n",
    "    test[\"kantil\"] = test.groupby(group_vars)[agg_vars].transform(lambda x: x.quantile(0.8))\n",
    "    test[test['square_meters_price'] <= test['kantil']].groupby(\"year\")[\"square_meters_price\"].hist()\n",
    "    '''\n",
    "    \n",
    "    #af med multi index!\n",
    "    df.columns = range(df.shape[1])\n",
    "    df.columns = [\"muni_code\", \"housing_type\", \"year\", \"avg_sqm_price\", \"count\"]\n",
    "    df = df[[\"muni_code\", \"housing_type\", \"year\", \"avg_sqm_price\", \"count\"]]\n",
    "\n",
    "    return df"
   ]
  },
  {
   "cell_type": "code",
   "execution_count": 5,
   "id": "04e641fd-d676-4d7b-98d5-09fe341af5ea",
   "metadata": {},
   "outputs": [
    {
     "name": "stderr",
     "output_type": "stream",
     "text": [
      "  0%|                                                                        | 0/98 [00:00<?, ?it/s]/var/folders/y9/g15wbk0j1wd01kznfcf__8f00000gn/T/ipykernel_7871/2050655209.py:6: DtypeWarning: Columns (12) have mixed types. Specify dtype option on import or set low_memory=False.\n",
      "  df = pd.read_csv(input_fp/filename) # read the CSV file into a DataFrame\n",
      " 50%|███████████████████████████████▌                               | 49/98 [00:03<00:03, 14.80it/s]/var/folders/y9/g15wbk0j1wd01kznfcf__8f00000gn/T/ipykernel_7871/2050655209.py:6: DtypeWarning: Columns (12) have mixed types. Specify dtype option on import or set low_memory=False.\n",
      "  df = pd.read_csv(input_fp/filename) # read the CSV file into a DataFrame\n",
      " 82%|███████████████████████████████████████████████████▍           | 80/98 [00:05<00:01, 13.89it/s]/var/folders/y9/g15wbk0j1wd01kznfcf__8f00000gn/T/ipykernel_7871/2050655209.py:6: DtypeWarning: Columns (12) have mixed types. Specify dtype option on import or set low_memory=False.\n",
      "  df = pd.read_csv(input_fp/filename) # read the CSV file into a DataFrame\n",
      " 97%|█████████████████████████████████████████████████████████████  | 95/98 [00:07<00:00, 14.98it/s]/var/folders/y9/g15wbk0j1wd01kznfcf__8f00000gn/T/ipykernel_7871/2050655209.py:6: DtypeWarning: Columns (12) have mixed types. Specify dtype option on import or set low_memory=False.\n",
      "  df = pd.read_csv(input_fp/filename) # read the CSV file into a DataFrame\n",
      "100%|███████████████████████████████████████████████████████████████| 98/98 [00:07<00:00, 13.10it/s]"
     ]
    },
    {
     "name": "stdout",
     "output_type": "stream",
     "text": [
      "Runtime: 7.506537914276123\n"
     ]
    },
    {
     "name": "stderr",
     "output_type": "stream",
     "text": [
      "\n"
     ]
    }
   ],
   "source": [
    "start_time = time.time()\n",
    "\n",
    "# Iterate through log files in the folder\n",
    "for filename in tqdm.tqdm(sorted(os.listdir(input_fp))):\n",
    "    if filename.startswith('inlier_sales_1992_2022_') and filename.endswith('.csv'):\n",
    "        df = pd.read_csv(input_fp/filename) # read the CSV file into a DataFrame\n",
    "        new_df = agg_data(df)\n",
    "        \n",
    "        # Rename and save the new DataFrame to a CSV file without index numbers\n",
    "        output_filename = filename.replace('inlier_', 'agg_')  # Replace 'inlier_' with 'agg_' in filename\n",
    "        new_df.to_csv(f'{output_fp}/{output_filename}', index=False)\n",
    "\n",
    "elapsed_time = time.time() - start_time\n",
    "print(f'Runtime: {elapsed_time}')"
   ]
  },
  {
   "cell_type": "code",
   "execution_count": null,
   "id": "0aafa3af-281a-4419-9911-0eb6405a46c3",
   "metadata": {},
   "outputs": [],
   "source": []
  }
 ],
 "metadata": {
  "kernelspec": {
   "display_name": "Python 3 (ipykernel)",
   "language": "python",
   "name": "python3"
  },
  "language_info": {
   "codemirror_mode": {
    "name": "ipython",
    "version": 3
   },
   "file_extension": ".py",
   "mimetype": "text/x-python",
   "name": "python",
   "nbconvert_exporter": "python",
   "pygments_lexer": "ipython3",
   "version": "3.10.4"
  }
 },
 "nbformat": 4,
 "nbformat_minor": 5
}
