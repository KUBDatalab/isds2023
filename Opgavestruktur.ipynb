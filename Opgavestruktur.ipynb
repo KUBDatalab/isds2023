{
 "cells": [
  {
   "cell_type": "markdown",
   "id": "780edbd8-0505-42e4-848d-3cf46c04f1c3",
   "metadata": {},
   "source": [
    "* Introduction\n",
    "* Litterature Review\n",
    "* Ethics\n",
    "    - Our ethics\n",
    "* Data Harvest\n",
    "    - Scraping, Boliga\n",
    "    - API, DST\n",
    "    - Data description\n",
    "* Data Cleaning\n",
    "    - Boliga\n",
    "    - DST: Features, Kommunalreform\n",
    "    - Removing double sales\n",
    "    - Removing outliers pt. 1\n",
    "    - Removing outliers pt. 2\n",
    "    - Aggregating dat\n",
    "* Method\n",
    "    - Modelling\n",
    "    - Machine Learning: Lasso, Ridge, ElasticNet, scaling\n",
    "    - Time \"series\"\n",
    "* Results & Analysis\n",
    "* Discussion\n",
    "* Conclusion"
   ]
  }
 ],
 "metadata": {
  "kernelspec": {
   "display_name": "Python 3 (ipykernel)",
   "language": "python",
   "name": "python3"
  },
  "language_info": {
   "codemirror_mode": {
    "name": "ipython",
    "version": 3
   },
   "file_extension": ".py",
   "mimetype": "text/x-python",
   "name": "python",
   "nbconvert_exporter": "python",
   "pygments_lexer": "ipython3",
   "version": "3.10.4"
  }
 },
 "nbformat": 4,
 "nbformat_minor": 5
}
