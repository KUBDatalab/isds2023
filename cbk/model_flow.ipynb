{
 "cells": [
  {
   "cell_type": "markdown",
   "id": "b0ead2d8",
   "metadata": {},
   "source": [
    "This notebook build predictive models for each municipality"
   ]
  },
  {
   "cell_type": "code",
   "execution_count": 302,
   "id": "8bdca6a0",
   "metadata": {},
   "outputs": [],
   "source": [
    "#importer libraries\n",
    "from sklearn.metrics import mean_squared_error\n",
    "import os\n",
    "import tqdm as tqdm\n",
    "import re\n",
    "import pickle\n",
    "from pathlib import Path\n",
    "import pandas as pd\n",
    "import numpy as np\n",
    "# from sklearn.pipeline import make_pipeline\n",
    "from sklearn.pipeline import Pipeline, make_pipeline\n",
    "\n",
    "from sklearn.model_selection import GridSearchCV, learning_curve, KFold, train_test_split\n",
    "# from sklearn.model_selection import learning_curve\n",
    "# from sklearn.model_selection import KFold, train_test_split\n",
    "\n",
    "from sklearn.compose import make_column_transformer\n",
    "from sklearn.compose import ColumnTransformer\n",
    "\n",
    "from sklearn.linear_model import ElasticNet\n",
    "from sklearn.linear_model import Lasso\n",
    "\n",
    "from sklearn.preprocessing import StandardScaler, PolynomialFeatures, OneHotEncoder\n",
    "\n",
    "from sklearn.metrics import mean_squared_error as mse\n",
    "\n",
    "from sklearn.exceptions import ConvergenceWarning\n",
    "\n",
    "\n",
    "import matplotlib.pyplot as plt\n",
    "import warnings\n",
    "\n",
    "warnings.filterwarnings(\"ignore\", category=ConvergenceWarning)\n",
    "warnings.filterwarnings(\"ignore\", category=FutureWarning)"
   ]
  },
  {
   "cell_type": "code",
   "execution_count": 303,
   "id": "310f73c3",
   "metadata": {},
   "outputs": [],
   "source": [
    "# imports function to add features to data.\n",
    "%run \"add_features_to_data.py\"\n",
    "\n",
    "\n"
   ]
  },
  {
   "cell_type": "markdown",
   "id": "1aad9cf5",
   "metadata": {},
   "source": [
    "A function for fitting a model is made. This function takes a dataset of cleaned Boliga data, and enrich it with the selected features."
   ]
  },
  {
   "cell_type": "code",
   "execution_count": 304,
   "id": "06f200b0",
   "metadata": {},
   "outputs": [],
   "source": [
    "def make_a_model(data):\n",
    "    # splitting data in target values (y) and features (X)\n",
    "    y = data[\"avg_sqm_price\"]\n",
    "    X = data.drop(columns=[\"avg_sqm_price\"])\n",
    "    \n",
    "    # numeric and categorical features are identified\n",
    "    numeric_features = X.select_dtypes(include = [\"number\"]).columns.tolist()\n",
    "    categorical_features = X.select_dtypes(include=[\"category\"]).columns.tolist()\n",
    "    \n",
    "    # Data is split into test and training data, stratified on housing_type\n",
    "    X_train, X_test, y_train, y_test = train_test_split(X, y, test_size=(.2), random_state=47, stratify=X[\"housing_type\"])\n",
    "    \n",
    "    # Known categories in the categorical data are identified and stored for use in OneHotEncoder\n",
    "    known_categories = [X[i].unique().tolist() for i in X.select_dtypes(include=[\"category\"]).columns.tolist()]\n",
    "    \n",
    "    # Preprocessor defined. Numerical features are scaled, and categorical values OneHotEncoded with the\n",
    "    # known categories\n",
    "    preprocessor = ColumnTransformer(\n",
    "    transformers=[\n",
    "        ('num', StandardScaler(with_mean=False), numeric_features),\n",
    "        ('cat', OneHotEncoder(categories=known_categories), categorical_features)\n",
    "    ])\n",
    "\n",
    "    # The training pipeline is defined. Preprocessing as defined above, polynomial feature expansion\n",
    "    # and Elastic Net as the classifier\n",
    "    pipeline = Pipeline([\n",
    "        ('preprocessor', preprocessor),\n",
    "        ('polynomial', PolynomialFeatures(degree=3)),  # Tilføj denne linje\n",
    "        ('classifier', ElasticNet())\n",
    "    ])\n",
    "\n",
    "    # Paramergrid defined for the gridsearch\n",
    "    param_grid = {\n",
    "        'polynomial__degree': [1, 2, 3],  # Ny linje for at prøve forskellige polynomial grader\n",
    "        'classifier__alpha': np.logspace(-4, 4, 12),\n",
    "        'classifier__l1_ratio': [0, 0.1, 0.2, 0.3, 0.4, 0.5, 0.6, 0.7, 0.8, 0.9, 1],\n",
    "        'classifier__max_iter': [2000] \n",
    "    }\n",
    "    # Setting up the GridSearch with pipeline and parametergrid. 5-fold crossvalidation \n",
    "    grid_search = GridSearchCV(pipeline, param_grid, cv=5, scoring='neg_mean_squared_error')\n",
    "    \n",
    "    # Searching for optimal hyperparameters.\n",
    "    grid_search.fit(X_train, y_train)\n",
    "    \n",
    "    # grabbing information about the result\n",
    "    best_parameters = grid_search.best_params_\n",
    "    best_pipeline = grid_search.best_estimator_\n",
    "    y_pred = best_pipeline.predict(X_test)\n",
    "    rmse = mean_squared_error(y_test, y_pred, squared=False)\n",
    "    r2 = best_pipeline.score(X_test, y_test)\n",
    "    coefficients = best_pipeline.named_steps['classifier'].coef_\n",
    "\n",
    "    # Grabbing names and weights of the polynomial features.\n",
    "    # First, get names of both numeric and categorical features\n",
    "    numeric_feature_names = numeric_features\n",
    "    categorical_feature_names = best_pipeline.named_steps['preprocessor'].named_transformers_['cat'].get_feature_names_out(categorical_features)\n",
    "    all_feature_names = np.concatenate([numeric_feature_names, categorical_feature_names])\n",
    "\n",
    "    # Now the polynomial feature names\n",
    "    polynomial_feature_names = best_pipeline.named_steps['polynomial'].get_feature_names_out(input_features=all_feature_names)\n",
    "\n",
    "    # Combining to one object\n",
    "    coefs =  zip(coefficients, polynomial_feature_names)\n",
    "    \n",
    "    # gets data for a learning curve\n",
    "    train_sizes, train_scores, test_scores = learning_curve(estimator=best_pipeline,\n",
    "                   X=X_dev,\n",
    "                   y=y_dev,\n",
    "                   train_sizes=np.arange(0.05, 1.05, .05),\n",
    "                   scoring='neg_mean_squared_error',                 \n",
    "                   cv=10)\n",
    "    \n",
    "    learning_curve_data = pd.DataFrame({'Train':-train_scores.mean(axis=1),\n",
    "                     'Test':-test_scores.mean(axis=1),\n",
    "                     'sample size':train_sizes})\n",
    "    \n",
    "    # Finally return fitted models, parameters, metrics, coefficients and data for a learning curve\n",
    "    return (grid_search, best_parameters, rmse, r2, coefs, learning_curve_data)\n",
    "\n",
    "    "
   ]
  },
  {
   "cell_type": "code",
   "execution_count": 305,
   "id": "71518bb5",
   "metadata": {
    "scrolled": false
   },
   "outputs": [
    {
     "name": "stderr",
     "output_type": "stream",
     "text": [
      "0it [00:00, ?it/s]\n"
     ]
    }
   ],
   "source": [
    "# Getting aggregated data stored as csv's\n",
    "fp = Path(\"../Daniel/agg_data/\")\n",
    "files = list(fp.glob('*.csv'))\n",
    "\n",
    "# initialising dataframes for saving results of the fits\n",
    "metrics = pd.DataFrame(columns=['muni_code', 'rmse', 'r2'])\n",
    "fitted_models = pd.DataFrame(columns=['muni_code', 'pickled_model'])\n",
    "learning_curves = pd.DataFrame(columns=['muni_code',  \"Train\",\"Test\", \"sample size\"])\n",
    "coefficients = pd.DataFrame(columns=['muni_code', 'value', 'parameter'])\n",
    "parameters = pd.DataFrame(columns=['muni_code', 'Parameter', 'Value']) \n",
    "\n",
    "# running the loop for modelling\n",
    "for filename in tqdm.tqdm(files):\n",
    "    muni_code = re.search(r'(\\d+)\\.csv$', str(filename)).group(1) # extracting muni_code\n",
    "    data = pd.read_csv(filename) # reading data\n",
    "    data = add_features_to_data(data) # feature adding\n",
    "    data = data.drop(columns=[\"year\", \"muni_code\"]) # dropping columns\n",
    "    grid_search, best_parameters, rmse, r2, coefs, learning_curve_data = make_a_model(data)\n",
    "    \n",
    "    # saving pickled models\n",
    "    rick = pickle.dumps(grid_search)\n",
    "    model_row = pd.DataFrame({'muni_code': [muni_code],\n",
    "             'pickled_model':[rick]})\n",
    "    fitted_models = fitted_models.append(model_row, ignore_index = True)\n",
    "    \n",
    "    # saving metrics\n",
    "    metric_tuple = (muni_code, rmse, r2)\n",
    "     # Konverter tuple til DataFrame\n",
    "    metric_row = pd.DataFrame([metric_tuple], columns=metrics.columns)\n",
    "    # Append til den eksisterende DataFrame\n",
    "    metrics = metrics.append(metric_row, ignore_index = True)\n",
    "    \n",
    "    # saving parameters\n",
    "    param_row = pd.DataFrame(list(best_parameters.items()), columns=['Parameter', 'Value'])\n",
    "    param_row['muni_code'] = muni_code\n",
    "    # append\n",
    "    parameters = parameters.append(param_row, ignore_index = True)\n",
    "    # saving coefficients\n",
    "    coef_row = pd.DataFrame(coefs, columns = ['value', 'parameter'])\n",
    "    coef_row['muni_code'] = muni_code\n",
    "    coefficients = coefficients.append(coef_row, ignore_index = True)\n",
    "    # saving learning curve data\n",
    "    learning_curve_data['muni_code'] = muni_code\n",
    "    learning_curves = learning_curves.append(learning_curve_data, ignore_index = True)\n",
    "    \n",
    "   "
   ]
  },
  {
   "cell_type": "code",
   "execution_count": 299,
   "id": "61a3e926",
   "metadata": {},
   "outputs": [],
   "source": [
    "\n",
    "# fitted_models \n",
    "\n",
    "parameters.to_csv(\"parameter_demo.csv\")\n",
    "coefficients.to_csv(\"coefficients_demo.csv\")\n",
    "metrics.to_csv(\"metrics_demo.csv\")\n",
    "learning_curves.to_csv(\"learning_curves_demo.csv\")\n",
    "fitted_models.to_csv(\"fitted_models_demo.csv\")\n",
    "parameters.to_csv(\"parameters_demo.csv\")"
   ]
  },
  {
   "cell_type": "code",
   "execution_count": 233,
   "id": "84e9598a",
   "metadata": {},
   "outputs": [
    {
     "data": {
      "text/html": [
       "<div>\n",
       "<style scoped>\n",
       "    .dataframe tbody tr th:only-of-type {\n",
       "        vertical-align: middle;\n",
       "    }\n",
       "\n",
       "    .dataframe tbody tr th {\n",
       "        vertical-align: top;\n",
       "    }\n",
       "\n",
       "    .dataframe thead th {\n",
       "        text-align: right;\n",
       "    }\n",
       "</style>\n",
       "<table border=\"1\" class=\"dataframe\">\n",
       "  <thead>\n",
       "    <tr style=\"text-align: right;\">\n",
       "      <th></th>\n",
       "      <th>Parameter</th>\n",
       "      <th>Value</th>\n",
       "    </tr>\n",
       "  </thead>\n",
       "  <tbody>\n",
       "    <tr>\n",
       "      <th>0</th>\n",
       "      <td>classifier__alpha</td>\n",
       "      <td>2.31013</td>\n",
       "    </tr>\n",
       "    <tr>\n",
       "      <th>1</th>\n",
       "      <td>classifier__l1_ratio</td>\n",
       "      <td>0.30000</td>\n",
       "    </tr>\n",
       "    <tr>\n",
       "      <th>2</th>\n",
       "      <td>classifier__max_iter</td>\n",
       "      <td>1500.00000</td>\n",
       "    </tr>\n",
       "    <tr>\n",
       "      <th>3</th>\n",
       "      <td>polynomial__degree</td>\n",
       "      <td>2.00000</td>\n",
       "    </tr>\n",
       "  </tbody>\n",
       "</table>\n",
       "</div>"
      ],
      "text/plain": [
       "              Parameter       Value\n",
       "0     classifier__alpha     2.31013\n",
       "1  classifier__l1_ratio     0.30000\n",
       "2  classifier__max_iter  1500.00000\n",
       "3    polynomial__degree     2.00000"
      ]
     },
     "execution_count": 233,
     "metadata": {},
     "output_type": "execute_result"
    }
   ],
   "source": [
    "\n"
   ]
  },
  {
   "cell_type": "code",
   "execution_count": null,
   "id": "2526aa2b",
   "metadata": {},
   "outputs": [],
   "source": []
  },
  {
   "cell_type": "code",
   "execution_count": 110,
   "id": "2bf28029",
   "metadata": {},
   "outputs": [
    {
     "data": {
      "image/png": "[encoded data removed]",
      "text/plain": [
       "<Figure size 504x216 with 1 Axes>"
      ]
     },
     "metadata": {
      "needs_background": "light"
     },
     "output_type": "display_data"
    }
   ],
   "source": [
    "def learning_curve_plot(tester):\n",
    "    f_learn, ax = plt.subplots(figsize=(7,3))\n",
    "    ax.plot(tester[\"sample size\"],np.sqrt(tester[\"Test\"]), alpha=0.25, linewidth=2, label ='Test', color='blue') # negated, because we already use neg_MSE\n",
    "    ax.plot(tester[\"sample size\"],np.sqrt(tester[\"Train\"]), alpha=0.25, linewidth=2, label='Train', color='orange') # negated, because we already use neg_MSE\n",
    "\n",
    "    ax.set_title('Mean performance')\n",
    "    ax.set_ylabel('Root-Mean squared error')\n",
    "    ax.legend();\n",
    "learning_curve_plot(tester)"
   ]
  }
 ],
 "metadata": {
  "kernelspec": {
   "display_name": "Python 3 (ipykernel)",
   "language": "python",
   "name": "python3"
  },
  "language_info": {
   "codemirror_mode": {
    "name": "ipython",
    "version": 3
   },
   "file_extension": ".py",
   "mimetype": "text/x-python",
   "name": "python",
   "nbconvert_exporter": "python",
   "pygments_lexer": "ipython3",
   "version": "3.9.12"
  }
 },
 "nbformat": 4,
 "nbformat_minor": 5
}
