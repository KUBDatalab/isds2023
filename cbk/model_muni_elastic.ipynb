{
 "cells": [
  {
   "cell_type": "markdown",
   "id": "b0ead2d8",
   "metadata": {},
   "source": [
    "This notebook build predictive models for each municipality elastic\n"
   ]
  },
  {
   "cell_type": "code",
   "execution_count": 28,
   "id": "694253bb",
   "metadata": {},
   "outputs": [],
   "source": [
    "#importer libraries\n",
    "from sklearn.metrics import mean_squared_error\n",
    "import os\n",
    "import tqdm as tqdm\n",
    "import re\n",
    "import pickle\n",
    "from pathlib import Path\n",
    "import pandas as pd\n",
    "import numpy as np\n",
    "# from sklearn.pipeline import make_pipeline\n",
    "from sklearn.pipeline import Pipeline, make_pipeline\n",
    "\n",
    "from sklearn.model_selection import GridSearchCV, learning_curve, KFold, train_test_split\n",
    "# from sklearn.model_selection import learning_curve\n",
    "# from sklearn.model_selection import KFold, train_test_split\n",
    "\n",
    "from sklearn.compose import make_column_transformer\n",
    "from sklearn.compose import ColumnTransformer\n",
    "\n",
    "from sklearn.linear_model import ElasticNet\n",
    "from sklearn.linear_model import Lasso\n",
    "\n",
    "from sklearn.preprocessing import StandardScaler, PolynomialFeatures, OneHotEncoder\n",
    "\n",
    "from sklearn.metrics import mean_squared_error as mse\n",
    "from sklearn.metrics import r2_score\n",
    "from sklearn.exceptions import ConvergenceWarning\n",
    "\n",
    "\n",
    "import matplotlib.pyplot as plt\n",
    "import warnings\n",
    "\n",
    "warnings.filterwarnings(\"ignore\", category=ConvergenceWarning)\n",
    "warnings.filterwarnings(\"ignore\", category=FutureWarning)"
   ]
  },
  {
   "cell_type": "code",
   "execution_count": 29,
   "id": "801ac69a",
   "metadata": {},
   "outputs": [],
   "source": [
    "# a function to add features to data.\n",
    "def add_features_to_data(df):\n",
    "    fp = Path(\"../Feature_data/\")\n",
    "    indk = fp/\"indkp101.csv\"\n",
    "    konth = fp/\"kontanth.csv\"\n",
    "    areas = fp/\"muni_areas.csv\"\n",
    "    pop = fp/\"population_data.csv\"\n",
    "    pop_dens = fp/\"pop_dens.csv\"\n",
    "    gini = fp/\"gini_index.csv\"\n",
    "    unenp = fp/\"unemployment_data.csv\"\n",
    "        \n",
    "    indk = pd.read_csv(indk) # ok\n",
    "    konth = pd.read_csv(konth) #ok men pr kapita\n",
    "    gini = pd.read_csv(gini) #OK\n",
    "    areas = pd.read_csv(areas) # ok\n",
    "    pop = pd.read_csv(pop) # noget galt\n",
    "    unenp = pd.read_csv(unenp)\n",
    "    \n",
    "    df = df\\\n",
    "        .merge(indk, on=[\"muni_code\", \"year\"], how = 'left',suffixes=('_left', '_right'))\\\n",
    "        .merge(konth, on= [\"muni_code\", \"year\"], how= 'left',suffixes=('_left', '_right'))\\\n",
    "        .merge(gini, on = [\"muni_code\", \"year\"], how = 'left',suffixes=('_left', '_right'))\\\n",
    "        .merge(areas, on = [\"muni_code\"], how = 'left',suffixes=('_left', '_right'))\\\n",
    "        .merge(unenp, on = [\"muni_code\", \"year\"], how = 'left',suffixes=('_left', '_right'))\\\n",
    "        .merge(pop, on = [\"muni_code\",\"year\"], how = 'left',suffixes=('_left', '_right'))\\\n",
    "        .sort_values([\"year\", \"count\"])\\\n",
    "        .dropna()\\\n",
    "        .assign(muni_code=lambda x: x['muni_code'].astype('category'))\\\n",
    "        .assign(year=lambda x: x['year'].astype('category'))\\\n",
    "        .assign(housing_type = lambda x: x[\"housing_type\"].astype('category'))\\\n",
    "        .assign(unemployed = lambda x: x[\"unemployed\"]/x['pop'])\\\n",
    "        .assign(kont_recip_tot = lambda x: x[\"kont_recip_tot\"]/x['pop'])\\\n",
    "        .assign(pop_den= lambda x: x['pop']/x['km2'])\n",
    "    \n",
    "   \n",
    "\n",
    "    df['avg_sqm_price'] = pd.to_numeric(df['avg_sqm_price'], errors='coerce')\n",
    "\n",
    "    #drops very useless columns\n",
    "    cols_to_drop = [col for col in df.columns if col.startswith('Unnamed')]\n",
    "    df.drop(columns=cols_to_drop, inplace=True)\n",
    "    df.drop(columns=[\"count\", \"km2\", \"pop\"], inplace =True)\n",
    "\n",
    "    return (df)\n",
    "\n"
   ]
  },
  {
   "cell_type": "markdown",
   "id": "1ad42d16",
   "metadata": {},
   "source": [
    "A function for fitting a model is made. This function takes a dataset of cleaned Boliga data, and enrich it with the selected features."
   ]
  },
  {
   "cell_type": "code",
   "execution_count": null,
   "id": "3797e34e",
   "metadata": {},
   "outputs": [],
   "source": []
  },
  {
   "cell_type": "code",
   "execution_count": 30,
   "id": "fc82b7fd",
   "metadata": {},
   "outputs": [],
   "source": [
    "def make_a_model(data):\n",
    "    # splitting data in target values (y) and features (X)\n",
    "    y = data[\"avg_sqm_price\"]\n",
    "    X = data.drop(columns=[\"avg_sqm_price\"])\n",
    "    \n",
    "    # defines scaler for y-data\n",
    "    y_scaler = StandardScaler()\n",
    "    y = y_scaler.fit_transform(y.values.reshape(-1, 1)).flatten()\n",
    "    \n",
    "    # numeric and categorical features are identified\n",
    "    numeric_features = X.select_dtypes(include = [\"number\"]).columns.tolist()\n",
    "    categorical_features = X.select_dtypes(include=[\"category\"]).columns.tolist()\n",
    "    # Known categories in the categorical data are identified and stored for use in OneHotEncoder\n",
    "    known_categories = [X[i].unique().tolist() for i in X.select_dtypes(include=[\"category\"]).columns.tolist()]\n",
    "    \n",
    "    # defining transformer for numeric features\n",
    "    numeric_transformer = Pipeline(steps=[\n",
    "        ('scaler', StandardScaler(with_mean = False)),\n",
    "        ('poly', PolynomialFeatures(degree=2))\n",
    "        ])\n",
    "    \n",
    "    # Defining transformer for categorical featuresn\n",
    "    categorical_transformer = OneHotEncoder(categories=known_categories)\n",
    "    \n",
    "    # Data is split into test and training data, stratified on housing_type\n",
    "    X_train, X_test, y_train, y_test = train_test_split(X, y, test_size=(.2), random_state=47, stratify=X[\"housing_type\"])\n",
    "    \n",
    "    \n",
    "    # Preprocessor defined. Numerical features are scaled, and categorical values OneHotEncoded with the\n",
    "    # known categories\n",
    "    preprocessor = ColumnTransformer(\n",
    "    transformers=[\n",
    "        ('num', numeric_transformer, numeric_features),\n",
    "        ('cat', categorical_transformer, categorical_features)\n",
    "    ])\n",
    "\n",
    "    # The training pipeline is defined. Preprocessing as defined above, polynomial feature expansion\n",
    "    # and Elastic Net as the classifier\n",
    "    pipeline = Pipeline([\n",
    "        ('preprocessor', preprocessor),\n",
    "        ('classifier', ElasticNet())\n",
    "    ])\n",
    "\n",
    "    # Paramergrid defined for the gridsearch\n",
    "    param_grid = {\n",
    "        'preprocessor__num__poly__degree': [1, 2, 3],\n",
    "        'classifier__alpha': np.logspace(-4, 4, 12),\n",
    "        'classifier__l1_ratio': [0, 0.1, 0.2, 0.3, 0.4, 0.5, 0.6, 0.7, 0.8, 0.9, 1],\n",
    "        'classifier__max_iter': [2000] \n",
    "    }\n",
    "    # Setting up the GridSearch with pipeline and parametergrid. 5-fold crossvalidation \n",
    "    grid_search = GridSearchCV(pipeline, param_grid, cv=5, scoring='neg_mean_squared_error')\n",
    "    \n",
    "    # Searching for optimal hyperparameters.\n",
    "    grid_search.fit(X_train, y_train)\n",
    "    \n",
    "    # grabbing information about the result\n",
    "    best_parameters = grid_search.best_params_\n",
    "    best_pipeline = grid_search.best_estimator_\n",
    "    \n",
    "    y_pred = y_scaler.inverse_transform(best_pipeline.predict(X_test).reshape(-1, 1)).flatten()\n",
    "    y_test_inv = y_scaler.inverse_transform(y_test.reshape(-1, 1)).flatten()\n",
    "\n",
    "    \n",
    "    rmse = mean_squared_error(y_test_inv, y_pred, squared=False)\n",
    "    r2 = r2_score(y_test_inv, y_pred)\n",
    "    coefficients = best_pipeline.named_steps['classifier'].coef_\n",
    "\n",
    "    # Grabbing names and weights of the polynomial features.\n",
    "    # First, get names of both numeric and categorical features\n",
    "    numeric_feature_names = numeric_features\n",
    "    categorical_feature_names = best_pipeline.named_steps['preprocessor'].named_transformers_['cat'].get_feature_names_out(categorical_features)\n",
    "    all_feature_names = np.concatenate([numeric_feature_names, categorical_feature_names])\n",
    "\n",
    "    # Now the polynomial feature names\n",
    "    #polynomial_feature_names = best_pipeline.named_steps['polynomial'].get_feature_names_out(input_features=all_feature_names)\n",
    "    # ovenstående kan slettes hvis det kører.\n",
    "    #polynomial_feature_names = best_pipeline.named_steps['preprocessor'].named_transformers_['num'].named_steps['poly'].get_feature_names_out(input_features=all_feature_names)\n",
    "    \n",
    "    # For numeriske features\n",
    "    poly_transformer = best_pipeline.named_steps['preprocessor'].named_transformers_['num'].named_steps['poly']\n",
    "    numeric_polynomial_feature_names = poly_transformer.get_feature_names_out(input_features=numeric_feature_names)\n",
    "\n",
    "    # For kategoriske features\n",
    "    categorical_feature_names = best_pipeline.named_steps['preprocessor'].named_transformers_['cat'].get_feature_names_out(input_features=categorical_features)\n",
    "\n",
    "    # Sammenkæd dem\n",
    "    polynomial_feature_names = np.concatenate([numeric_polynomial_feature_names, categorical_feature_names])\n",
    "\n",
    "    \n",
    "    \n",
    "    # Combining to one object\n",
    "    coefs =  zip(coefficients, polynomial_feature_names)\n",
    "    \n",
    "    # gets data for a learning curve\n",
    "    train_sizes, train_scores, test_scores = learning_curve(estimator=best_pipeline,\n",
    "                   X=X_train,\n",
    "                   y=y_train,\n",
    "                   train_sizes=np.arange(0.05, 1.05, .05),\n",
    "                   scoring='neg_mean_squared_error',                 \n",
    "                   cv=10)\n",
    "    \n",
    "    learning_curve_data = pd.DataFrame({'Train':-train_scores.mean(axis=1),\n",
    "                     'Test':-test_scores.mean(axis=1),\n",
    "                     'sample size':train_sizes})\n",
    "    \n",
    "    # Finally return fitted models, parameters, metrics, coefficients and data for a learning curve\n",
    "    return (grid_search, best_parameters, rmse, r2, coefs, learning_curve_data)\n",
    "\n",
    "    "
   ]
  },
  {
   "cell_type": "code",
   "execution_count": 31,
   "id": "d5b70396",
   "metadata": {
    "scrolled": true
   },
   "outputs": [
    {
     "name": "stderr",
     "output_type": "stream",
     "text": [
      "\r",
      "  0%|                                                                                           | 0/98 [00:00<?, ?it/s]"
     ]
    },
    {
     "name": "stdout",
     "output_type": "stream",
     "text": [
      "..\\Boliga data\\agg_data\\agg_sales_1992_2022_101.csv\n"
     ]
    },
    {
     "name": "stderr",
     "output_type": "stream",
     "text": [
      "\r",
      "  1%|▊                                                                                  | 1/98 [00:31<50:15, 31.09s/it]"
     ]
    },
    {
     "name": "stdout",
     "output_type": "stream",
     "text": [
      "..\\Boliga data\\agg_data\\agg_sales_1992_2022_147.csv\n"
     ]
    },
    {
     "name": "stderr",
     "output_type": "stream",
     "text": [
      "\r",
      "  2%|█▋                                                                                 | 2/98 [00:59<47:00, 29.38s/it]"
     ]
    },
    {
     "name": "stdout",
     "output_type": "stream",
     "text": [
      "..\\Boliga data\\agg_data\\agg_sales_1992_2022_151.csv\n"
     ]
    },
    {
     "name": "stderr",
     "output_type": "stream",
     "text": [
      "\r",
      "  3%|██▌                                                                                | 3/98 [01:35<51:14, 32.36s/it]"
     ]
    },
    {
     "name": "stdout",
     "output_type": "stream",
     "text": [
      "..\\Boliga data\\agg_data\\agg_sales_1992_2022_153.csv\n"
     ]
    },
    {
     "name": "stderr",
     "output_type": "stream",
     "text": [
      "\r",
      "  4%|███▍                                                                               | 4/98 [02:04<48:45, 31.12s/it]"
     ]
    },
    {
     "name": "stdout",
     "output_type": "stream",
     "text": [
      "..\\Boliga data\\agg_data\\agg_sales_1992_2022_155.csv\n"
     ]
    },
    {
     "name": "stderr",
     "output_type": "stream",
     "text": [
      "\r",
      "  5%|████▏                                                                              | 5/98 [02:33<47:16, 30.50s/it]"
     ]
    },
    {
     "name": "stdout",
     "output_type": "stream",
     "text": [
      "..\\Boliga data\\agg_data\\agg_sales_1992_2022_157.csv\n"
     ]
    },
    {
     "name": "stderr",
     "output_type": "stream",
     "text": [
      "\r",
      "  6%|█████                                                                              | 6/98 [03:01<45:09, 29.45s/it]"
     ]
    },
    {
     "name": "stdout",
     "output_type": "stream",
     "text": [
      "..\\Boliga data\\agg_data\\agg_sales_1992_2022_159.csv\n"
     ]
    },
    {
     "name": "stderr",
     "output_type": "stream",
     "text": [
      "\r",
      "  7%|█████▉                                                                             | 7/98 [03:29<44:04, 29.06s/it]"
     ]
    },
    {
     "name": "stdout",
     "output_type": "stream",
     "text": [
      "..\\Boliga data\\agg_data\\agg_sales_1992_2022_161.csv\n"
     ]
    },
    {
     "name": "stderr",
     "output_type": "stream",
     "text": [
      "\r",
      "  8%|██████▊                                                                            | 8/98 [04:00<44:35, 29.73s/it]"
     ]
    },
    {
     "name": "stdout",
     "output_type": "stream",
     "text": [
      "..\\Boliga data\\agg_data\\agg_sales_1992_2022_163.csv\n"
     ]
    },
    {
     "name": "stderr",
     "output_type": "stream",
     "text": [
      "\r",
      "  9%|███████▌                                                                           | 9/98 [04:35<46:30, 31.35s/it]"
     ]
    },
    {
     "name": "stdout",
     "output_type": "stream",
     "text": [
      "..\\Boliga data\\agg_data\\agg_sales_1992_2022_165.csv\n"
     ]
    },
    {
     "name": "stderr",
     "output_type": "stream",
     "text": [
      "\r",
      " 10%|████████▎                                                                         | 10/98 [05:08<46:44, 31.87s/it]"
     ]
    },
    {
     "name": "stdout",
     "output_type": "stream",
     "text": [
      "..\\Boliga data\\agg_data\\agg_sales_1992_2022_167.csv\n"
     ]
    },
    {
     "name": "stderr",
     "output_type": "stream",
     "text": [
      "\r",
      " 11%|█████████▏                                                                        | 11/98 [05:41<46:35, 32.14s/it]"
     ]
    },
    {
     "name": "stdout",
     "output_type": "stream",
     "text": [
      "..\\Boliga data\\agg_data\\agg_sales_1992_2022_169.csv\n"
     ]
    },
    {
     "name": "stderr",
     "output_type": "stream",
     "text": [
      "\r",
      " 12%|██████████                                                                        | 12/98 [06:11<45:05, 31.45s/it]"
     ]
    },
    {
     "name": "stdout",
     "output_type": "stream",
     "text": [
      "..\\Boliga data\\agg_data\\agg_sales_1992_2022_173.csv\n"
     ]
    },
    {
     "name": "stderr",
     "output_type": "stream",
     "text": [
      "\r",
      " 13%|██████████▉                                                                       | 13/98 [06:52<48:42, 34.38s/it]"
     ]
    },
    {
     "name": "stdout",
     "output_type": "stream",
     "text": [
      "..\\Boliga data\\agg_data\\agg_sales_1992_2022_175.csv\n"
     ]
    },
    {
     "name": "stderr",
     "output_type": "stream",
     "text": [
      "\r",
      " 14%|███████████▋                                                                      | 14/98 [07:27<48:35, 34.71s/it]"
     ]
    },
    {
     "name": "stdout",
     "output_type": "stream",
     "text": [
      "..\\Boliga data\\agg_data\\agg_sales_1992_2022_183.csv\n"
     ]
    },
    {
     "name": "stderr",
     "output_type": "stream",
     "text": [
      "\r",
      " 15%|████████████▏                                                                   | 15/98 [08:34<1:01:09, 44.21s/it]"
     ]
    },
    {
     "name": "stdout",
     "output_type": "stream",
     "text": [
      "..\\Boliga data\\agg_data\\agg_sales_1992_2022_185.csv\n"
     ]
    },
    {
     "name": "stderr",
     "output_type": "stream",
     "text": [
      "\r",
      " 16%|█████████████                                                                   | 16/98 [09:25<1:03:13, 46.26s/it]"
     ]
    },
    {
     "name": "stdout",
     "output_type": "stream",
     "text": [
      "..\\Boliga data\\agg_data\\agg_sales_1992_2022_187.csv\n"
     ]
    },
    {
     "name": "stderr",
     "output_type": "stream",
     "text": [
      "\r",
      " 17%|█████████████▉                                                                  | 17/98 [10:27<1:09:07, 51.21s/it]"
     ]
    },
    {
     "name": "stdout",
     "output_type": "stream",
     "text": [
      "..\\Boliga data\\agg_data\\agg_sales_1992_2022_190.csv\n"
     ]
    },
    {
     "name": "stderr",
     "output_type": "stream",
     "text": [
      "\r",
      " 18%|██████████████▋                                                                 | 18/98 [11:29<1:12:32, 54.41s/it]"
     ]
    },
    {
     "name": "stdout",
     "output_type": "stream",
     "text": [
      "..\\Boliga data\\agg_data\\agg_sales_1992_2022_201.csv\n"
     ]
    },
    {
     "name": "stderr",
     "output_type": "stream",
     "text": [
      "\r",
      " 19%|███████████████▌                                                                | 19/98 [12:33<1:15:21, 57.23s/it]"
     ]
    },
    {
     "name": "stdout",
     "output_type": "stream",
     "text": [
      "..\\Boliga data\\agg_data\\agg_sales_1992_2022_210.csv\n"
     ]
    },
    {
     "name": "stderr",
     "output_type": "stream",
     "text": [
      "\r",
      " 20%|████████████████▎                                                               | 20/98 [13:37<1:17:03, 59.27s/it]"
     ]
    },
    {
     "name": "stdout",
     "output_type": "stream",
     "text": [
      "..\\Boliga data\\agg_data\\agg_sales_1992_2022_217.csv\n"
     ]
    },
    {
     "name": "stderr",
     "output_type": "stream",
     "text": [
      "\r",
      " 21%|█████████████████▏                                                              | 21/98 [14:37<1:16:19, 59.48s/it]"
     ]
    },
    {
     "name": "stdout",
     "output_type": "stream",
     "text": [
      "..\\Boliga data\\agg_data\\agg_sales_1992_2022_219.csv\n"
     ]
    },
    {
     "name": "stderr",
     "output_type": "stream",
     "text": [
      "\r",
      " 22%|█████████████████▉                                                              | 22/98 [15:38<1:16:04, 60.06s/it]"
     ]
    },
    {
     "name": "stdout",
     "output_type": "stream",
     "text": [
      "..\\Boliga data\\agg_data\\agg_sales_1992_2022_223.csv\n"
     ]
    },
    {
     "name": "stderr",
     "output_type": "stream",
     "text": [
      "\r",
      " 23%|██████████████████▊                                                             | 23/98 [16:43<1:16:54, 61.53s/it]"
     ]
    },
    {
     "name": "stdout",
     "output_type": "stream",
     "text": [
      "..\\Boliga data\\agg_data\\agg_sales_1992_2022_230.csv\n"
     ]
    },
    {
     "name": "stderr",
     "output_type": "stream",
     "text": [
      "\r",
      " 24%|███████████████████▌                                                            | 24/98 [17:39<1:13:50, 59.87s/it]"
     ]
    },
    {
     "name": "stdout",
     "output_type": "stream",
     "text": [
      "..\\Boliga data\\agg_data\\agg_sales_1992_2022_240.csv\n"
     ]
    },
    {
     "name": "stderr",
     "output_type": "stream",
     "text": [
      "\r",
      " 26%|████████████████████▍                                                           | 25/98 [18:33<1:10:27, 57.92s/it]"
     ]
    },
    {
     "name": "stdout",
     "output_type": "stream",
     "text": [
      "..\\Boliga data\\agg_data\\agg_sales_1992_2022_250.csv\n"
     ]
    },
    {
     "name": "stderr",
     "output_type": "stream",
     "text": [
      "\r",
      " 27%|█████████████████████▏                                                          | 26/98 [19:32<1:09:57, 58.29s/it]"
     ]
    },
    {
     "name": "stdout",
     "output_type": "stream",
     "text": [
      "..\\Boliga data\\agg_data\\agg_sales_1992_2022_253.csv\n"
     ]
    },
    {
     "name": "stderr",
     "output_type": "stream",
     "text": [
      "\r",
      " 28%|██████████████████████                                                          | 27/98 [20:28<1:08:12, 57.64s/it]"
     ]
    },
    {
     "name": "stdout",
     "output_type": "stream",
     "text": [
      "..\\Boliga data\\agg_data\\agg_sales_1992_2022_259.csv\n"
     ]
    },
    {
     "name": "stderr",
     "output_type": "stream",
     "text": [
      "\r",
      " 29%|██████████████████████▊                                                         | 28/98 [21:12<1:02:37, 53.67s/it]"
     ]
    },
    {
     "name": "stdout",
     "output_type": "stream",
     "text": [
      "..\\Boliga data\\agg_data\\agg_sales_1992_2022_260.csv\n"
     ]
    },
    {
     "name": "stderr",
     "output_type": "stream",
     "text": [
      "\r",
      " 30%|████████████████████████▎                                                         | 29/98 [21:57<58:44, 51.08s/it]"
     ]
    },
    {
     "name": "stdout",
     "output_type": "stream",
     "text": [
      "..\\Boliga data\\agg_data\\agg_sales_1992_2022_265.csv\n"
     ]
    },
    {
     "name": "stderr",
     "output_type": "stream",
     "text": [
      "\r",
      " 31%|█████████████████████████                                                         | 30/98 [22:42<55:41, 49.15s/it]"
     ]
    },
    {
     "name": "stdout",
     "output_type": "stream",
     "text": [
      "..\\Boliga data\\agg_data\\agg_sales_1992_2022_269.csv\n"
     ]
    },
    {
     "name": "stderr",
     "output_type": "stream",
     "text": [
      "\r",
      " 32%|█████████████████████████▉                                                        | 31/98 [23:21<51:34, 46.18s/it]"
     ]
    },
    {
     "name": "stdout",
     "output_type": "stream",
     "text": [
      "..\\Boliga data\\agg_data\\agg_sales_1992_2022_270.csv\n"
     ]
    },
    {
     "name": "stderr",
     "output_type": "stream",
     "text": [
      "\r",
      " 33%|██████████████████████████▊                                                       | 32/98 [24:04<49:30, 45.01s/it]"
     ]
    },
    {
     "name": "stdout",
     "output_type": "stream",
     "text": [
      "..\\Boliga data\\agg_data\\agg_sales_1992_2022_306.csv\n"
     ]
    },
    {
     "name": "stderr",
     "output_type": "stream",
     "text": [
      "\r",
      " 34%|███████████████████████████▌                                                      | 33/98 [24:42<46:38, 43.06s/it]"
     ]
    },
    {
     "name": "stdout",
     "output_type": "stream",
     "text": [
      "..\\Boliga data\\agg_data\\agg_sales_1992_2022_316.csv\n"
     ]
    },
    {
     "name": "stderr",
     "output_type": "stream",
     "text": [
      "\r",
      " 35%|████████████████████████████▍                                                     | 34/98 [25:26<46:14, 43.35s/it]"
     ]
    },
    {
     "name": "stdout",
     "output_type": "stream",
     "text": [
      "..\\Boliga data\\agg_data\\agg_sales_1992_2022_320.csv\n"
     ]
    },
    {
     "name": "stderr",
     "output_type": "stream",
     "text": [
      "\r",
      " 36%|█████████████████████████████▎                                                    | 35/98 [26:00<42:26, 40.42s/it]"
     ]
    },
    {
     "name": "stdout",
     "output_type": "stream",
     "text": [
      "..\\Boliga data\\agg_data\\agg_sales_1992_2022_326.csv\n"
     ]
    },
    {
     "name": "stderr",
     "output_type": "stream",
     "text": [
      "\r",
      " 37%|██████████████████████████████                                                    | 36/98 [26:38<41:13, 39.90s/it]"
     ]
    },
    {
     "name": "stdout",
     "output_type": "stream",
     "text": [
      "..\\Boliga data\\agg_data\\agg_sales_1992_2022_329.csv\n"
     ]
    },
    {
     "name": "stderr",
     "output_type": "stream",
     "text": [
      "\r",
      " 38%|██████████████████████████████▉                                                   | 37/98 [27:14<39:13, 38.58s/it]"
     ]
    },
    {
     "name": "stdout",
     "output_type": "stream",
     "text": [
      "..\\Boliga data\\agg_data\\agg_sales_1992_2022_330.csv\n"
     ]
    },
    {
     "name": "stderr",
     "output_type": "stream",
     "text": [
      "\r",
      " 39%|███████████████████████████████▊                                                  | 38/98 [27:51<38:02, 38.04s/it]"
     ]
    },
    {
     "name": "stdout",
     "output_type": "stream",
     "text": [
      "..\\Boliga data\\agg_data\\agg_sales_1992_2022_336.csv\n"
     ]
    },
    {
     "name": "stderr",
     "output_type": "stream",
     "text": [
      "\r",
      " 40%|████████████████████████████████▋                                                 | 39/98 [28:24<35:56, 36.56s/it]"
     ]
    },
    {
     "name": "stdout",
     "output_type": "stream",
     "text": [
      "..\\Boliga data\\agg_data\\agg_sales_1992_2022_340.csv\n"
     ]
    },
    {
     "name": "stderr",
     "output_type": "stream",
     "text": [
      "\r",
      " 41%|█████████████████████████████████▍                                                | 40/98 [28:58<34:39, 35.85s/it]"
     ]
    },
    {
     "name": "stdout",
     "output_type": "stream",
     "text": [
      "..\\Boliga data\\agg_data\\agg_sales_1992_2022_350.csv\n"
     ]
    },
    {
     "name": "stderr",
     "output_type": "stream",
     "text": [
      "\r",
      " 42%|██████████████████████████████████▎                                               | 41/98 [29:30<33:00, 34.74s/it]"
     ]
    },
    {
     "name": "stdout",
     "output_type": "stream",
     "text": [
      "..\\Boliga data\\agg_data\\agg_sales_1992_2022_360.csv\n"
     ]
    },
    {
     "name": "stderr",
     "output_type": "stream",
     "text": [
      "\r",
      " 43%|███████████████████████████████████▏                                              | 42/98 [30:01<31:28, 33.73s/it]"
     ]
    },
    {
     "name": "stdout",
     "output_type": "stream",
     "text": [
      "..\\Boliga data\\agg_data\\agg_sales_1992_2022_370.csv\n"
     ]
    },
    {
     "name": "stderr",
     "output_type": "stream",
     "text": [
      "\r",
      " 44%|███████████████████████████████████▉                                              | 43/98 [30:36<31:06, 33.94s/it]"
     ]
    },
    {
     "name": "stdout",
     "output_type": "stream",
     "text": [
      "..\\Boliga data\\agg_data\\agg_sales_1992_2022_376.csv\n"
     ]
    },
    {
     "name": "stderr",
     "output_type": "stream",
     "text": [
      "\r",
      " 45%|████████████████████████████████████▊                                             | 44/98 [31:07<29:42, 33.01s/it]"
     ]
    },
    {
     "name": "stdout",
     "output_type": "stream",
     "text": [
      "..\\Boliga data\\agg_data\\agg_sales_1992_2022_390.csv\n"
     ]
    },
    {
     "name": "stderr",
     "output_type": "stream",
     "text": [
      "\r",
      " 46%|█████████████████████████████████████▋                                            | 45/98 [31:38<28:34, 32.35s/it]"
     ]
    },
    {
     "name": "stdout",
     "output_type": "stream",
     "text": [
      "..\\Boliga data\\agg_data\\agg_sales_1992_2022_400.csv\n"
     ]
    },
    {
     "name": "stderr",
     "output_type": "stream",
     "text": [
      "\r",
      " 47%|██████████████████████████████████████▍                                           | 46/98 [32:09<27:54, 32.21s/it]"
     ]
    },
    {
     "name": "stdout",
     "output_type": "stream",
     "text": [
      "..\\Boliga data\\agg_data\\agg_sales_1992_2022_410.csv\n"
     ]
    },
    {
     "name": "stderr",
     "output_type": "stream",
     "text": [
      "\r",
      " 48%|███████████████████████████████████████▎                                          | 47/98 [32:41<27:19, 32.15s/it]"
     ]
    },
    {
     "name": "stdout",
     "output_type": "stream",
     "text": [
      "..\\Boliga data\\agg_data\\agg_sales_1992_2022_420.csv\n"
     ]
    },
    {
     "name": "stderr",
     "output_type": "stream",
     "text": [
      "\r",
      " 49%|████████████████████████████████████████▏                                         | 48/98 [33:12<26:23, 31.67s/it]"
     ]
    },
    {
     "name": "stdout",
     "output_type": "stream",
     "text": [
      "..\\Boliga data\\agg_data\\agg_sales_1992_2022_430.csv\n"
     ]
    },
    {
     "name": "stderr",
     "output_type": "stream",
     "text": [
      "\r",
      " 50%|█████████████████████████████████████████                                         | 49/98 [33:43<25:44, 31.52s/it]"
     ]
    },
    {
     "name": "stdout",
     "output_type": "stream",
     "text": [
      "..\\Boliga data\\agg_data\\agg_sales_1992_2022_440.csv\n"
     ]
    },
    {
     "name": "stderr",
     "output_type": "stream",
     "text": [
      "\r",
      " 51%|█████████████████████████████████████████▊                                        | 50/98 [34:12<24:34, 30.72s/it]"
     ]
    },
    {
     "name": "stdout",
     "output_type": "stream",
     "text": [
      "..\\Boliga data\\agg_data\\agg_sales_1992_2022_450.csv\n"
     ]
    },
    {
     "name": "stderr",
     "output_type": "stream",
     "text": [
      "\r",
      " 52%|██████████████████████████████████████████▋                                       | 51/98 [34:43<24:05, 30.76s/it]"
     ]
    },
    {
     "name": "stdout",
     "output_type": "stream",
     "text": [
      "..\\Boliga data\\agg_data\\agg_sales_1992_2022_461.csv\n"
     ]
    },
    {
     "name": "stderr",
     "output_type": "stream",
     "text": [
      "\r",
      " 53%|███████████████████████████████████████████▌                                      | 52/98 [35:11<23:01, 30.02s/it]"
     ]
    },
    {
     "name": "stdout",
     "output_type": "stream",
     "text": [
      "..\\Boliga data\\agg_data\\agg_sales_1992_2022_479.csv\n"
     ]
    },
    {
     "name": "stderr",
     "output_type": "stream",
     "text": [
      "\r",
      " 54%|████████████████████████████████████████████▎                                     | 53/98 [35:42<22:48, 30.41s/it]"
     ]
    },
    {
     "name": "stdout",
     "output_type": "stream",
     "text": [
      "..\\Boliga data\\agg_data\\agg_sales_1992_2022_480.csv\n"
     ]
    },
    {
     "name": "stderr",
     "output_type": "stream",
     "text": [
      "\r",
      " 55%|█████████████████████████████████████████████▏                                    | 54/98 [36:12<22:12, 30.29s/it]"
     ]
    },
    {
     "name": "stdout",
     "output_type": "stream",
     "text": [
      "..\\Boliga data\\agg_data\\agg_sales_1992_2022_482.csv\n"
     ]
    },
    {
     "name": "stderr",
     "output_type": "stream",
     "text": [
      "\r",
      " 56%|██████████████████████████████████████████████                                    | 55/98 [36:43<21:39, 30.22s/it]"
     ]
    },
    {
     "name": "stdout",
     "output_type": "stream",
     "text": [
      "..\\Boliga data\\agg_data\\agg_sales_1992_2022_492.csv\n"
     ]
    },
    {
     "name": "stderr",
     "output_type": "stream",
     "text": [
      "\r",
      " 57%|██████████████████████████████████████████████▊                                   | 56/98 [37:12<21:04, 30.11s/it]"
     ]
    },
    {
     "name": "stdout",
     "output_type": "stream",
     "text": [
      "..\\Boliga data\\agg_data\\agg_sales_1992_2022_510.csv\n"
     ]
    },
    {
     "name": "stderr",
     "output_type": "stream",
     "text": [
      "\r",
      " 58%|███████████████████████████████████████████████▋                                  | 57/98 [37:42<20:29, 29.98s/it]"
     ]
    },
    {
     "name": "stdout",
     "output_type": "stream",
     "text": [
      "..\\Boliga data\\agg_data\\agg_sales_1992_2022_530.csv\n"
     ]
    },
    {
     "name": "stderr",
     "output_type": "stream",
     "text": [
      "\r",
      " 59%|████████████████████████████████████████████████▌                                 | 58/98 [38:10<19:39, 29.49s/it]"
     ]
    },
    {
     "name": "stdout",
     "output_type": "stream",
     "text": [
      "..\\Boliga data\\agg_data\\agg_sales_1992_2022_540.csv\n"
     ]
    },
    {
     "name": "stderr",
     "output_type": "stream",
     "text": [
      "\r",
      " 60%|█████████████████████████████████████████████████▎                                | 59/98 [38:40<19:09, 29.47s/it]"
     ]
    },
    {
     "name": "stdout",
     "output_type": "stream",
     "text": [
      "..\\Boliga data\\agg_data\\agg_sales_1992_2022_550.csv\n"
     ]
    },
    {
     "name": "stderr",
     "output_type": "stream",
     "text": [
      "\r",
      " 61%|██████████████████████████████████████████████████▏                               | 60/98 [39:10<18:44, 29.59s/it]"
     ]
    },
    {
     "name": "stdout",
     "output_type": "stream",
     "text": [
      "..\\Boliga data\\agg_data\\agg_sales_1992_2022_561.csv\n"
     ]
    },
    {
     "name": "stderr",
     "output_type": "stream",
     "text": [
      "\r",
      " 62%|███████████████████████████████████████████████████                               | 61/98 [39:39<18:15, 29.62s/it]"
     ]
    },
    {
     "name": "stdout",
     "output_type": "stream",
     "text": [
      "..\\Boliga data\\agg_data\\agg_sales_1992_2022_563.csv\n"
     ]
    },
    {
     "name": "stderr",
     "output_type": "stream",
     "text": [
      "\r",
      " 63%|███████████████████████████████████████████████████▉                              | 62/98 [40:11<18:09, 30.25s/it]"
     ]
    },
    {
     "name": "stdout",
     "output_type": "stream",
     "text": [
      "..\\Boliga data\\agg_data\\agg_sales_1992_2022_573.csv\n"
     ]
    },
    {
     "name": "stderr",
     "output_type": "stream",
     "text": [
      "\r",
      " 64%|████████████████████████████████████████████████████▋                             | 63/98 [40:43<17:51, 30.61s/it]"
     ]
    },
    {
     "name": "stdout",
     "output_type": "stream",
     "text": [
      "..\\Boliga data\\agg_data\\agg_sales_1992_2022_575.csv\n"
     ]
    },
    {
     "name": "stderr",
     "output_type": "stream",
     "text": [
      "\r",
      " 65%|█████████████████████████████████████████████████████▌                            | 64/98 [41:13<17:16, 30.48s/it]"
     ]
    },
    {
     "name": "stdout",
     "output_type": "stream",
     "text": [
      "..\\Boliga data\\agg_data\\agg_sales_1992_2022_580.csv\n"
     ]
    },
    {
     "name": "stderr",
     "output_type": "stream",
     "text": [
      "\r",
      " 66%|██████████████████████████████████████████████████████▍                           | 65/98 [41:43<16:40, 30.32s/it]"
     ]
    },
    {
     "name": "stdout",
     "output_type": "stream",
     "text": [
      "..\\Boliga data\\agg_data\\agg_sales_1992_2022_607.csv\n"
     ]
    },
    {
     "name": "stderr",
     "output_type": "stream",
     "text": [
      "\r",
      " 67%|███████████████████████████████████████████████████████▏                          | 66/98 [42:16<16:40, 31.28s/it]"
     ]
    },
    {
     "name": "stdout",
     "output_type": "stream",
     "text": [
      "..\\Boliga data\\agg_data\\agg_sales_1992_2022_615.csv\n"
     ]
    },
    {
     "name": "stderr",
     "output_type": "stream",
     "text": [
      "\r",
      " 68%|████████████████████████████████████████████████████████                          | 67/98 [42:48<16:18, 31.58s/it]"
     ]
    },
    {
     "name": "stdout",
     "output_type": "stream",
     "text": [
      "..\\Boliga data\\agg_data\\agg_sales_1992_2022_621.csv\n"
     ]
    },
    {
     "name": "stderr",
     "output_type": "stream",
     "text": [
      "\r",
      " 69%|████████████████████████████████████████████████████████▉                         | 68/98 [43:19<15:38, 31.27s/it]"
     ]
    },
    {
     "name": "stdout",
     "output_type": "stream",
     "text": [
      "..\\Boliga data\\agg_data\\agg_sales_1992_2022_630.csv\n"
     ]
    },
    {
     "name": "stderr",
     "output_type": "stream",
     "text": [
      "\r",
      " 70%|█████████████████████████████████████████████████████████▋                        | 69/98 [43:49<14:58, 30.99s/it]"
     ]
    },
    {
     "name": "stdout",
     "output_type": "stream",
     "text": [
      "..\\Boliga data\\agg_data\\agg_sales_1992_2022_657.csv\n"
     ]
    },
    {
     "name": "stderr",
     "output_type": "stream",
     "text": [
      "\r",
      " 71%|██████████████████████████████████████████████████████████▌                       | 70/98 [44:21<14:29, 31.07s/it]"
     ]
    },
    {
     "name": "stdout",
     "output_type": "stream",
     "text": [
      "..\\Boliga data\\agg_data\\agg_sales_1992_2022_661.csv\n"
     ]
    },
    {
     "name": "stderr",
     "output_type": "stream",
     "text": [
      "\r",
      " 72%|███████████████████████████████████████████████████████████▍                      | 71/98 [44:52<14:04, 31.27s/it]"
     ]
    },
    {
     "name": "stdout",
     "output_type": "stream",
     "text": [
      "..\\Boliga data\\agg_data\\agg_sales_1992_2022_665.csv\n"
     ]
    },
    {
     "name": "stderr",
     "output_type": "stream",
     "text": [
      "\r",
      " 73%|████████████████████████████████████████████████████████████▏                     | 72/98 [45:23<13:27, 31.04s/it]"
     ]
    },
    {
     "name": "stdout",
     "output_type": "stream",
     "text": [
      "..\\Boliga data\\agg_data\\agg_sales_1992_2022_671.csv\n"
     ]
    },
    {
     "name": "stderr",
     "output_type": "stream",
     "text": [
      "\r",
      " 74%|█████████████████████████████████████████████████████████████                     | 73/98 [45:54<12:54, 30.99s/it]"
     ]
    },
    {
     "name": "stdout",
     "output_type": "stream",
     "text": [
      "..\\Boliga data\\agg_data\\agg_sales_1992_2022_706.csv\n"
     ]
    },
    {
     "name": "stderr",
     "output_type": "stream",
     "text": [
      "\r",
      " 76%|█████████████████████████████████████████████████████████████▉                    | 74/98 [46:27<12:38, 31.61s/it]"
     ]
    },
    {
     "name": "stdout",
     "output_type": "stream",
     "text": [
      "..\\Boliga data\\agg_data\\agg_sales_1992_2022_707.csv\n"
     ]
    },
    {
     "name": "stderr",
     "output_type": "stream",
     "text": [
      "\r",
      " 77%|██████████████████████████████████████████████████████████████▊                   | 75/98 [47:00<12:15, 31.97s/it]"
     ]
    },
    {
     "name": "stdout",
     "output_type": "stream",
     "text": [
      "..\\Boliga data\\agg_data\\agg_sales_1992_2022_710.csv\n"
     ]
    },
    {
     "name": "stderr",
     "output_type": "stream",
     "text": [
      "\r",
      " 78%|███████████████████████████████████████████████████████████████▌                  | 76/98 [47:29<11:23, 31.07s/it]"
     ]
    },
    {
     "name": "stdout",
     "output_type": "stream",
     "text": [
      "..\\Boliga data\\agg_data\\agg_sales_1992_2022_727.csv\n"
     ]
    },
    {
     "name": "stderr",
     "output_type": "stream",
     "text": [
      "\r",
      " 79%|████████████████████████████████████████████████████████████████▍                 | 77/98 [47:58<10:44, 30.70s/it]"
     ]
    },
    {
     "name": "stdout",
     "output_type": "stream",
     "text": [
      "..\\Boliga data\\agg_data\\agg_sales_1992_2022_730.csv\n"
     ]
    },
    {
     "name": "stderr",
     "output_type": "stream",
     "text": [
      "\r",
      " 80%|█████████████████████████████████████████████████████████████████▎                | 78/98 [48:29<10:12, 30.64s/it]"
     ]
    },
    {
     "name": "stdout",
     "output_type": "stream",
     "text": [
      "..\\Boliga data\\agg_data\\agg_sales_1992_2022_740.csv\n"
     ]
    },
    {
     "name": "stderr",
     "output_type": "stream",
     "text": [
      "\r",
      " 81%|██████████████████████████████████████████████████████████████████                | 79/98 [49:01<09:53, 31.21s/it]"
     ]
    },
    {
     "name": "stdout",
     "output_type": "stream",
     "text": [
      "..\\Boliga data\\agg_data\\agg_sales_1992_2022_741.csv\n"
     ]
    },
    {
     "name": "stderr",
     "output_type": "stream",
     "text": [
      "\r",
      " 82%|██████████████████████████████████████████████████████████████████▉               | 80/98 [49:33<09:23, 31.30s/it]"
     ]
    },
    {
     "name": "stdout",
     "output_type": "stream",
     "text": [
      "..\\Boliga data\\agg_data\\agg_sales_1992_2022_746.csv\n"
     ]
    },
    {
     "name": "stderr",
     "output_type": "stream",
     "text": [
      "\r",
      " 83%|███████████████████████████████████████████████████████████████████▊              | 81/98 [50:03<08:47, 31.02s/it]"
     ]
    },
    {
     "name": "stdout",
     "output_type": "stream",
     "text": [
      "..\\Boliga data\\agg_data\\agg_sales_1992_2022_751.csv\n"
     ]
    },
    {
     "name": "stderr",
     "output_type": "stream",
     "text": [
      "\r",
      " 84%|████████████████████████████████████████████████████████████████████▌             | 82/98 [50:35<08:18, 31.14s/it]"
     ]
    },
    {
     "name": "stdout",
     "output_type": "stream",
     "text": [
      "..\\Boliga data\\agg_data\\agg_sales_1992_2022_756.csv\n"
     ]
    },
    {
     "name": "stderr",
     "output_type": "stream",
     "text": [
      "\r",
      " 85%|█████████████████████████████████████████████████████████████████████▍            | 83/98 [51:04<07:38, 30.55s/it]"
     ]
    },
    {
     "name": "stdout",
     "output_type": "stream",
     "text": [
      "..\\Boliga data\\agg_data\\agg_sales_1992_2022_760.csv\n"
     ]
    },
    {
     "name": "stderr",
     "output_type": "stream",
     "text": [
      "\r",
      " 86%|██████████████████████████████████████████████████████████████████████▎           | 84/98 [51:33<07:02, 30.17s/it]"
     ]
    },
    {
     "name": "stdout",
     "output_type": "stream",
     "text": [
      "..\\Boliga data\\agg_data\\agg_sales_1992_2022_766.csv\n"
     ]
    },
    {
     "name": "stderr",
     "output_type": "stream",
     "text": [
      "\r",
      " 87%|███████████████████████████████████████████████████████████████████████           | 85/98 [52:04<06:33, 30.27s/it]"
     ]
    },
    {
     "name": "stdout",
     "output_type": "stream",
     "text": [
      "..\\Boliga data\\agg_data\\agg_sales_1992_2022_773.csv\n"
     ]
    },
    {
     "name": "stderr",
     "output_type": "stream",
     "text": [
      "\r",
      " 88%|███████████████████████████████████████████████████████████████████████▉          | 86/98 [52:33<05:58, 29.92s/it]"
     ]
    },
    {
     "name": "stdout",
     "output_type": "stream",
     "text": [
      "..\\Boliga data\\agg_data\\agg_sales_1992_2022_779.csv\n"
     ]
    },
    {
     "name": "stderr",
     "output_type": "stream",
     "text": [
      "\r",
      " 89%|████████████████████████████████████████████████████████████████████████▊         | 87/98 [53:02<05:28, 29.82s/it]"
     ]
    },
    {
     "name": "stdout",
     "output_type": "stream",
     "text": [
      "..\\Boliga data\\agg_data\\agg_sales_1992_2022_787.csv\n"
     ]
    },
    {
     "name": "stderr",
     "output_type": "stream",
     "text": [
      "\r",
      " 90%|█████████████████████████████████████████████████████████████████████████▋        | 88/98 [53:33<05:00, 30.05s/it]"
     ]
    },
    {
     "name": "stdout",
     "output_type": "stream",
     "text": [
      "..\\Boliga data\\agg_data\\agg_sales_1992_2022_791.csv\n"
     ]
    },
    {
     "name": "stderr",
     "output_type": "stream",
     "text": [
      "\r",
      " 91%|██████████████████████████████████████████████████████████████████████████▍       | 89/98 [54:08<04:44, 31.58s/it]"
     ]
    },
    {
     "name": "stdout",
     "output_type": "stream",
     "text": [
      "..\\Boliga data\\agg_data\\agg_sales_1992_2022_810.csv\n"
     ]
    },
    {
     "name": "stderr",
     "output_type": "stream",
     "text": [
      "\r",
      " 92%|███████████████████████████████████████████████████████████████████████████▎      | 90/98 [54:42<04:17, 32.14s/it]"
     ]
    },
    {
     "name": "stdout",
     "output_type": "stream",
     "text": [
      "..\\Boliga data\\agg_data\\agg_sales_1992_2022_813.csv\n"
     ]
    },
    {
     "name": "stderr",
     "output_type": "stream",
     "text": [
      "\r",
      " 93%|████████████████████████████████████████████████████████████████████████████▏     | 91/98 [55:14<03:44, 32.12s/it]"
     ]
    },
    {
     "name": "stdout",
     "output_type": "stream",
     "text": [
      "..\\Boliga data\\agg_data\\agg_sales_1992_2022_820.csv\n"
     ]
    },
    {
     "name": "stderr",
     "output_type": "stream",
     "text": [
      "\r",
      " 94%|████████████████████████████████████████████████████████████████████████████▉     | 92/98 [55:43<03:07, 31.32s/it]"
     ]
    },
    {
     "name": "stdout",
     "output_type": "stream",
     "text": [
      "..\\Boliga data\\agg_data\\agg_sales_1992_2022_825.csv\n"
     ]
    },
    {
     "name": "stderr",
     "output_type": "stream",
     "text": [
      "\r",
      " 95%|█████████████████████████████████████████████████████████████████████████████▊    | 93/98 [56:13<02:34, 30.83s/it]"
     ]
    },
    {
     "name": "stdout",
     "output_type": "stream",
     "text": [
      "..\\Boliga data\\agg_data\\agg_sales_1992_2022_840.csv\n"
     ]
    },
    {
     "name": "stderr",
     "output_type": "stream",
     "text": [
      "\r",
      " 96%|██████████████████████████████████████████████████████████████████████████████▋   | 94/98 [56:44<02:03, 30.79s/it]"
     ]
    },
    {
     "name": "stdout",
     "output_type": "stream",
     "text": [
      "..\\Boliga data\\agg_data\\agg_sales_1992_2022_846.csv\n"
     ]
    },
    {
     "name": "stderr",
     "output_type": "stream",
     "text": [
      "\r",
      " 97%|███████████████████████████████████████████████████████████████████████████████▍  | 95/98 [57:15<01:32, 30.88s/it]"
     ]
    },
    {
     "name": "stdout",
     "output_type": "stream",
     "text": [
      "..\\Boliga data\\agg_data\\agg_sales_1992_2022_849.csv\n"
     ]
    },
    {
     "name": "stderr",
     "output_type": "stream",
     "text": [
      "\r",
      " 98%|████████████████████████████████████████████████████████████████████████████████▎ | 96/98 [57:53<01:06, 33.01s/it]"
     ]
    },
    {
     "name": "stdout",
     "output_type": "stream",
     "text": [
      "..\\Boliga data\\agg_data\\agg_sales_1992_2022_851.csv\n"
     ]
    },
    {
     "name": "stderr",
     "output_type": "stream",
     "text": [
      "\r",
      " 99%|█████████████████████████████████████████████████████████████████████████████████▏| 97/98 [58:22<00:32, 32.00s/it]"
     ]
    },
    {
     "name": "stdout",
     "output_type": "stream",
     "text": [
      "..\\Boliga data\\agg_data\\agg_sales_1992_2022_860.csv\n"
     ]
    },
    {
     "name": "stderr",
     "output_type": "stream",
     "text": [
      "100%|██████████████████████████████████████████████████████████████████████████████████| 98/98 [58:53<00:00, 36.06s/it]\n"
     ]
    }
   ],
   "source": [
    "# Getting aggregated data stored as csv's\n",
    "fp = Path(\"../Boliga data/agg_data/\")\n",
    "files = list(fp.glob('*.csv'))\n",
    "\n",
    "# initialising dataframes for saving results of the fits\n",
    "metrics = pd.DataFrame(columns=['muni_code', 'rmse', 'r2'])\n",
    "fitted_models = pd.DataFrame(columns=['muni_code', 'pickled_model'])\n",
    "learning_curves = pd.DataFrame(columns=['muni_code',  \"Train\",\"Test\", \"sample size\"])\n",
    "coefficients = pd.DataFrame(columns=['muni_code', 'value', 'parameter'])\n",
    "parameters = pd.DataFrame(columns=['muni_code', 'Parameter', 'Value']) \n",
    "\n",
    "data_to_concat = []  # Collect data frames to concatenate\n",
    "\n",
    "# running the loop for modelling\n",
    "for filename in tqdm.tqdm(sorted(files)):\n",
    "    print(filename)\n",
    "    muni_code = re.search(r'(\\d+)\\.csv$', str(filename)).group(1)  # extracting muni_code\n",
    "    data = pd.read_csv(filename)  # reading data\n",
    "    data = add_features_to_data(data)  # feature adding\n",
    "    data = data.drop(columns=[\"year\", \"muni_code\"])  # dropping columns\n",
    "    grid_search, best_parameters, rmse, r2, coefs, learning_curve_data = make_a_model(data)\n",
    "\n",
    "    # saving pickled models\n",
    "    rick = pickle.dumps(grid_search)\n",
    "    model_row = pd.DataFrame({'muni_code': [muni_code],\n",
    "                              'pickled_model': [rick]})\n",
    "    fitted_models= pd.concat([model_row, fitted_models], ignore_index=True)\n",
    "\n",
    "    # saving metrics\n",
    "    metric_tuple = (muni_code, rmse, r2)\n",
    "    metric_row = pd.DataFrame([metric_tuple], columns=metrics.columns)\n",
    "    metrics = pd.concat([metric_row, metrics], ignore_index= True)\n",
    "\n",
    "    # saving parameters\n",
    "    param_row = pd.DataFrame(list(best_parameters.items()), columns=['Parameter', 'Value'])\n",
    "    param_row['muni_code'] = muni_code\n",
    "    parameters = pd.concat([param_row, parameters], ignore_index = True)\n",
    "\n",
    "    # saving coefficients\n",
    "    coef_row = pd.DataFrame(coefs, columns=['value', 'parameter'])\n",
    "    coef_row['muni_code'] = muni_code\n",
    "    coefficients = pd.concat([coef_row, coefficients], ignore_index = True)\n",
    "\n",
    "    # saving learning curve data\n",
    "    learning_curve_data['muni_code'] = muni_code\n",
    "    learning_curves = pd.concat([learning_curve_data, learning_curves], ignore_index = True)\n",
    "\n",
    "\n",
    "\n"
   ]
  },
  {
   "cell_type": "code",
   "execution_count": 32,
   "id": "18e43805",
   "metadata": {},
   "outputs": [],
   "source": [
    "\n",
    "# fitted_models \n",
    "\n",
    "coefficients.to_csv(\"fitted_models/coefficients_elastic.csv\")\n",
    "metrics.to_csv(\"fitted_models/metrics_elastic.csv\")\n",
    "learning_curves.to_csv(\"fitted_models/learning_curves_elastic.csv\")\n",
    "fitted_models.to_csv(\"fitted_models/fitted_models_elastic.csv\")\n",
    "parameters.to_csv(\"fitted_models/parameters_elastic.csv\")"
   ]
  },
  {
   "cell_type": "code",
   "execution_count": null,
   "id": "f1e2b0c0",
   "metadata": {},
   "outputs": [],
   "source": []
  },
  {
   "cell_type": "code",
   "execution_count": null,
   "id": "c1e06b88",
   "metadata": {},
   "outputs": [],
   "source": []
  },
  {
   "cell_type": "code",
   "execution_count": null,
   "id": "da7cfc3b",
   "metadata": {},
   "outputs": [],
   "source": [
    "def learning_curve_plot(tester):\n",
    "    f_learn, ax = plt.subplots(figsize=(7,3))\n",
    "    ax.plot(tester[\"sample size\"],np.sqrt(tester[\"Test\"]), alpha=0.25, linewidth=2, label ='Test', color='blue') # negated, because we already use neg_MSE\n",
    "    ax.plot(tester[\"sample size\"],np.sqrt(tester[\"Train\"]), alpha=0.25, linewidth=2, label='Train', color='orange') # negated, because we already use neg_MSE\n",
    "\n",
    "    ax.set_title('Mean performance')\n",
    "    ax.set_ylabel('Root-Mean squared error')\n",
    "    ax.legend();\n",
    "learning_curve_plot(tester)"
   ]
  }
 ],
 "metadata": {
  "kernelspec": {
   "display_name": "Python 3 (ipykernel)",
   "language": "python",
   "name": "python3"
  },
  "language_info": {
   "codemirror_mode": {
    "name": "ipython",
    "version": 3
   },
   "file_extension": ".py",
   "mimetype": "text/x-python",
   "name": "python",
   "nbconvert_exporter": "python",
   "pygments_lexer": "ipython3",
   "version": "3.9.12"
  }
 },
 "nbformat": 4,
 "nbformat_minor": 5
}
