{
 "cells": [
  {
   "cell_type": "code",
   "execution_count": null,
   "id": "5cb129da",
   "metadata": {},
   "outputs": [],
   "source": [
    "STRAF2Anmeldte forbrydelser og sigtelser efter område, overtrædelsens art og anmeldte og sigtede (AFSLUTTET) (1995-2006)      \n"
   ]
  }
 ],
 "metadata": {
  "kernelspec": {
   "display_name": "Python 3 (ipykernel)",
   "language": "python",
   "name": "python3"
  },
  "language_info": {
   "codemirror_mode": {
    "name": "ipython",
    "version": 3
   },
   "file_extension": ".py",
   "mimetype": "text/x-python",
   "name": "python",
   "nbconvert_exporter": "python",
   "pygments_lexer": "ipython3",
   "version": "3.9.12"
  }
 },
 "nbformat": 4,
 "nbformat_minor": 5
}
