{
 "cells": [
  {
   "cell_type": "markdown",
   "id": "bcd9c37e",
   "metadata": {},
   "source": [
    "Henter oplysninger på sammenlagte kommuner fra wikipedia\n"
   ]
  },
  {
   "cell_type": "code",
   "execution_count": 7,
   "id": "d66a9e93",
   "metadata": {},
   "outputs": [
    {
     "data": {
      "text/html": [
       "<div>\n",
       "<style scoped>\n",
       "    .dataframe tbody tr th:only-of-type {\n",
       "        vertical-align: middle;\n",
       "    }\n",
       "\n",
       "    .dataframe tbody tr th {\n",
       "        vertical-align: top;\n",
       "    }\n",
       "\n",
       "    .dataframe thead th {\n",
       "        text-align: right;\n",
       "    }\n",
       "</style>\n",
       "<table border=\"1\" class=\"dataframe\">\n",
       "  <thead>\n",
       "    <tr style=\"text-align: right;\">\n",
       "      <th></th>\n",
       "      <th>Lovgivende</th>\n",
       "    </tr>\n",
       "  </thead>\n",
       "  <tbody>\n",
       "    <tr>\n",
       "      <th>0</th>\n",
       "      <td>Folketing (parlament) Formand: Søren Gade Medl...</td>\n",
       "    </tr>\n",
       "  </tbody>\n",
       "</table>\n",
       "</div>"
      ],
      "text/plain": [
       "                                          Lovgivende\n",
       "0  Folketing (parlament) Formand: Søren Gade Medl..."
      ]
     },
     "execution_count": 7,
     "metadata": {},
     "output_type": "execute_result"
    }
   ],
   "source": [
    "import pandas as pd\n",
    "\n",
    "# henter tabeller på wikipedia\n",
    "df = pd.read_html('https://da.wikipedia.org/wiki/Strukturreformen')\n",
    "\n"
   ]
  },
  {
   "cell_type": "code",
   "execution_count": 19,
   "id": "b9075df0",
   "metadata": {},
   "outputs": [
    {
     "data": {
      "text/html": [
       "<div>\n",
       "<style scoped>\n",
       "    .dataframe tbody tr th:only-of-type {\n",
       "        vertical-align: middle;\n",
       "    }\n",
       "\n",
       "    .dataframe tbody tr th {\n",
       "        vertical-align: top;\n",
       "    }\n",
       "\n",
       "    .dataframe thead tr th {\n",
       "        text-align: left;\n",
       "    }\n",
       "</style>\n",
       "<table border=\"1\" class=\"dataframe\">\n",
       "  <thead>\n",
       "    <tr>\n",
       "      <th></th>\n",
       "      <th colspan=\"4\" halign=\"left\">Kommunerne fordelt efter indbyggertal</th>\n",
       "    </tr>\n",
       "    <tr>\n",
       "      <th></th>\n",
       "      <th>Indbyggertal</th>\n",
       "      <th colspan=\"3\" halign=\"left\">Antal kommuner</th>\n",
       "    </tr>\n",
       "    <tr>\n",
       "      <th></th>\n",
       "      <th>Indbyggertal</th>\n",
       "      <th>før1. april1970</th>\n",
       "      <th>fra1. april1974</th>\n",
       "      <th>fra1. januar2007</th>\n",
       "    </tr>\n",
       "  </thead>\n",
       "  <tbody>\n",
       "    <tr>\n",
       "      <th>0</th>\n",
       "      <td>150.000 -</td>\n",
       "      <td>1.000</td>\n",
       "      <td>4</td>\n",
       "      <td>4</td>\n",
       "    </tr>\n",
       "    <tr>\n",
       "      <th>1</th>\n",
       "      <td>100.000 - 150.000</td>\n",
       "      <td>3.000</td>\n",
       "      <td>1</td>\n",
       "      <td>2</td>\n",
       "    </tr>\n",
       "    <tr>\n",
       "      <th>2</th>\n",
       "      <td>40.000 - 100.000</td>\n",
       "      <td>10.000</td>\n",
       "      <td>18</td>\n",
       "      <td>50</td>\n",
       "    </tr>\n",
       "    <tr>\n",
       "      <th>3</th>\n",
       "      <td>20.000 - 40.000</td>\n",
       "      <td>22.000</td>\n",
       "      <td>25</td>\n",
       "      <td>35</td>\n",
       "    </tr>\n",
       "    <tr>\n",
       "      <th>4</th>\n",
       "      <td>15.000 - 20.000</td>\n",
       "      <td>13.000</td>\n",
       "      <td>24</td>\n",
       "      <td>0</td>\n",
       "    </tr>\n",
       "    <tr>\n",
       "      <th>5</th>\n",
       "      <td>10.000 - 15.000</td>\n",
       "      <td>22.000</td>\n",
       "      <td>41</td>\n",
       "      <td>3</td>\n",
       "    </tr>\n",
       "    <tr>\n",
       "      <th>6</th>\n",
       "      <td>3.000 - 10.000</td>\n",
       "      <td>206.000</td>\n",
       "      <td>160</td>\n",
       "      <td>3</td>\n",
       "    </tr>\n",
       "    <tr>\n",
       "      <th>7</th>\n",
       "      <td>0 - 3.000</td>\n",
       "      <td>821.000</td>\n",
       "      <td>2</td>\n",
       "      <td>1</td>\n",
       "    </tr>\n",
       "    <tr>\n",
       "      <th>8</th>\n",
       "      <td>I alt</td>\n",
       "      <td>1.098</td>\n",
       "      <td>275</td>\n",
       "      <td>98</td>\n",
       "    </tr>\n",
       "  </tbody>\n",
       "</table>\n",
       "</div>"
      ],
      "text/plain": [
       "  Kommunerne fordelt efter indbyggertal                                  \\\n",
       "                           Indbyggertal  Antal kommuner                   \n",
       "                           Indbyggertal før1. april1970 fra1. april1974   \n",
       "0                             150.000 -           1.000               4   \n",
       "1                     100.000 - 150.000           3.000               1   \n",
       "2                      40.000 - 100.000          10.000              18   \n",
       "3                       20.000 - 40.000          22.000              25   \n",
       "4                       15.000 - 20.000          13.000              24   \n",
       "5                       10.000 - 15.000          22.000              41   \n",
       "6                        3.000 - 10.000         206.000             160   \n",
       "7                             0 - 3.000         821.000               2   \n",
       "8                                 I alt           1.098             275   \n",
       "\n",
       "                    \n",
       "                    \n",
       "  fra1. januar2007  \n",
       "0                4  \n",
       "1                2  \n",
       "2               50  \n",
       "3               35  \n",
       "4                0  \n",
       "5                3  \n",
       "6                3  \n",
       "7                1  \n",
       "8               98  "
      ]
     },
     "execution_count": 19,
     "metadata": {},
     "output_type": "execute_result"
    }
   ],
   "source": [
    "# trækker de fem relevante tabeller ud\n",
    "\n",
    "reg_syd = df[16]\n",
    "reg_sjæl = df[15]\n",
    "reg_nordj = df[14]\n",
    "reg_midtj = df[13]\n",
    "reg_h = df[12]\n"
   ]
  },
  {
   "cell_type": "code",
   "execution_count": 119,
   "id": "16608cfe",
   "metadata": {},
   "outputs": [],
   "source": [
    "#fjerner multi index, og merger til en \n",
    "reg_syd.columns = range(len(reg_syd.columns))\n",
    "reg_sjæl.columns = range(len(reg_syd.columns))\n",
    "reg_nordj.columns = range(len(reg_syd.columns))\n",
    "reg_midtj.columns = range(len(reg_syd.columns))\n",
    "reg_h.columns = range(len(reg_syd.columns))\n",
    "kolonne_navne = [\"Ny_kommune\", \"Tidligere\", \"Bemærkninger\"]\n",
    "samlet = pd.concat([reg_syd, reg_h, reg_nordj, reg_midtj, reg_sjæl],ignore_index=True)\n",
    "samlet.columns = kolonne_navne\n"
   ]
  },
  {
   "cell_type": "code",
   "execution_count": 120,
   "id": "590325ec",
   "metadata": {},
   "outputs": [],
   "source": [
    "samlet = samlet[[\"Ny_kommune\", \"Tidligere\"]]\n",
    "#noget.reset_index(drop=True, inplace=True)\n",
    "#noget['Tidligere'] = noget['Tidligere'].str.split(', ').explode()\n",
    "samlet = samlet.assign(Tidligere=samlet['Tidligere'].str.split(', ')).explode('Tidligere').reset_index(drop=True)\n",
    "\n"
   ]
  },
  {
   "cell_type": "code",
   "execution_count": 123,
   "id": "1216ee1a",
   "metadata": {},
   "outputs": [],
   "source": [
    "samlet.to_csv(\"nye_og_gamle_kommuner.csv\")"
   ]
  },
  {
   "cell_type": "code",
   "execution_count": 103,
   "id": "723aaaad",
   "metadata": {},
   "outputs": [
    {
     "ename": "AttributeError",
     "evalue": "type object 'str' has no attribute 'explode'",
     "output_type": "error",
     "traceback": [
      "\u001b[1;31m---------------------------------------------------------------------------\u001b[0m",
      "\u001b[1;31mAttributeError\u001b[0m                            Traceback (most recent call last)",
      "Input \u001b[1;32mIn [103]\u001b[0m, in \u001b[0;36m<cell line: 1>\u001b[1;34m()\u001b[0m\n\u001b[1;32m----> 1\u001b[0m help(\u001b[38;5;28;43mstr\u001b[39;49m\u001b[38;5;241;43m.\u001b[39;49m\u001b[43mexplode\u001b[49m)\n",
      "\u001b[1;31mAttributeError\u001b[0m: type object 'str' has no attribute 'explode'"
     ]
    }
   ],
   "source": []
  }
 ],
 "metadata": {
  "kernelspec": {
   "display_name": "Python 3 (ipykernel)",
   "language": "python",
   "name": "python3"
  },
  "language_info": {
   "codemirror_mode": {
    "name": "ipython",
    "version": 3
   },
   "file_extension": ".py",
   "mimetype": "text/x-python",
   "name": "python",
   "nbconvert_exporter": "python",
   "pygments_lexer": "ipython3",
   "version": "3.9.12"
  }
 },
 "nbformat": 4,
 "nbformat_minor": 5
}
