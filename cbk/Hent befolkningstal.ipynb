{
 "cells": [
  {
   "cell_type": "markdown",
   "id": "c90d4380",
   "metadata": {},
   "source": [
    "Historiske data har vi kun pr 1. januar. Det vil sige at vi tager 1 kvartals tallet for de nye data."
   ]
  },
  {
   "cell_type": "code",
   "execution_count": 353,
   "id": "01d2eb42",
   "metadata": {},
   "outputs": [],
   "source": [
    "import requests\n",
    "import pandas as pd\n",
    "\n",
    "# Retrieves population data from all municipalities\n",
    "\n",
    "## Defining calls to Statistic Denmark API\n",
    "# 2008 to date\n",
    "FOLK1A = 'https://api.statbank.dk/v1/data/FOLK1A/CSV?valuePresentation=CodeAndValue&OMR%C3%85DE=*&Tid=*'\n",
    "\n",
    "# 2005 to 2009\n",
    "BEF1A07 = \"https://api.statbank.dk/v1/data/BEF1A07/CSV?valuePresentation=CodeAndValue&OMR%C3%85DE=*&Tid=*\"\n",
    "\n",
    "# 1979 to 2006\n",
    "BEF1A = \"https://api.statbank.dk/v1/data/BEF1A/CSV?valuePresentation=CodeAndValue&OMR%C3%85DE=*&Tid=*\"\n",
    "\n",
    "# Retrieving data\n",
    "FOLK1A_data = pd.read_csv(FOLK1A, sep = \";\")\n",
    "BEF1A07_data = pd.read_csv(BEF1A07, sep = \";\")\n",
    "BEF1A_data = pd.read_csv(BEF1A, sep = \";\")"
   ]
  },
  {
   "cell_type": "code",
   "execution_count": 354,
   "id": "12c34cfc",
   "metadata": {},
   "outputs": [],
   "source": [
    "# cleaning the data\n",
    "# FOLK1A needs additional step\n",
    "\n",
    "def clean_pop_data(df):\n",
    "    df['muni_code'] = df['OMRÅDE'].str.extract(r'(\\d{3})')   # extracting municipality code\n",
    "    df['muni_name'] = df['OMRÅDE'].str.extract(r'(\\d{3}\\s+(.*))')[1] # extracting municipalit name\n",
    "    df['year'] = df['TID'].str.split().str[0]\n",
    "    df = df\\\n",
    "        .drop(columns=[\"OMRÅDE\", 'TID'])\\\n",
    "        .rename(columns={'INDHOLD':'pop'})\n",
    "    return df\n",
    "\n",
    "FOLK1A_data = clean_pop_data(FOLK1A_data)\n",
    "BEF1A_data = clean_pop_data(BEF1A_data)\n",
    "BEF1A07_data = clean_pop_data(BEF1A07_data)"
   ]
  },
  {
   "cell_type": "code",
   "execution_count": 355,
   "id": "7205d87d",
   "metadata": {},
   "outputs": [],
   "source": [
    "FOLK1A_data[\"muni_code\"] = FOLK1A_data[\"muni_code\"].astype(\"Int64\")\n",
    "BEF1A_data[\"muni_code\"] = BEF1A_data[\"muni_code\"].astype(\"Int64\")\n",
    "BEF1A07_data[\"muni_code\"] = BEF1A07_data[\"muni_code\"].astype(\"Int64\")"
   ]
  },
  {
   "cell_type": "code",
   "execution_count": 356,
   "id": "faa75939",
   "metadata": {},
   "outputs": [],
   "source": [
    "# additional cleaning of FOLK1A data\n",
    "FOLK1A_data = FOLK1A_data[FOLK1A_data['year'].str.endswith('1')]\n",
    "FOLK1A_data['year'] = FOLK1A_data['year'].str.replace('K1', \"\")\n"
   ]
  },
  {
   "cell_type": "markdown",
   "id": "08dda2d0",
   "metadata": {},
   "source": [
    "Så skal vi have pillet dem ud der skal pilles ud. Vi skal have alt fra FOLK1A det er fra 1.1 08.\n",
    "\n",
    "Så skal vi have alt fra BEF1A. det er frem til 2006\n",
    "\n",
    "Og så skal vi have 2007 fra bef1a_o7\n",
    "\n",
    "Hm... I bef1a07 har de de nye koder. Dem der også bruges i folk1a. Det er dem vi skal have fat på. Og vi har \n",
    "en komplet liste. Så er der de gamle...\n",
    "\n",
    "pd.concat([FOLK1A_data, BEF1A07_data])\n",
    "\n",
    "Vi starter med de nye tal."
   ]
  },
  {
   "cell_type": "code",
   "execution_count": 357,
   "id": "4bc2d6bd",
   "metadata": {},
   "outputs": [
    {
     "name": "stdout",
     "output_type": "stream",
     "text": [
      "<class 'pandas.core.frame.DataFrame'>\n",
      "Int64Index: 1995 entries, 0 to 2202\n",
      "Data columns (total 4 columns):\n",
      " #   Column     Non-Null Count  Dtype \n",
      "---  ------     --------------  ----- \n",
      " 0   pop        1995 non-null   int64 \n",
      " 1   muni_code  1995 non-null   Int64 \n",
      " 2   muni_name  1995 non-null   object\n",
      " 3   year       1995 non-null   object\n",
      "dtypes: Int64(1), int64(1), object(2)\n",
      "memory usage: 79.9+ KB\n"
     ]
    }
   ],
   "source": [
    "pop_data = pd.concat([FOLK1A_data, BEF1A07_data]).reset_index(drop = True).drop_duplicates()"
   ]
  },
  {
   "cell_type": "code",
   "execution_count": 358,
   "id": "0945b7bf",
   "metadata": {},
   "outputs": [],
   "source": [
    "#Nu har vi populaionsdata for 2007 og frem\n",
    "# dette er de gamle.\n",
    "\n",
    "# vi indlæser vores data på hvilke nye muni_codes de har\n",
    "konkordans = pd.read_csv(\"../nye_og_gamle_kommuner.csv\")\n",
    "\n",
    "\n",
    "konkordans['old_muni_code'] = konkordans['old_muni_code'].astype('Int64')\n",
    "konkordans['muni_code'] = konkordans['muni_code'].astype('Int64')\n",
    "\n",
    "\n",
    "BEF1A_data['muni_code'] = BEF1A_data['muni_code'].astype('Int64')\n",
    "nye = pop_data[[\"muni_code\", 'year', \"pop\"]]\n",
    "gamle = BEF1A_data\\\n",
    "    .merge(konkordans, how='left', left_on = 'muni_code', right_on = 'old_muni_code')\\\n",
    "    .groupby([\"muni_code_x\", \"year\"])[\"pop\"].agg(\"sum\").reset_index().rename(columns={'muni_code_x':'muni_code'})\n",
    "gamle[\"muni_code\"] = gamle[\"muni_code\"].astype('Int64')\n"
   ]
  },
  {
   "cell_type": "code",
   "execution_count": 359,
   "id": "bb8c48e1",
   "metadata": {},
   "outputs": [],
   "source": [
    "totalen = pd.concat([nye, gamle])"
   ]
  },
  {
   "cell_type": "code",
   "execution_count": 370,
   "id": "fd78a0d6",
   "metadata": {},
   "outputs": [],
   "source": [
    "\n",
    "totalen.to_csv(\"population_data.csv\")\n"
   ]
  },
  {
   "cell_type": "code",
   "execution_count": null,
   "id": "034582c5",
   "metadata": {},
   "outputs": [],
   "source": []
  }
 ],
 "metadata": {
  "kernelspec": {
   "display_name": "Python 3 (ipykernel)",
   "language": "python",
   "name": "python3"
  },
  "language_info": {
   "codemirror_mode": {
    "name": "ipython",
    "version": 3
   },
   "file_extension": ".py",
   "mimetype": "text/x-python",
   "name": "python",
   "nbconvert_exporter": "python",
   "pygments_lexer": "ipython3",
   "version": "3.9.12"
  }
 },
 "nbformat": 4,
 "nbformat_minor": 5
}
