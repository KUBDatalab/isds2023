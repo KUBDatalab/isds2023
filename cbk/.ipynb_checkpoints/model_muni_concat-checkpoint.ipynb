{
 "cells": [
  {
   "cell_type": "markdown",
   "id": "b0ead2d8",
   "metadata": {},
   "source": [
    "This notebook build predictive models for each municipality"
   ]
  },
  {
   "cell_type": "code",
   "execution_count": 3,
   "id": "694253bb",
   "metadata": {},
   "outputs": [],
   "source": [
    "#importer libraries\n",
    "from sklearn.metrics import mean_squared_error\n",
    "import os\n",
    "import tqdm as tqdm\n",
    "import re\n",
    "import pickle\n",
    "from pathlib import Path\n",
    "import pandas as pd\n",
    "import numpy as np\n",
    "# from sklearn.pipeline import make_pipeline\n",
    "from sklearn.pipeline import Pipeline, make_pipeline\n",
    "\n",
    "from sklearn.model_selection import GridSearchCV, learning_curve, KFold, train_test_split\n",
    "# from sklearn.model_selection import learning_curve\n",
    "# from sklearn.model_selection import KFold, train_test_split\n",
    "\n",
    "from sklearn.compose import make_column_transformer\n",
    "from sklearn.compose import ColumnTransformer\n",
    "\n",
    "from sklearn.linear_model import ElasticNet\n",
    "from sklearn.linear_model import Lasso\n",
    "\n",
    "from sklearn.preprocessing import StandardScaler, PolynomialFeatures, OneHotEncoder\n",
    "\n",
    "from sklearn.metrics import mean_squared_error as mse\n",
    "from sklearn.metrics import r2_score\n",
    "from sklearn.exceptions import ConvergenceWarning\n",
    "\n",
    "\n",
    "import matplotlib.pyplot as plt\n",
    "import warnings\n",
    "\n",
    "warnings.filterwarnings(\"ignore\", category=ConvergenceWarning)\n",
    "warnings.filterwarnings(\"ignore\", category=FutureWarning)"
   ]
  },
  {
   "cell_type": "code",
   "execution_count": 7,
   "id": "801ac69a",
   "metadata": {},
   "outputs": [],
   "source": [
    "# a function to add features to data.\n",
    "def add_features_to_data(df):\n",
    "    fp = Path(\"../Feature_data/\")\n",
    "    indk = fp/\"indkp101.csv\"\n",
    "    konth = fp/\"kontanth.csv\"\n",
    "    areas = fp/\"muni_areas.csv\"\n",
    "    pop = fp/\"population_data.csv\"\n",
    "    pop_dens = fp/\"pop_dens.csv\"\n",
    "    gini = fp/\"gini_index.csv\"\n",
    "    unenp = fp/\"unemployment_data.csv\"\n",
    "        \n",
    "    indk = pd.read_csv(indk) # ok\n",
    "    konth = pd.read_csv(konth) #ok men pr kapita\n",
    "    gini = pd.read_csv(gini) #OK\n",
    "    areas = pd.read_csv(areas) # ok\n",
    "    pop = pd.read_csv(pop) # noget galt\n",
    "    unenp = pd.read_csv(unenp)\n",
    "    \n",
    "    df = df\\\n",
    "        .merge(indk, on=[\"muni_code\", \"year\"], how = 'left',suffixes=('_left', '_right'))\\\n",
    "        .merge(konth, on= [\"muni_code\", \"year\"], how= 'left',suffixes=('_left', '_right'))\\\n",
    "        .merge(gini, on = [\"muni_code\", \"year\"], how = 'left',suffixes=('_left', '_right'))\\\n",
    "        .merge(areas, on = [\"muni_code\"], how = 'left',suffixes=('_left', '_right'))\\\n",
    "        .merge(unenp, on = [\"muni_code\", \"year\"], how = 'left',suffixes=('_left', '_right'))\\\n",
    "        .merge(pop, on = [\"muni_code\",\"year\"], how = 'left',suffixes=('_left', '_right'))\\\n",
    "        .sort_values([\"year\", \"count\"])\\\n",
    "        .dropna()\\\n",
    "        .assign(muni_code=lambda x: x['muni_code'].astype('category'))\\\n",
    "        .assign(year=lambda x: x['year'].astype('category'))\\\n",
    "        .assign(housing_type = lambda x: x[\"housing_type\"].astype('category'))\\\n",
    "        .assign(unemployed = lambda x: x[\"unemployed\"]/x['pop'])\\\n",
    "        .assign(kont_recip_tot = lambda x: x[\"kont_recip_tot\"]/x['pop'])\\\n",
    "        .assign(pop_den= lambda x: x['pop']/x['km2'])\n",
    "    \n",
    "   \n",
    "\n",
    "    df['avg_sqm_price'] = pd.to_numeric(df['avg_sqm_price'], errors='coerce')\n",
    "\n",
    "    #drops very useless columns\n",
    "    cols_to_drop = [col for col in df.columns if col.startswith('Unnamed')]\n",
    "    df.drop(columns=cols_to_drop, inplace=True)\n",
    "    df.drop(columns=\"count\", inplace =True)\n",
    "\n",
    "    return (df)\n",
    "\n"
   ]
  },
  {
   "cell_type": "markdown",
   "id": "1ad42d16",
   "metadata": {},
   "source": [
    "A function for fitting a model is made. This function takes a dataset of cleaned Boliga data, and enrich it with the selected features."
   ]
  },
  {
   "cell_type": "code",
   "execution_count": 8,
   "id": "fc82b7fd",
   "metadata": {},
   "outputs": [],
   "source": [
    "def make_a_model(data):\n",
    "    # splitting data in target values (y) and features (X)\n",
    "    y = data[\"avg_sqm_price\"]\n",
    "    X = data.drop(columns=[\"avg_sqm_price\"])\n",
    "    \n",
    "    # defines scaler for y-data\n",
    "    y_scaler = StandardScaler()\n",
    "    y = y_scaler.fit_transform(y.values.reshape(-1, 1)).flatten()\n",
    "    \n",
    "    # numeric and categorical features are identified\n",
    "    numeric_features = X.select_dtypes(include = [\"number\"]).columns.tolist()\n",
    "    categorical_features = X.select_dtypes(include=[\"category\"]).columns.tolist()\n",
    "    \n",
    "    # Data is split into test and training data, stratified on housing_type\n",
    "    X_train, X_test, y_train, y_test = train_test_split(X, y, test_size=(.2), random_state=47, stratify=X[\"housing_type\"])\n",
    "    \n",
    "    # Known categories in the categorical data are identified and stored for use in OneHotEncoder\n",
    "    known_categories = [X[i].unique().tolist() for i in X.select_dtypes(include=[\"category\"]).columns.tolist()]\n",
    "    \n",
    "    # Preprocessor defined. Numerical features are scaled, and categorical values OneHotEncoded with the\n",
    "    # known categories\n",
    "    preprocessor = ColumnTransformer(\n",
    "    transformers=[\n",
    "        ('num', StandardScaler(with_mean=False), numeric_features),\n",
    "        ('cat', OneHotEncoder(categories=known_categories), categorical_features)\n",
    "    ])\n",
    "\n",
    "    # The training pipeline is defined. Preprocessing as defined above, polynomial feature expansion\n",
    "    # and Elastic Net as the classifier\n",
    "    pipeline = Pipeline([\n",
    "        ('preprocessor', preprocessor),\n",
    "        ('polynomial', PolynomialFeatures(degree=3)),  # Tilføj denne linje\n",
    "        ('classifier', ElasticNet())\n",
    "    ])\n",
    "\n",
    "    # Paramergrid defined for the gridsearch\n",
    "    param_grid = {\n",
    "        'polynomial__degree': [1, 2, 3],  # Ny linje for at prøve forskellige polynomial grader\n",
    "        'classifier__alpha': np.logspace(-4, 4, 12),\n",
    "        'classifier__l1_ratio': [0, 0.1, 0.2, 0.3, 0.4, 0.5, 0.6, 0.7, 0.8, 0.9, 1],\n",
    "        'classifier__max_iter': [2000] \n",
    "    }\n",
    "    # Setting up the GridSearch with pipeline and parametergrid. 5-fold crossvalidation \n",
    "    grid_search = GridSearchCV(pipeline, param_grid, cv=5, scoring='neg_mean_squared_error')\n",
    "    \n",
    "    # Searching for optimal hyperparameters.\n",
    "    grid_search.fit(X_train, y_train)\n",
    "    \n",
    "    # grabbing information about the result\n",
    "    best_parameters = grid_search.best_params_\n",
    "    best_pipeline = grid_search.best_estimator_\n",
    "    \n",
    "    y_pred = y_scaler.inverse_transform(best_pipeline.predict(X_test).reshape(-1, 1)).flatten()\n",
    "    y_test_inv = y_scaler.inverse_transform(y_test.reshape(-1, 1)).flatten()\n",
    "\n",
    "    \n",
    "    rmse = mean_squared_error(y_test_inv, y_pred, squared=False)\n",
    "    r2 = r2_score(y_test_inv, y_pred)\n",
    "    coefficients = best_pipeline.named_steps['classifier'].coef_\n",
    "\n",
    "    # Grabbing names and weights of the polynomial features.\n",
    "    # First, get names of both numeric and categorical features\n",
    "    numeric_feature_names = numeric_features\n",
    "    categorical_feature_names = best_pipeline.named_steps['preprocessor'].named_transformers_['cat'].get_feature_names_out(categorical_features)\n",
    "    all_feature_names = np.concatenate([numeric_feature_names, categorical_feature_names])\n",
    "\n",
    "    # Now the polynomial feature names\n",
    "    polynomial_feature_names = best_pipeline.named_steps['polynomial'].get_feature_names_out(input_features=all_feature_names)\n",
    "\n",
    "    # Combining to one object\n",
    "    coefs =  zip(coefficients, polynomial_feature_names)\n",
    "    \n",
    "    # gets data for a learning curve\n",
    "    train_sizes, train_scores, test_scores = learning_curve(estimator=best_pipeline,\n",
    "                   X=X_train,\n",
    "                   y=y_train,\n",
    "                   train_sizes=np.arange(0.05, 1.05, .05),\n",
    "                   scoring='neg_mean_squared_error',                 \n",
    "                   cv=10)\n",
    "    \n",
    "    learning_curve_data = pd.DataFrame({'Train':-train_scores.mean(axis=1),\n",
    "                     'Test':-test_scores.mean(axis=1),\n",
    "                     'sample size':train_sizes})\n",
    "    \n",
    "    # Finally return fitted models, parameters, metrics, coefficients and data for a learning curve\n",
    "    return (grid_search, best_parameters, rmse, r2, coefs, learning_curve_data)\n",
    "\n",
    "    "
   ]
  },
  {
   "cell_type": "code",
   "execution_count": null,
   "id": "d5b70396",
   "metadata": {
    "scrolled": true
   },
   "outputs": [
    {
     "name": "stderr",
     "output_type": "stream",
     "text": [
      "\r",
      "  0%|                                                                                           | 0/98 [00:00<?, ?it/s]"
     ]
    },
    {
     "name": "stdout",
     "output_type": "stream",
     "text": [
      "..\\Boliga data\\agg_data\\agg_sales_1992_2022_101.csv\n"
     ]
    },
    {
     "name": "stderr",
     "output_type": "stream",
     "text": [
      "\r",
      "  1%|▊                                                                                | 1/98 [01:35<2:34:43, 95.71s/it]"
     ]
    },
    {
     "name": "stdout",
     "output_type": "stream",
     "text": [
      "..\\Boliga data\\agg_data\\agg_sales_1992_2022_147.csv\n"
     ]
    },
    {
     "name": "stderr",
     "output_type": "stream",
     "text": [
      "\r",
      "  2%|█▋                                                                               | 2/98 [03:12<2:34:22, 96.48s/it]"
     ]
    },
    {
     "name": "stdout",
     "output_type": "stream",
     "text": [
      "..\\Boliga data\\agg_data\\agg_sales_1992_2022_151.csv\n"
     ]
    },
    {
     "name": "stderr",
     "output_type": "stream",
     "text": [
      "\r",
      "  3%|██▍                                                                              | 3/98 [04:45<2:30:18, 94.93s/it]"
     ]
    },
    {
     "name": "stdout",
     "output_type": "stream",
     "text": [
      "..\\Boliga data\\agg_data\\agg_sales_1992_2022_153.csv\n"
     ]
    },
    {
     "name": "stderr",
     "output_type": "stream",
     "text": [
      "\r",
      "  4%|███▎                                                                            | 4/98 [12:20<6:11:23, 237.06s/it]"
     ]
    },
    {
     "name": "stdout",
     "output_type": "stream",
     "text": [
      "..\\Boliga data\\agg_data\\agg_sales_1992_2022_155.csv\n"
     ]
    },
    {
     "name": "stderr",
     "output_type": "stream",
     "text": [
      "\r",
      "  5%|████                                                                            | 5/98 [23:04<9:54:57, 383.85s/it]"
     ]
    },
    {
     "name": "stdout",
     "output_type": "stream",
     "text": [
      "..\\Boliga data\\agg_data\\agg_sales_1992_2022_157.csv\n"
     ]
    },
    {
     "name": "stderr",
     "output_type": "stream",
     "text": [
      "\r",
      "  6%|████▊                                                                          | 6/98 [32:42<11:29:50, 449.89s/it]"
     ]
    },
    {
     "name": "stdout",
     "output_type": "stream",
     "text": [
      "..\\Boliga data\\agg_data\\agg_sales_1992_2022_159.csv\n"
     ]
    },
    {
     "name": "stderr",
     "output_type": "stream",
     "text": [
      "\r",
      "  7%|█████▋                                                                         | 7/98 [42:41<12:36:01, 498.48s/it]"
     ]
    },
    {
     "name": "stdout",
     "output_type": "stream",
     "text": [
      "..\\Boliga data\\agg_data\\agg_sales_1992_2022_161.csv\n"
     ]
    },
    {
     "name": "stderr",
     "output_type": "stream",
     "text": [
      "\r",
      "  8%|██████▍                                                                        | 8/98 [48:59<11:30:10, 460.12s/it]"
     ]
    },
    {
     "name": "stdout",
     "output_type": "stream",
     "text": [
      "..\\Boliga data\\agg_data\\agg_sales_1992_2022_163.csv\n"
     ]
    },
    {
     "name": "stderr",
     "output_type": "stream",
     "text": [
      "\r",
      "  9%|███████▎                                                                        | 9/98 [50:05<8:19:44, 336.90s/it]"
     ]
    },
    {
     "name": "stdout",
     "output_type": "stream",
     "text": [
      "..\\Boliga data\\agg_data\\agg_sales_1992_2022_165.csv\n"
     ]
    },
    {
     "name": "stderr",
     "output_type": "stream",
     "text": [
      "\r",
      " 10%|████████                                                                       | 10/98 [51:03<6:08:02, 250.93s/it]"
     ]
    },
    {
     "name": "stdout",
     "output_type": "stream",
     "text": [
      "..\\Boliga data\\agg_data\\agg_sales_1992_2022_167.csv\n"
     ]
    },
    {
     "name": "stderr",
     "output_type": "stream",
     "text": [
      "\r",
      " 11%|████████▊                                                                      | 11/98 [52:22<4:47:35, 198.34s/it]"
     ]
    },
    {
     "name": "stdout",
     "output_type": "stream",
     "text": [
      "..\\Boliga data\\agg_data\\agg_sales_1992_2022_169.csv\n"
     ]
    },
    {
     "name": "stderr",
     "output_type": "stream",
     "text": [
      "\r",
      " 12%|█████████▋                                                                     | 12/98 [53:44<3:53:20, 162.80s/it]"
     ]
    },
    {
     "name": "stdout",
     "output_type": "stream",
     "text": [
      "..\\Boliga data\\agg_data\\agg_sales_1992_2022_173.csv\n"
     ]
    },
    {
     "name": "stderr",
     "output_type": "stream",
     "text": [
      "\r",
      " 13%|██████████▍                                                                    | 13/98 [55:02<3:14:25, 137.24s/it]"
     ]
    },
    {
     "name": "stdout",
     "output_type": "stream",
     "text": [
      "..\\Boliga data\\agg_data\\agg_sales_1992_2022_175.csv\n"
     ]
    },
    {
     "name": "stderr",
     "output_type": "stream",
     "text": [
      "\r",
      " 14%|███████████▎                                                                   | 14/98 [56:16<2:45:12, 118.01s/it]"
     ]
    },
    {
     "name": "stdout",
     "output_type": "stream",
     "text": [
      "..\\Boliga data\\agg_data\\agg_sales_1992_2022_183.csv\n"
     ]
    },
    {
     "name": "stderr",
     "output_type": "stream",
     "text": [
      "\r",
      " 15%|████████████                                                                   | 15/98 [58:01<2:37:39, 113.96s/it]"
     ]
    },
    {
     "name": "stdout",
     "output_type": "stream",
     "text": [
      "..\\Boliga data\\agg_data\\agg_sales_1992_2022_185.csv\n"
     ]
    },
    {
     "name": "stderr",
     "output_type": "stream",
     "text": [
      "\r",
      " 16%|████████████▉                                                                  | 16/98 [59:38<2:28:56, 108.99s/it]"
     ]
    },
    {
     "name": "stdout",
     "output_type": "stream",
     "text": [
      "..\\Boliga data\\agg_data\\agg_sales_1992_2022_187.csv\n"
     ]
    },
    {
     "name": "stderr",
     "output_type": "stream",
     "text": [
      "\r",
      " 17%|█████████████▎                                                               | 17/98 [1:01:03<2:17:33, 101.89s/it]"
     ]
    },
    {
     "name": "stdout",
     "output_type": "stream",
     "text": [
      "..\\Boliga data\\agg_data\\agg_sales_1992_2022_190.csv\n"
     ]
    },
    {
     "name": "stderr",
     "output_type": "stream",
     "text": [
      "\r",
      " 18%|██████████████▎                                                               | 18/98 [1:02:17<2:04:37, 93.47s/it]"
     ]
    },
    {
     "name": "stdout",
     "output_type": "stream",
     "text": [
      "..\\Boliga data\\agg_data\\agg_sales_1992_2022_201.csv\n"
     ]
    },
    {
     "name": "stderr",
     "output_type": "stream",
     "text": [
      "\r",
      " 19%|███████████████                                                               | 19/98 [1:04:06<2:09:05, 98.04s/it]"
     ]
    },
    {
     "name": "stdout",
     "output_type": "stream",
     "text": [
      "..\\Boliga data\\agg_data\\agg_sales_1992_2022_210.csv\n"
     ]
    },
    {
     "name": "stderr",
     "output_type": "stream",
     "text": [
      "\r",
      " 20%|███████████████▉                                                              | 20/98 [1:05:23<1:59:24, 91.86s/it]"
     ]
    },
    {
     "name": "stdout",
     "output_type": "stream",
     "text": [
      "..\\Boliga data\\agg_data\\agg_sales_1992_2022_217.csv\n"
     ]
    },
    {
     "name": "stderr",
     "output_type": "stream",
     "text": [
      "\r",
      " 21%|████████████████▋                                                             | 21/98 [1:07:17<2:06:21, 98.46s/it]"
     ]
    },
    {
     "name": "stdout",
     "output_type": "stream",
     "text": [
      "..\\Boliga data\\agg_data\\agg_sales_1992_2022_219.csv\n"
     ]
    },
    {
     "name": "stderr",
     "output_type": "stream",
     "text": [
      "\r",
      " 22%|█████████████████▌                                                            | 22/98 [1:08:51<2:03:03, 97.15s/it]"
     ]
    },
    {
     "name": "stdout",
     "output_type": "stream",
     "text": [
      "..\\Boliga data\\agg_data\\agg_sales_1992_2022_223.csv\n"
     ]
    },
    {
     "name": "stderr",
     "output_type": "stream",
     "text": [
      "\r",
      " 23%|██████████████████▎                                                           | 23/98 [1:10:15<1:56:29, 93.20s/it]"
     ]
    },
    {
     "name": "stdout",
     "output_type": "stream",
     "text": [
      "..\\Boliga data\\agg_data\\agg_sales_1992_2022_230.csv\n"
     ]
    },
    {
     "name": "stderr",
     "output_type": "stream",
     "text": [
      "\r",
      " 24%|██████████████████▊                                                          | 24/98 [1:12:19<2:06:14, 102.35s/it]"
     ]
    },
    {
     "name": "stdout",
     "output_type": "stream",
     "text": [
      "..\\Boliga data\\agg_data\\agg_sales_1992_2022_240.csv\n"
     ]
    },
    {
     "name": "stderr",
     "output_type": "stream",
     "text": [
      "\r",
      " 26%|███████████████████▋                                                         | 25/98 [1:14:05<2:05:42, 103.32s/it]"
     ]
    },
    {
     "name": "stdout",
     "output_type": "stream",
     "text": [
      "..\\Boliga data\\agg_data\\agg_sales_1992_2022_250.csv\n"
     ]
    },
    {
     "name": "stderr",
     "output_type": "stream",
     "text": [
      "\r",
      " 27%|████████████████████▍                                                        | 26/98 [1:16:00<2:08:23, 106.99s/it]"
     ]
    },
    {
     "name": "stdout",
     "output_type": "stream",
     "text": [
      "..\\Boliga data\\agg_data\\agg_sales_1992_2022_253.csv\n"
     ]
    },
    {
     "name": "stderr",
     "output_type": "stream",
     "text": [
      "\r",
      " 28%|█████████████████████▏                                                       | 27/98 [1:17:45<2:05:40, 106.20s/it]"
     ]
    },
    {
     "name": "stdout",
     "output_type": "stream",
     "text": [
      "..\\Boliga data\\agg_data\\agg_sales_1992_2022_259.csv\n"
     ]
    },
    {
     "name": "stderr",
     "output_type": "stream",
     "text": [
      "\r",
      " 29%|██████████████████████                                                       | 28/98 [1:19:45<2:09:04, 110.64s/it]"
     ]
    },
    {
     "name": "stdout",
     "output_type": "stream",
     "text": [
      "..\\Boliga data\\agg_data\\agg_sales_1992_2022_260.csv\n"
     ]
    },
    {
     "name": "stderr",
     "output_type": "stream",
     "text": [
      "\r",
      " 30%|██████████████████████▊                                                      | 29/98 [1:21:49<2:11:33, 114.40s/it]"
     ]
    },
    {
     "name": "stdout",
     "output_type": "stream",
     "text": [
      "..\\Boliga data\\agg_data\\agg_sales_1992_2022_265.csv\n"
     ]
    }
   ],
   "source": [
    "# Getting aggregated data stored as csv's\n",
    "fp = Path(\"../Boliga data/agg_data/\")\n",
    "files = list(fp.glob('*.csv'))\n",
    "\n",
    "# initialising dataframes for saving results of the fits\n",
    "metrics = pd.DataFrame(columns=['muni_code', 'rmse', 'r2'])\n",
    "fitted_models = pd.DataFrame(columns=['muni_code', 'pickled_model'])\n",
    "learning_curves = pd.DataFrame(columns=['muni_code',  \"Train\",\"Test\", \"sample size\"])\n",
    "coefficients = pd.DataFrame(columns=['muni_code', 'value', 'parameter'])\n",
    "parameters = pd.DataFrame(columns=['muni_code', 'Parameter', 'Value']) \n",
    "\n",
    "data_to_concat = []  # Collect data frames to concatenate\n",
    "\n",
    "# running the loop for modelling\n",
    "for filename in tqdm.tqdm(sorted(files)):\n",
    "    print(filename)\n",
    "    muni_code = re.search(r'(\\d+)\\.csv$', str(filename)).group(1)  # extracting muni_code\n",
    "    data = pd.read_csv(filename)  # reading data\n",
    "    data = add_features_to_data(data)  # feature adding\n",
    "    data = data.drop(columns=[\"year\", \"muni_code\"])  # dropping columns\n",
    "    grid_search, best_parameters, rmse, r2, coefs, learning_curve_data = make_a_model(data)\n",
    "\n",
    "    # saving pickled models\n",
    "    rick = pickle.dumps(grid_search)\n",
    "    model_row = pd.DataFrame({'muni_code': [muni_code],\n",
    "                              'pickled_model': [rick]})\n",
    "    data_to_concat.append(model_row)\n",
    "\n",
    "    # saving metrics\n",
    "    metric_tuple = (muni_code, rmse, r2)\n",
    "    metric_row = pd.DataFrame([metric_tuple], columns=metrics.columns)\n",
    "    data_to_concat.append(metric_row)\n",
    "\n",
    "    # saving parameters\n",
    "    param_row = pd.DataFrame(list(best_parameters.items()), columns=['Parameter', 'Value'])\n",
    "    param_row['muni_code'] = muni_code\n",
    "    data_to_concat.append(param_row)\n",
    "\n",
    "    # saving coefficients\n",
    "    coef_row = pd.DataFrame(coefs, columns=['value', 'parameter'])\n",
    "    coef_row['muni_code'] = muni_code\n",
    "    data_to_concat.append(coef_row)\n",
    "\n",
    "    # saving learning curve data\n",
    "    learning_curve_data['muni_code'] = muni_code\n",
    "    data_to_concat.append(learning_curve_data)\n",
    "\n",
    "# Concatenate all collected data frames\n",
    "fitted_models = pd.concat(data_to_concat, ignore_index=True)\n"
   ]
  },
  {
   "cell_type": "code",
   "execution_count": null,
   "id": "18e43805",
   "metadata": {},
   "outputs": [],
   "source": [
    "\n",
    "# fitted_models \n",
    "\n",
    "parameters.to_csv(\"fitted_models/parameter_muni.csv\")\n",
    "coefficients.to_csv(\"fitted_models/coefficients_muni.csv\")\n",
    "metrics.to_csv(\"fitted_models/metrics_muni.csv\")\n",
    "learning_curves.to_csv(\"fitted_models/learning_curves_muni.csv\")\n",
    "fitted_models.to_csv(\"fitted_models/fitted_models_muni.csv\")\n",
    "parameters.to_csv(\"fitted_models/parameters_muni.csv\")"
   ]
  },
  {
   "cell_type": "code",
   "execution_count": null,
   "id": "f1e2b0c0",
   "metadata": {},
   "outputs": [],
   "source": []
  },
  {
   "cell_type": "code",
   "execution_count": null,
   "id": "c1e06b88",
   "metadata": {},
   "outputs": [],
   "source": []
  },
  {
   "cell_type": "code",
   "execution_count": null,
   "id": "da7cfc3b",
   "metadata": {},
   "outputs": [],
   "source": [
    "def learning_curve_plot(tester):\n",
    "    f_learn, ax = plt.subplots(figsize=(7,3))\n",
    "    ax.plot(tester[\"sample size\"],np.sqrt(tester[\"Test\"]), alpha=0.25, linewidth=2, label ='Test', color='blue') # negated, because we already use neg_MSE\n",
    "    ax.plot(tester[\"sample size\"],np.sqrt(tester[\"Train\"]), alpha=0.25, linewidth=2, label='Train', color='orange') # negated, because we already use neg_MSE\n",
    "\n",
    "    ax.set_title('Mean performance')\n",
    "    ax.set_ylabel('Root-Mean squared error')\n",
    "    ax.legend();\n",
    "learning_curve_plot(tester)"
   ]
  }
 ],
 "metadata": {
  "kernelspec": {
   "display_name": "Python 3 (ipykernel)",
   "language": "python",
   "name": "python3"
  },
  "language_info": {
   "codemirror_mode": {
    "name": "ipython",
    "version": 3
   },
   "file_extension": ".py",
   "mimetype": "text/x-python",
   "name": "python",
   "nbconvert_exporter": "python",
   "pygments_lexer": "ipython3",
   "version": "3.9.12"
  }
 },
 "nbformat": 4,
 "nbformat_minor": 5
}
