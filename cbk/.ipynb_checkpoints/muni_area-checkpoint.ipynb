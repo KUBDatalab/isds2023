{
 "cells": [
  {
   "cell_type": "markdown",
   "id": "d049db16",
   "metadata": {},
   "source": [
    "Retrieving area of municipalities"
   ]
  },
  {
   "cell_type": "code",
   "execution_count": 41,
   "id": "b1b16f32",
   "metadata": {},
   "outputs": [],
   "source": [
    "import pandas as pd\n",
    "from pathlib import Path\n",
    "import requests"
   ]
  },
  {
   "cell_type": "markdown",
   "id": "8106572e",
   "metadata": {},
   "source": [
    "Retrievin the table from Wikipedia"
   ]
  },
  {
   "cell_type": "code",
   "execution_count": 52,
   "id": "49041df0",
   "metadata": {},
   "outputs": [
    {
     "data": {
      "text/html": [
       "<div>\n",
       "<style scoped>\n",
       "    .dataframe tbody tr th:only-of-type {\n",
       "        vertical-align: middle;\n",
       "    }\n",
       "\n",
       "    .dataframe tbody tr th {\n",
       "        vertical-align: top;\n",
       "    }\n",
       "\n",
       "    .dataframe thead th {\n",
       "        text-align: right;\n",
       "    }\n",
       "</style>\n",
       "<table border=\"1\" class=\"dataframe\">\n",
       "  <thead>\n",
       "    <tr style=\"text-align: right;\">\n",
       "      <th></th>\n",
       "      <th>muni_name</th>\n",
       "      <th>km2</th>\n",
       "    </tr>\n",
       "  </thead>\n",
       "  <tbody>\n",
       "    <tr>\n",
       "      <th>0</th>\n",
       "      <td>København</td>\n",
       "      <td>86.6</td>\n",
       "    </tr>\n",
       "    <tr>\n",
       "      <th>1</th>\n",
       "      <td>Aarhus</td>\n",
       "      <td>467.9</td>\n",
       "    </tr>\n",
       "    <tr>\n",
       "      <th>2</th>\n",
       "      <td>Aalborg</td>\n",
       "      <td>1137.4</td>\n",
       "    </tr>\n",
       "    <tr>\n",
       "      <th>3</th>\n",
       "      <td>Odense</td>\n",
       "      <td>305.6</td>\n",
       "    </tr>\n",
       "    <tr>\n",
       "      <th>4</th>\n",
       "      <td>Vejle</td>\n",
       "      <td>1058.4</td>\n",
       "    </tr>\n",
       "    <tr>\n",
       "      <th>...</th>\n",
       "      <td>...</td>\n",
       "      <td>...</td>\n",
       "    </tr>\n",
       "    <tr>\n",
       "      <th>93</th>\n",
       "      <td>Langeland</td>\n",
       "      <td>289.2</td>\n",
       "    </tr>\n",
       "    <tr>\n",
       "      <th>94</th>\n",
       "      <td>Ærø</td>\n",
       "      <td>90.1</td>\n",
       "    </tr>\n",
       "    <tr>\n",
       "      <th>95</th>\n",
       "      <td>Samsø</td>\n",
       "      <td>113.6</td>\n",
       "    </tr>\n",
       "    <tr>\n",
       "      <th>96</th>\n",
       "      <td>Fanø</td>\n",
       "      <td>57.6</td>\n",
       "    </tr>\n",
       "    <tr>\n",
       "      <th>97</th>\n",
       "      <td>Læsø</td>\n",
       "      <td>120.5</td>\n",
       "    </tr>\n",
       "  </tbody>\n",
       "</table>\n",
       "<p>98 rows × 2 columns</p>\n",
       "</div>"
      ],
      "text/plain": [
       "    muni_name     km2\n",
       "0   København    86.6\n",
       "1      Aarhus   467.9\n",
       "2     Aalborg  1137.4\n",
       "3      Odense   305.6\n",
       "4       Vejle  1058.4\n",
       "..        ...     ...\n",
       "93  Langeland   289.2\n",
       "94        Ærø    90.1\n",
       "95      Samsø   113.6\n",
       "96       Fanø    57.6\n",
       "97       Læsø   120.5\n",
       "\n",
       "[98 rows x 2 columns]"
      ]
     },
     "execution_count": 52,
     "metadata": {},
     "output_type": "execute_result"
    }
   ],
   "source": [
    "url = \"https://da.wikipedia.org/wiki/Kommuner_i_Danmark_efter_indbyggertal\"\n",
    "\n",
    "#read_html strips , as decimal separator. This fixes that\n",
    "response = requests.get(url)\n",
    "html_text = response.text.replace(',', '.')\n",
    "\n",
    "df_list = pd.read_html(html_text)\n",
    "\n",
    "areas = df_list[0][[\"Navn\", \"km2\"]]\\\n",
    "    .copy()\\\n",
    "    .rename(columns = {\"Navn\": \"muni_name\"})\n",
    "areas\n"
   ]
  },
  {
   "cell_type": "markdown",
   "id": "8a280adb",
   "metadata": {},
   "source": [
    "Reading the concordanse"
   ]
  },
  {
   "cell_type": "code",
   "execution_count": 53,
   "id": "97bdfcc9",
   "metadata": {},
   "outputs": [],
   "source": [
    "fp = Path(\"../\")\n",
    "filer = list(fp.glob(\"*\"))\n",
    "concordanse = fp/\"nye_og_gamle_kommuner.csv\"\n",
    "concordanse = pd.read_csv(concordanse)"
   ]
  },
  {
   "cell_type": "markdown",
   "id": "bb64fc85",
   "metadata": {},
   "source": [
    "Deduplicating concordanse, merging with areas and saving to csv"
   ]
  },
  {
   "cell_type": "code",
   "execution_count": 54,
   "id": "9100a796",
   "metadata": {},
   "outputs": [],
   "source": [
    "concordanse = concordanse[['muni_name', \"muni_code\"]]\\\n",
    "    .drop_duplicates()\\\n",
    "    .copy()\n",
    "\n",
    "\n",
    "areas = areas\\\n",
    "    .merge(concordanse, on = \"muni_name\", how = \"left\")\n",
    "\n",
    "areas[\"muni_code\"] = areas[\"muni_code\"].astype(\"Int64\")\n",
    "areas\\\n",
    "     .to_csv(\"muni_areas.csv\")"
   ]
  },
  {
   "cell_type": "code",
   "execution_count": null,
   "id": "155cbdf2",
   "metadata": {},
   "outputs": [],
   "source": []
  },
  {
   "cell_type": "code",
   "execution_count": null,
   "id": "450c7536",
   "metadata": {},
   "outputs": [],
   "source": []
  }
 ],
 "metadata": {
  "kernelspec": {
   "display_name": "Python 3 (ipykernel)",
   "language": "python",
   "name": "python3"
  },
  "language_info": {
   "codemirror_mode": {
    "name": "ipython",
    "version": 3
   },
   "file_extension": ".py",
   "mimetype": "text/x-python",
   "name": "python",
   "nbconvert_exporter": "python",
   "pygments_lexer": "ipython3",
   "version": "3.9.12"
  }
 },
 "nbformat": 4,
 "nbformat_minor": 5
}
