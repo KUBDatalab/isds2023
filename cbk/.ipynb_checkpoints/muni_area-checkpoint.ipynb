{
 "cells": [
  {
   "cell_type": "markdown",
   "id": "c18a37d2",
   "metadata": {},
   "source": [
    "Retrieving area of municipalities"
   ]
  },
  {
   "cell_type": "code",
   "execution_count": 32,
   "id": "7a602f8a",
   "metadata": {},
   "outputs": [],
   "source": [
    "import pandas as pd\n",
    "from pathlib import Path"
   ]
  },
  {
   "cell_type": "markdown",
   "id": "c2ca61c4",
   "metadata": {},
   "source": [
    "Retrievin the table from Wikipedia"
   ]
  },
  {
   "cell_type": "code",
   "execution_count": 33,
   "id": "2902880b",
   "metadata": {},
   "outputs": [
    {
     "data": {
      "text/html": [
       "<div>\n",
       "<style scoped>\n",
       "    .dataframe tbody tr th:only-of-type {\n",
       "        vertical-align: middle;\n",
       "    }\n",
       "\n",
       "    .dataframe tbody tr th {\n",
       "        vertical-align: top;\n",
       "    }\n",
       "\n",
       "    .dataframe thead th {\n",
       "        text-align: right;\n",
       "    }\n",
       "</style>\n",
       "<table border=\"1\" class=\"dataframe\">\n",
       "  <thead>\n",
       "    <tr style=\"text-align: right;\">\n",
       "      <th></th>\n",
       "      <th>muni_name</th>\n",
       "      <th>km2</th>\n",
       "    </tr>\n",
       "  </thead>\n",
       "  <tbody>\n",
       "    <tr>\n",
       "      <th>0</th>\n",
       "      <td>København</td>\n",
       "      <td>8660</td>\n",
       "    </tr>\n",
       "    <tr>\n",
       "      <th>1</th>\n",
       "      <td>Aarhus</td>\n",
       "      <td>46790</td>\n",
       "    </tr>\n",
       "    <tr>\n",
       "      <th>2</th>\n",
       "      <td>Aalborg</td>\n",
       "      <td>113740</td>\n",
       "    </tr>\n",
       "    <tr>\n",
       "      <th>3</th>\n",
       "      <td>Odense</td>\n",
       "      <td>30560</td>\n",
       "    </tr>\n",
       "    <tr>\n",
       "      <th>4</th>\n",
       "      <td>Vejle</td>\n",
       "      <td>105840</td>\n",
       "    </tr>\n",
       "    <tr>\n",
       "      <th>...</th>\n",
       "      <td>...</td>\n",
       "      <td>...</td>\n",
       "    </tr>\n",
       "    <tr>\n",
       "      <th>93</th>\n",
       "      <td>Langeland</td>\n",
       "      <td>28920</td>\n",
       "    </tr>\n",
       "    <tr>\n",
       "      <th>94</th>\n",
       "      <td>Ærø</td>\n",
       "      <td>9010</td>\n",
       "    </tr>\n",
       "    <tr>\n",
       "      <th>95</th>\n",
       "      <td>Samsø</td>\n",
       "      <td>11360</td>\n",
       "    </tr>\n",
       "    <tr>\n",
       "      <th>96</th>\n",
       "      <td>Fanø</td>\n",
       "      <td>5760</td>\n",
       "    </tr>\n",
       "    <tr>\n",
       "      <th>97</th>\n",
       "      <td>Læsø</td>\n",
       "      <td>12050</td>\n",
       "    </tr>\n",
       "  </tbody>\n",
       "</table>\n",
       "<p>98 rows × 2 columns</p>\n",
       "</div>"
      ],
      "text/plain": [
       "    muni_name     km2\n",
       "0   København    8660\n",
       "1      Aarhus   46790\n",
       "2     Aalborg  113740\n",
       "3      Odense   30560\n",
       "4       Vejle  105840\n",
       "..        ...     ...\n",
       "93  Langeland   28920\n",
       "94        Ærø    9010\n",
       "95      Samsø   11360\n",
       "96       Fanø    5760\n",
       "97       Læsø   12050\n",
       "\n",
       "[98 rows x 2 columns]"
      ]
     },
     "execution_count": 33,
     "metadata": {},
     "output_type": "execute_result"
    }
   ],
   "source": [
    "url = \"https://da.wikipedia.org/wiki/Kommuner_i_Danmark_efter_indbyggertal\"\n",
    "areas = pd.read_html(url)\n",
    "areas = areas[0][[\"Navn\", \"km2\"]]\\\n",
    "    .copy()\\\n",
    "    .rename(columns = {\"Navn\": \"muni_name\"})"
   ]
  },
  {
   "cell_type": "markdown",
   "id": "1bfc787a",
   "metadata": {},
   "source": [
    "Reading the concordanse"
   ]
  },
  {
   "cell_type": "code",
   "execution_count": 34,
   "id": "a26c7109",
   "metadata": {},
   "outputs": [],
   "source": [
    "fp = Path(\"../\")\n",
    "filer = list(fp.glob(\"*\"))\n",
    "concordanse = fp/\"nye_og_gamle_kommuner.csv\"\n",
    "concordanse = pd.read_csv(concordanse)"
   ]
  },
  {
   "cell_type": "markdown",
   "id": "7c6b9aed",
   "metadata": {},
   "source": [
    "Deduplicating concordanse, merging with areas and saving to csv"
   ]
  },
  {
   "cell_type": "code",
   "execution_count": 35,
   "id": "42801eb3",
   "metadata": {},
   "outputs": [],
   "source": [
    "concordanse = concordanse[['muni_name', \"muni_code\"]]\\\n",
    "    .drop_duplicates()\\\n",
    "    .copy()\n",
    "\n",
    "\n",
    "areas\\\n",
    "    .merge(concordanse, on = \"muni_name\", how = \"left\")\\\n",
    "    .to_csv(\"muni_areas.csv\")"
   ]
  }
 ],
 "metadata": {
  "kernelspec": {
   "display_name": "Python 3 (ipykernel)",
   "language": "python",
   "name": "python3"
  },
  "language_info": {
   "codemirror_mode": {
    "name": "ipython",
    "version": 3
   },
   "file_extension": ".py",
   "mimetype": "text/x-python",
   "name": "python",
   "nbconvert_exporter": "python",
   "pygments_lexer": "ipython3",
   "version": "3.9.12"
  }
 },
 "nbformat": 4,
 "nbformat_minor": 5
}
