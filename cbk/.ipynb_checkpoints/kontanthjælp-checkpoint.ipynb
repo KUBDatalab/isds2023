{
 "cells": [
  {
   "cell_type": "markdown",
   "id": "ba1671d4",
   "metadata": {},
   "source": [
    "KY16 pr måned. antal personer område. Alle ydelsestyper. fra og med 2007 til dato\n",
    "Kontanthjælp (personer og beløb) efter område, enhed og ydelsestype (2007M01-2023M03)  \n",
    "KONT1X: Kontanthjælpsmodtagere (månedlig, personer) efter område og ydelsesart (AFSLUTTET) 1994-2006\n",
    "Se også kontanthjælp.py\n"
   ]
  },
  {
   "cell_type": "code",
   "execution_count": 164,
   "id": "d5210278",
   "metadata": {},
   "outputs": [],
   "source": [
    "import pandas as pd   \n",
    "\n",
    "# Retrieving data\n",
    "\n",
    "KY034 = \"https://api.statbank.dk/v1/data/KY034/CSV?valuePresentation=CodeAndValue&TAL=1%2C2&OMR%C3%85DE=*&Tid=*\"\n",
    "    \n",
    "KONT1X = \"https://api.statbank.dk/v1/data/KONT1X/CSV?valuePresentation=CodeAndValue&OMR%C3%85DE=*&YDELSESART=TOT&Tid=*\"\n",
    "\n",
    "KY034_data = pd.read_csv(KY034, sep = \";\")\n",
    "KONT1X_data = pd.read_csv(KONT1X, sep = \";\")    "
   ]
  },
  {
   "cell_type": "code",
   "execution_count": 165,
   "id": "71c9f2a8",
   "metadata": {},
   "outputs": [],
   "source": [
    "def clean_ds_data(df):\n",
    "    df['muni_code'] = df['OMRÅDE'].str.extract(r'(\\d{3})')   # extracting municipality code\n",
    "    df['muni_name'] = df['OMRÅDE'].str.extract(r'(\\d{3}\\s+(.*))')[1] # extracting municipalit name\n",
    "    df['year'] = df['TID'].str.split().str[0]\n",
    "    df = df\\\n",
    "        .drop(columns=[\"OMRÅDE\", 'TID'])\n",
    "    return df"
   ]
  },
  {
   "cell_type": "code",
   "execution_count": 166,
   "id": "7e25ab1f",
   "metadata": {},
   "outputs": [],
   "source": [
    "# cleaning KONT1X data. Only looking at data for january. Remember to remove november!\n",
    "KONT1X_data = clean_ds_data(KONT1X_data)\n",
    "KONT1X_data = KONT1X_data[KONT1X_data['year'].str.endswith('01')].copy()\n",
    "KONT1X_data['year'] = KONT1X_data['year'].str.replace('M01', \"\")"
   ]
  },
  {
   "cell_type": "code",
   "execution_count": null,
   "id": "e55d1fcb",
   "metadata": {},
   "outputs": [],
   "source": []
  },
  {
   "cell_type": "code",
   "execution_count": 167,
   "id": "d4ed2c61",
   "metadata": {},
   "outputs": [],
   "source": [
    "# Reshaping kont1x data\n",
    "\n",
    "\n",
    "KONT1X_data = KONT1X_data.pivot(index=[\"muni_code\", \"year\"], columns = \"YDELSESART\", values = \"INDHOLD\")\n",
    "KONT1X_data.name = None\n",
    "KONT1X_data = KONT1X_data.reset_index()"
   ]
  },
  {
   "cell_type": "code",
   "execution_count": 168,
   "id": "f0200795",
   "metadata": {},
   "outputs": [],
   "source": [
    "# reshaping KY034 data\n",
    "\n",
    "KY034_data = KY034_data.pivot(index=[\"OMRÅDE\", \"TID\"], columns = \"TAL\", values = \"INDHOLD\").reset_index()\n",
    "KY034_data = clean_ds_data(KY034_data)"
   ]
  },
  {
   "cell_type": "code",
   "execution_count": 169,
   "id": "bb69ad31",
   "metadata": {},
   "outputs": [],
   "source": [
    "# selecting and renaming columns.\n",
    "KY034_data = KY034_data[[\"muni_code\", \"year\", \"1 Berørte personer (antal)\"]].rename(columns={\"1 Berørte personer (antal)\":\"kont_recip_tot\"})\n",
    "KONT1X_data = KONT1X_data[[\"muni_code\", \"year\", \"TOT Modtagere af kontanthjælp mv. i alt\"]].rename(columns = {\"TOT Modtagere af kontanthjælp mv. i alt\":\"kont_recip_tot\"})"
   ]
  },
  {
   "cell_type": "code",
   "execution_count": null,
   "id": "2c06e147",
   "metadata": {},
   "outputs": [],
   "source": [
    "\n",
    "\n"
   ]
  },
  {
   "cell_type": "code",
   "execution_count": 170,
   "id": "38c554cf",
   "metadata": {},
   "outputs": [],
   "source": [
    "# coercing muni_code and year to integers\n",
    "KY034_data['muni_code'] = KY034_data['muni_code'].astype('Int64')\n",
    "KONT1X_data['muni_code'] = KONT1X_data['muni_code'].astype('Int64')\n",
    "\n",
    "KY034_data['year'] = KY034_data['year'].astype('Int64')\n",
    "KONT1X_data['year'] = KONT1X_data['year'].astype('Int64')"
   ]
  },
  {
   "cell_type": "code",
   "execution_count": 171,
   "id": "2917f713",
   "metadata": {},
   "outputs": [
    {
     "name": "stdout",
     "output_type": "stream",
     "text": [
      "<class 'pandas.core.frame.DataFrame'>\n",
      "Int64Index: 1696 entries, 0 to 1871\n",
      "Data columns (total 3 columns):\n",
      " #   Column          Non-Null Count  Dtype\n",
      "---  ------          --------------  -----\n",
      " 0   muni_code       1696 non-null   Int64\n",
      " 1   year            1696 non-null   Int64\n",
      " 2   kont_recip_tot  1696 non-null   int64\n",
      "dtypes: Int64(2), int64(1)\n",
      "memory usage: 56.3 KB\n"
     ]
    }
   ],
   "source": [
    "# KY034_data originally contains data on \"landsdele\". They appear as NaN in our data. Get rid of those!\n",
    "KY034_data = KY034_data.dropna(subset=['muni_code']).info()\n"
   ]
  },
  {
   "cell_type": "code",
   "execution_count": 172,
   "id": "f0899479",
   "metadata": {},
   "outputs": [],
   "source": [
    "total = pd.concat([KY034_data, KONT1X_data]).sort_values([\"muni_code\", \"year\"])"
   ]
  },
  {
   "cell_type": "code",
   "execution_count": 173,
   "id": "c135ebb0",
   "metadata": {},
   "outputs": [],
   "source": [
    "total.to_csv(\"kontanth.csv\")"
   ]
  },
  {
   "cell_type": "code",
   "execution_count": null,
   "id": "49651bbf",
   "metadata": {},
   "outputs": [],
   "source": []
  }
 ],
 "metadata": {
  "kernelspec": {
   "display_name": "Python 3 (ipykernel)",
   "language": "python",
   "name": "python3"
  },
  "language_info": {
   "codemirror_mode": {
    "name": "ipython",
    "version": 3
   },
   "file_extension": ".py",
   "mimetype": "text/x-python",
   "name": "python",
   "nbconvert_exporter": "python",
   "pygments_lexer": "ipython3",
   "version": "3.9.12"
  }
 },
 "nbformat": 4,
 "nbformat_minor": 5
}
