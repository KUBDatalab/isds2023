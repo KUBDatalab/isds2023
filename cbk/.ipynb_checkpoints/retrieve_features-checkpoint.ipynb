{
 "cells": [
  {
   "cell_type": "markdown",
   "id": "df66bef8",
   "metadata": {},
   "source": [
    "This noteboook calls a set of python-scripts that import features from primarily Statistics Denmark, but also Wikipedia.\n",
    "The scripts are run, and a set of csv-files are generated."
   ]
  },
  {
   "cell_type": "code",
   "execution_count": null,
   "id": "77965391",
   "metadata": {},
   "outputs": [],
   "source": [
    "#\"get_population_data.py\"\n",
    "#%run \"get_population_data.py\""
   ]
  }
 ],
 "metadata": {
  "kernelspec": {
   "display_name": "Python 3 (ipykernel)",
   "language": "python",
   "name": "python3"
  },
  "language_info": {
   "codemirror_mode": {
    "name": "ipython",
    "version": 3
   },
   "file_extension": ".py",
   "mimetype": "text/x-python",
   "name": "python",
   "nbconvert_exporter": "python",
   "pygments_lexer": "ipython3",
   "version": "3.9.12"
  }
 },
 "nbformat": 4,
 "nbformat_minor": 5
}
