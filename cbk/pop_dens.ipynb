{
 "cells": [
  {
   "cell_type": "markdown",
   "id": "78d8158f",
   "metadata": {},
   "source": [
    "Calculates population density"
   ]
  },
  {
   "cell_type": "code",
   "execution_count": 3,
   "id": "f2e77993",
   "metadata": {},
   "outputs": [],
   "source": [
    "import pandas as pd\n",
    "from pathlib import Path\n",
    "fp = Path(\"../cbk/\")\n",
    "filer = list(fp.glob(\"*\"))\n",
    "areas = fp/\"muni_areas.csv\"\n",
    "pop = fp/\"population_data.csv\"\n",
    "\n",
    "\n",
    "\n",
    "areas = pd.read_csv(areas)\n",
    "pop = pd.read_csv(pop)\n",
    "\n",
    "\n",
    "areas[\"muni_code\"] = areas[\"muni_code\"].astype(\"Int64\")\n",
    "areas.dropna(subset=['muni_code'], inplace=True)\n",
    "pop.dropna(subset=['muni_code'], inplace=True)\n",
    "\n",
    "pop_dens = pop.merge(areas, on =\"muni_code\", how = 'left').dropna(subset=[\"km2\"])\n",
    "\n",
    "pop_dens = pop_dens.assign(pop_dens = lambda row: row[\"pop\"]/row[\"km2\"])[[\"muni_code\", \"year\", \"pop_dens\"]].copy()\n",
    "\n",
    "pop_dens.to_csv(\"pop_dens.csv\")"
   ]
  }
 ],
 "metadata": {
  "kernelspec": {
   "display_name": "Python 3 (ipykernel)",
   "language": "python",
   "name": "python3"
  },
  "language_info": {
   "codemirror_mode": {
    "name": "ipython",
    "version": 3
   },
   "file_extension": ".py",
   "mimetype": "text/x-python",
   "name": "python",
   "nbconvert_exporter": "python",
   "pygments_lexer": "ipython3",
   "version": "3.9.12"
  }
 },
 "nbformat": 4,
 "nbformat_minor": 5
}
