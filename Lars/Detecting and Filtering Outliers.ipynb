{
 "cells": [
  {
   "cell_type": "markdown",
   "id": "7144a392",
   "metadata": {},
   "source": [
    "Script by Lars Kjær\n",
    "\n",
    "The code is the second part of our work with handling the outliers. The first part is in the notebook \"Find_matching_row\". This notebook builds upon the data produced by the code in the first note book. It handles the remaining outliers in a methodical way that is grounded in literature and a statistical method. _Source Eric Kleppen : https://careerfoundry.com/en/blog/data-analytics/how-to-find-outliers/_\n",
    "\n",
    "The approach follows three steps. First step is to use data visualisation to verify the presents of outliers. The second step is to use a statistical method to calculate the outliers. The third step is to drop or transform the outliers. "
   ]
  },
  {
   "cell_type": "code",
   "execution_count": 157,
   "id": "62382cb9",
   "metadata": {},
   "outputs": [],
   "source": [
    "##################### Import libraries ################################\n",
    "\n",
    "import pandas as pd\n",
    "import os\n",
    "import re\n",
    "from pathlib import Path\n",
    "import tqdm\n",
    "\n",
    "import warnings\n",
    "warnings.simplefilter(action='ignore', category=FutureWarning)"
   ]
  },
  {
   "cell_type": "code",
   "execution_count": 184,
   "id": "b2d95d37",
   "metadata": {},
   "outputs": [],
   "source": [
    "'''\n",
    "The function takes a pandas Series (data) as input \n",
    "and calculates the first and third quartiles along with the IQR. \n",
    "Then it identifies outliers using the IQR-based method and \n",
    "returns a new DataFrame (outliers_dropped) with the outliers.\n",
    "\n",
    "The function is written by Eric Kleppen but implemented by the me to work on our data.  \n",
    "'''\n",
    "\n",
    "\n",
    "def drop_outliers_IQR(data): # takes a series\n",
    "    \n",
    "   # Calculate the first quartile (Q1) and the third quartile (Q3)\n",
    "    q1=data.quantile(0.25)\n",
    "\n",
    "    q3=data.quantile(0.75)\n",
    "   \n",
    "    # Calculate the Interquartile Range (IQR)\n",
    "    IQR=q3-q1\n",
    "    \n",
    "    # Determine the lower and upper bounds for outliers and\n",
    "    # select data points that are not outliers based on the bounds\n",
    "    not_outliers = data[~((data<(q1-1.5*IQR)) | (data>(q3+1.5*IQR)))]\n",
    "\n",
    "    outliers_dropped = outliers.dropna().reset_index()\n",
    "\n",
    "    return outliers_dropped # return dataframe "
   ]
  },
  {
   "cell_type": "code",
   "execution_count": 185,
   "id": "1cc00f36",
   "metadata": {},
   "outputs": [
    {
     "name": "stderr",
     "output_type": "stream",
     "text": [
      "100%|████████████████████████████████████████████████████████████████████████████████████| 2/2 [00:00<00:00, 17.39it/s]\n"
     ]
    }
   ],
   "source": [
    "# Replace 'your_file.csv' with the actual path to your CSV file\n",
    "input_fp = Path.cwd() / 'unique_data' # path of files to be found\n",
    "\n",
    "output_fp = Path.cwd() / 'inlier_data' # output path of files generated\n",
    "# Use the Path object to actually create the subfolder\n",
    "Path.mkdir(output_fp, exist_ok=True)\n",
    "\n",
    "for filename in tqdm.tqdm(sorted(os.listdir(input_fp))): # \n",
    "    if filename.startswith('unique_sales_1992_2022_') and filename.endswith('.csv'):\n",
    "        df = pd.read_csv(input_fp/filename) # read the CSV file into a DataFrame\n",
    "        drop_outliers = drop_outliers_IQR(df['square meters_price'])\n",
    "        output_df = df[~df.index.isin(list(drop_outliers['index']))]\n",
    "        \n",
    "        # save file\n",
    "        # Rename and save the new DataFrame to a CSV file without index numbers\n",
    "        output_filename = filename.replace('unique_', 'inlier_')\n",
    "        output_df.to_csv(f'{output_fp}/{output_filename}', index=False)"
   ]
  },
  {
   "cell_type": "markdown",
   "id": "da709410",
   "metadata": {},
   "source": [
    "# Detecting and Filtering Outliers\n",
    "\n",
    "The following is a walkthrough of the code above."
   ]
  },
  {
   "cell_type": "code",
   "execution_count": 186,
   "id": "1b4475d1",
   "metadata": {},
   "outputs": [
    {
     "data": {
      "text/html": [
       "<div>\n",
       "<style scoped>\n",
       "    .dataframe tbody tr th:only-of-type {\n",
       "        vertical-align: middle;\n",
       "    }\n",
       "\n",
       "    .dataframe tbody tr th {\n",
       "        vertical-align: top;\n",
       "    }\n",
       "\n",
       "    .dataframe thead th {\n",
       "        text-align: right;\n",
       "    }\n",
       "</style>\n",
       "<table border=\"1\" class=\"dataframe\">\n",
       "  <thead>\n",
       "    <tr style=\"text-align: right;\">\n",
       "      <th></th>\n",
       "      <th>municipality</th>\n",
       "      <th>zip_code</th>\n",
       "      <th>purchase_amount</th>\n",
       "      <th>square meters</th>\n",
       "      <th>square meters_price</th>\n",
       "      <th>rooms</th>\n",
       "      <th>year_of_construction</th>\n",
       "    </tr>\n",
       "  </thead>\n",
       "  <tbody>\n",
       "    <tr>\n",
       "      <th>count</th>\n",
       "      <td>7842.0</td>\n",
       "      <td>7842.0</td>\n",
       "      <td>7.842000e+03</td>\n",
       "      <td>7842.000000</td>\n",
       "      <td>7842.000000</td>\n",
       "      <td>7842.000000</td>\n",
       "      <td>7842.000000</td>\n",
       "    </tr>\n",
       "    <tr>\n",
       "      <th>mean</th>\n",
       "      <td>161.0</td>\n",
       "      <td>2600.0</td>\n",
       "      <td>1.809714e+06</td>\n",
       "      <td>108.927825</td>\n",
       "      <td>16982.754782</td>\n",
       "      <td>3.839199</td>\n",
       "      <td>1961.276843</td>\n",
       "    </tr>\n",
       "    <tr>\n",
       "      <th>std</th>\n",
       "      <td>0.0</td>\n",
       "      <td>0.0</td>\n",
       "      <td>1.787723e+06</td>\n",
       "      <td>44.286909</td>\n",
       "      <td>14282.203506</td>\n",
       "      <td>1.581612</td>\n",
       "      <td>47.660872</td>\n",
       "    </tr>\n",
       "    <tr>\n",
       "      <th>min</th>\n",
       "      <td>161.0</td>\n",
       "      <td>2600.0</td>\n",
       "      <td>1.750000e+04</td>\n",
       "      <td>38.000000</td>\n",
       "      <td>222.000000</td>\n",
       "      <td>1.000000</td>\n",
       "      <td>0.000000</td>\n",
       "    </tr>\n",
       "    <tr>\n",
       "      <th>25%</th>\n",
       "      <td>161.0</td>\n",
       "      <td>2600.0</td>\n",
       "      <td>8.695650e+05</td>\n",
       "      <td>73.000000</td>\n",
       "      <td>9385.750000</td>\n",
       "      <td>3.000000</td>\n",
       "      <td>1943.000000</td>\n",
       "    </tr>\n",
       "    <tr>\n",
       "      <th>50%</th>\n",
       "      <td>161.0</td>\n",
       "      <td>2600.0</td>\n",
       "      <td>1.500000e+06</td>\n",
       "      <td>106.000000</td>\n",
       "      <td>15332.000000</td>\n",
       "      <td>4.000000</td>\n",
       "      <td>1960.000000</td>\n",
       "    </tr>\n",
       "    <tr>\n",
       "      <th>75%</th>\n",
       "      <td>161.0</td>\n",
       "      <td>2600.0</td>\n",
       "      <td>2.465000e+06</td>\n",
       "      <td>138.000000</td>\n",
       "      <td>22866.750000</td>\n",
       "      <td>5.000000</td>\n",
       "      <td>1975.000000</td>\n",
       "    </tr>\n",
       "    <tr>\n",
       "      <th>max</th>\n",
       "      <td>161.0</td>\n",
       "      <td>2600.0</td>\n",
       "      <td>6.347990e+07</td>\n",
       "      <td>388.000000</td>\n",
       "      <td>466764.000000</td>\n",
       "      <td>14.000000</td>\n",
       "      <td>2022.000000</td>\n",
       "    </tr>\n",
       "  </tbody>\n",
       "</table>\n",
       "</div>"
      ],
      "text/plain": [
       "       municipality  zip_code  purchase_amount  square meters  \\\n",
       "count        7842.0    7842.0     7.842000e+03    7842.000000   \n",
       "mean          161.0    2600.0     1.809714e+06     108.927825   \n",
       "std             0.0       0.0     1.787723e+06      44.286909   \n",
       "min           161.0    2600.0     1.750000e+04      38.000000   \n",
       "25%           161.0    2600.0     8.695650e+05      73.000000   \n",
       "50%           161.0    2600.0     1.500000e+06     106.000000   \n",
       "75%           161.0    2600.0     2.465000e+06     138.000000   \n",
       "max           161.0    2600.0     6.347990e+07     388.000000   \n",
       "\n",
       "       square meters_price        rooms  year_of_construction  \n",
       "count          7842.000000  7842.000000           7842.000000  \n",
       "mean          16982.754782     3.839199           1961.276843  \n",
       "std           14282.203506     1.581612             47.660872  \n",
       "min             222.000000     1.000000              0.000000  \n",
       "25%            9385.750000     3.000000           1943.000000  \n",
       "50%           15332.000000     4.000000           1960.000000  \n",
       "75%           22866.750000     5.000000           1975.000000  \n",
       "max          466764.000000    14.000000           2022.000000  "
      ]
     },
     "execution_count": 186,
     "metadata": {},
     "output_type": "execute_result"
    }
   ],
   "source": [
    "# Import a subset of data \n",
    "df = pd.read_csv(r'unique_data/unique_sales_1992_2022_161.csv')\n",
    "\n",
    "df.describe()"
   ]
  },
  {
   "cell_type": "markdown",
   "id": "e55e9280",
   "metadata": {},
   "source": [
    "# Use data visualisation to verify the presents of outliers\n",
    "\n",
    "I use historgram and box plot as visualization methods to find outliers in data.\n",
    "\n",
    "\n",
    "The histogram illustrates how the data is distributed. Eric Kleppen writes: _Having data that follows a normal distribution is necessary for some of the statistical techniques used to detect outliers. If the data doesn’t follow a normal distribution, the z-score calculation shouldn’t be used to find the outliers._ "
   ]
  },
  {
   "cell_type": "code",
   "execution_count": 187,
   "id": "b19f3a1b",
   "metadata": {},
   "outputs": [],
   "source": [
    "import seaborn as sns"
   ]
  },
  {
   "cell_type": "code",
   "execution_count": 188,
   "id": "b479e4ed",
   "metadata": {},
   "outputs": [
    {
     "data": {
      "text/plain": [
       "<Axes: xlabel='square meters_price', ylabel='Count'>"
      ]
     },
     "execution_count": 188,
     "metadata": {},
     "output_type": "execute_result"
    },
    {
     "data": {
      "image/png": "[encoded data removed]",
      "text/plain": [
       "<Figure size 640x480 with 1 Axes>"
      ]
     },
     "metadata": {},
     "output_type": "display_data"
    }
   ],
   "source": [
    "sns.histplot(df, x='square meters_price')"
   ]
  },
  {
   "cell_type": "markdown",
   "id": "89a22a43",
   "metadata": {},
   "source": [
    "Notice the data does not follow a normal distribution. Since the data is skewed, instead of using a z-score we can use **interquartile range (IQR)** to determine the outliers. We will explore using IQR after reviewing the other visualization techniques."
   ]
  },
  {
   "cell_type": "markdown",
   "id": "d1a12af6",
   "metadata": {},
   "source": [
    "# Find outliers in data using a box plot\n"
   ]
  },
  {
   "cell_type": "code",
   "execution_count": 189,
   "id": "23ed50b2",
   "metadata": {},
   "outputs": [
    {
     "data": {
      "text/plain": [
       "<Axes: ylabel='square meters_price'>"
      ]
     },
     "execution_count": 189,
     "metadata": {},
     "output_type": "execute_result"
    },
    {
     "data": {
      "image/png": "[encoded data removed]",
      "text/plain": [
       "<Figure size 640x480 with 1 Axes>"
      ]
     },
     "metadata": {},
     "output_type": "display_data"
    }
   ],
   "source": [
    "#create a box plot\n",
    "\n",
    "sns.boxplot(df, y='square meters_price')"
   ]
  },
  {
   "cell_type": "markdown",
   "id": "16376165",
   "metadata": {},
   "source": [
    "# Find outliers using statistical methods and drop them"
   ]
  },
  {
   "cell_type": "markdown",
   "id": "0b360d5a",
   "metadata": {},
   "source": [
    "Using this method, we essentially drop all the outliers from the data, excluding them from the analysis and modeling. Although this technique is quick and easy, it isn’t always the right solution and can reduce the amount of data if there are a lot of outliers present. \n",
    "\n",
    "Copy and paste the find_outliers_IQR function **( IQR = interquartile range )** so we can modify it to return a dataframe with the outliers removed. Rename it drop_outliers_IQR . Inside the function we create a dataframe named not_outliers that replaces the outlier values with a NULL. Then we can use .dropna(), to drop the rows with NULL values. "
   ]
  },
  {
   "cell_type": "code",
   "execution_count": 190,
   "id": "700e2c0f",
   "metadata": {},
   "outputs": [],
   "source": [
    "# we will calculate the outlier data points using the statistical method called interquartile range (IQR) instead of using Z-score. Using the IQR, the outlier data points are the ones falling below Q1–1.5 IQR or above Q3 + 1.5 IQR. The Q1 is the 25th percentile and Q3 is the 75th percentile of the dataset, and IQR represents the interquartile range calculated by Q3 minus Q1 (Q3–Q1). \n",
    "\n",
    "# Using the convenient pandas .quantile() function, \n",
    "# we can create a simple Python function that takes in our column from the dataframe and outputs the outliers:\n",
    "\n",
    "#create a function to find outliers using IQR\n",
    "\n",
    "\n",
    "def drop_outliers_IQR(df):\n",
    "\n",
    "   q1=df.quantile(0.25)\n",
    "\n",
    "   q3=df.quantile(0.75)\n",
    "\n",
    "   IQR=q3-q1\n",
    "\n",
    "   not_outliers = df[~((df<(q1-1.5*IQR)) | (df>(q3+1.5*IQR)))]\n",
    "\n",
    "   outliers_dropped = outliers.dropna().reset_index()\n",
    "\n",
    "   return outliers_dropped, 'rows dropped: ', len(outliers_dropped), 'rows before: ', len(df)\n",
    "\n",
    "\n",
    "new_df = df.copy()\n",
    "dropped_outl = drop_outliers_IQR(new_df)[0] # apply fiunction\n",
    "output_df = new_df.drop(list(dropped_outl['index']))\n",
    "        "
   ]
  },
  {
   "cell_type": "code",
   "execution_count": 191,
   "id": "27d1da0a",
   "metadata": {},
   "outputs": [
    {
     "data": {
      "text/plain": [
       "<Axes: xlabel='square meters_price', ylabel='Count'>"
      ]
     },
     "execution_count": 191,
     "metadata": {},
     "output_type": "execute_result"
    },
    {
     "data": {
      "image/png": "[encoded data removed]",
      "text/plain": [
       "<Figure size 640x480 with 1 Axes>"
      ]
     },
     "metadata": {},
     "output_type": "display_data"
    }
   ],
   "source": [
    "sns.histplot(out_put_df, x='square meters_price')"
   ]
  },
  {
   "cell_type": "code",
   "execution_count": 192,
   "id": "f6c87bb6",
   "metadata": {},
   "outputs": [
    {
     "data": {
      "text/plain": [
       "<Axes: ylabel='square meters_price'>"
      ]
     },
     "execution_count": 192,
     "metadata": {},
     "output_type": "execute_result"
    },
    {
     "data": {
      "image/png": "[encoded data removed]",
      "text/plain": [
       "<Figure size 640x480 with 1 Axes>"
      ]
     },
     "metadata": {},
     "output_type": "display_data"
    }
   ],
   "source": [
    "#create a box plot\n",
    "\n",
    "sns.boxplot(out_put_df, y='square meters_price')"
   ]
  },
  {
   "cell_type": "code",
   "execution_count": null,
   "id": "9d4f18b8",
   "metadata": {},
   "outputs": [],
   "source": []
  },
  {
   "cell_type": "code",
   "execution_count": null,
   "id": "d1d4e8f2",
   "metadata": {},
   "outputs": [],
   "source": []
  }
 ],
 "metadata": {
  "kernelspec": {
   "display_name": "Python 3 (ipykernel)",
   "language": "python",
   "name": "python3"
  },
  "language_info": {
   "codemirror_mode": {
    "name": "ipython",
    "version": 3
   },
   "file_extension": ".py",
   "mimetype": "text/x-python",
   "name": "python",
   "nbconvert_exporter": "python",
   "pygments_lexer": "ipython3",
   "version": "3.10.9"
  }
 },
 "nbformat": 4,
 "nbformat_minor": 5
}
