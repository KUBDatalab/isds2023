{
 "cells": [
  {
   "cell_type": "code",
   "execution_count": 34,
   "id": "bacecf95-d3d0-4956-a269-0a28ea419b03",
   "metadata": {},
   "outputs": [],
   "source": [
    "import pandas as pd"
   ]
  },
  {
   "cell_type": "code",
   "execution_count": 35,
   "id": "986bfd15-3896-4c3c-bd17-a89133cda158",
   "metadata": {},
   "outputs": [
    {
     "name": "stdout",
     "output_type": "stream",
     "text": [
      "54500\n",
      "350\n",
      "59061\n"
     ]
    }
   ],
   "source": [
    "print(len(pd.read_csv('sales_1992_2022_461_1.csv')))\n",
    "print(len(pd.read_csv('sales_1992_2022_461_2.csv')))\n",
    "print(len(pd.read_csv('sales_1992_2022_461_3.csv')))"
   ]
  },
  {
   "cell_type": "code",
   "execution_count": 36,
   "id": "f135b853-ba4e-4dfd-aa05-a5353f7ed985",
   "metadata": {},
   "outputs": [
    {
     "name": "stdout",
     "output_type": "stream",
     "text": [
      "CSV files successfully concatenated and saved as 'combined.csv'.\n"
     ]
    }
   ],
   "source": [
    "# Load the first CSV file\n",
    "file1 = pd.read_csv('sales_1992_2022_461_1.csv') #up to page 520\n",
    "\n",
    "# Load the second CSV file\n",
    "file2 = pd.read_csv('sales_1992_2022_461_2.csv') #page 521-999\n",
    "\n",
    "# Load the second CSV file\n",
    "file3 = pd.read_csv('sales_1992_2022_461_3.csv')\n",
    "\n",
    "# Concatenate the two DataFrames\n",
    "combined = pd.concat([file1, file2, file3], ignore_index=True)\n",
    "\n",
    "# Save the combined DataFrame to a new CSV file\n",
    "combined.to_csv('sales_1992_2022_461.csv', index=False)\n",
    "\n",
    "print(\"CSV files successfully concatenated and saved as 'combined.csv'.\")\n"
   ]
  },
  {
   "cell_type": "code",
   "execution_count": 37,
   "id": "4d1959e4-22d3-435e-bf77-962ec9842e63",
   "metadata": {},
   "outputs": [
    {
     "name": "stdout",
     "output_type": "stream",
     "text": [
      "113911\n"
     ]
    },
    {
     "name": "stderr",
     "output_type": "stream",
     "text": [
      "/var/folders/y9/g15wbk0j1wd01kznfcf__8f00000gn/T/ipykernel_32173/2381649530.py:1: DtypeWarning: Columns (6) have mixed types. Specify dtype option on import or set low_memory=False.\n",
      "  print(len(pd.read_csv('sales_1992_2022_461.csv')))\n"
     ]
    }
   ],
   "source": [
    "print(len(pd.read_csv('sales_1992_2022_461.csv')))\n",
    "#print(len(pd.read_csv('data/log_330.csv')))"
   ]
  },
  {
   "cell_type": "code",
   "execution_count": 38,
   "id": "5b83db55-3f85-4ac6-a9bb-0580446e3f93",
   "metadata": {},
   "outputs": [
    {
     "name": "stderr",
     "output_type": "stream",
     "text": [
      "/var/folders/y9/g15wbk0j1wd01kznfcf__8f00000gn/T/ipykernel_32173/3131657101.py:1: DtypeWarning: Columns (6) have mixed types. Specify dtype option on import or set low_memory=False.\n",
      "  pd.read_csv('sales_1992_2022_461.csv')\n"
     ]
    },
    {
     "data": {
      "text/html": [
       "<div>\n",
       "<style scoped>\n",
       "    .dataframe tbody tr th:only-of-type {\n",
       "        vertical-align: middle;\n",
       "    }\n",
       "\n",
       "    .dataframe tbody tr th {\n",
       "        vertical-align: top;\n",
       "    }\n",
       "\n",
       "    .dataframe thead th {\n",
       "        text-align: right;\n",
       "    }\n",
       "</style>\n",
       "<table border=\"1\" class=\"dataframe\">\n",
       "  <thead>\n",
       "    <tr style=\"text-align: right;\">\n",
       "      <th></th>\n",
       "      <th>Boligtype &amp; Adresse</th>\n",
       "      <th>Købesum</th>\n",
       "      <th>Dato &amp; Type</th>\n",
       "      <th>m² &amp; Kr. / m²</th>\n",
       "      <th>Vær.</th>\n",
       "      <th>Byggeår</th>\n",
       "      <th>Den procentuelle forskel mellem seneste udbudspris og salgsprisen %</th>\n",
       "      <th>Unnamed: 7</th>\n",
       "    </tr>\n",
       "  </thead>\n",
       "  <tbody>\n",
       "    <tr>\n",
       "      <th>0</th>\n",
       "      <td>Rækkehus RRækkehus Bytoften 27  5210 Odense NV</td>\n",
       "      <td>1.450.000 kr.</td>\n",
       "      <td>29-12-2022Alm. Salg</td>\n",
       "      <td>110 m² 13.182 kr/m²</td>\n",
       "      <td>3</td>\n",
       "      <td>1964</td>\n",
       "      <td>-9%</td>\n",
       "      <td>Aktuel værdi</td>\n",
       "    </tr>\n",
       "    <tr>\n",
       "      <th>1</th>\n",
       "      <td>Rækkehus RRækkehus Vægtens Kvarter 293  5220 O...</td>\n",
       "      <td>1.470.000 kr.</td>\n",
       "      <td>29-12-2022Andet</td>\n",
       "      <td>76 m² 19.342 kr/m²</td>\n",
       "      <td>3</td>\n",
       "      <td>1980</td>\n",
       "      <td>NaN</td>\n",
       "      <td>Aktuel værdi</td>\n",
       "    </tr>\n",
       "    <tr>\n",
       "      <th>2</th>\n",
       "      <td>Rækkehus RRækkehus Humlebivænget 37  5260 Oden...</td>\n",
       "      <td>1.225.000 kr.</td>\n",
       "      <td>29-12-2022Alm. Salg</td>\n",
       "      <td>85 m² 14.412 kr/m²</td>\n",
       "      <td>3</td>\n",
       "      <td>1973</td>\n",
       "      <td>-12%</td>\n",
       "      <td>Aktuel værdi</td>\n",
       "    </tr>\n",
       "    <tr>\n",
       "      <th>3</th>\n",
       "      <td>Rækkehus RRækkehus Niels Bjerres Vænge 39  522...</td>\n",
       "      <td>2.250.000 kr.</td>\n",
       "      <td>29-12-2022Alm. Salg</td>\n",
       "      <td>105 m² 21.429 kr/m²</td>\n",
       "      <td>4</td>\n",
       "      <td>1963</td>\n",
       "      <td>-8%</td>\n",
       "      <td>Aktuel værdi</td>\n",
       "    </tr>\n",
       "    <tr>\n",
       "      <th>4</th>\n",
       "      <td>Ejerlejlighed EEjerlejlighed Floravænget 40, s...</td>\n",
       "      <td>825.000 kr.</td>\n",
       "      <td>29-12-2022Alm. Salg</td>\n",
       "      <td>58 m² 14.224 kr/m²</td>\n",
       "      <td>2</td>\n",
       "      <td>1968</td>\n",
       "      <td>-7%</td>\n",
       "      <td>Aktuel værdi</td>\n",
       "    </tr>\n",
       "    <tr>\n",
       "      <th>...</th>\n",
       "      <td>...</td>\n",
       "      <td>...</td>\n",
       "      <td>...</td>\n",
       "      <td>...</td>\n",
       "      <td>...</td>\n",
       "      <td>...</td>\n",
       "      <td>...</td>\n",
       "      <td>...</td>\n",
       "    </tr>\n",
       "    <tr>\n",
       "      <th>113906</th>\n",
       "      <td>Rækkehus RRækkehus Falen 63G  5000 Odense C</td>\n",
       "      <td>1.949.436 kr.</td>\n",
       "      <td>01-01-1992Fam. Salg</td>\n",
       "      <td>117 m² 16.662 kr/m²</td>\n",
       "      <td>4</td>\n",
       "      <td>2019</td>\n",
       "      <td>NaN</td>\n",
       "      <td>Aktuel værdi</td>\n",
       "    </tr>\n",
       "    <tr>\n",
       "      <th>113907</th>\n",
       "      <td>Ejerlejlighed EEjerlejlighed Nørregade 45D, 2 ...</td>\n",
       "      <td>430.000 kr.</td>\n",
       "      <td>01-01-1992Alm. Salg</td>\n",
       "      <td>111 m² 3.874 kr/m²</td>\n",
       "      <td>2</td>\n",
       "      <td>1897</td>\n",
       "      <td>NaN</td>\n",
       "      <td>Aktuel værdi</td>\n",
       "    </tr>\n",
       "    <tr>\n",
       "      <th>113908</th>\n",
       "      <td>Villa VVilla Mågebakken 106  5250 Odense SV</td>\n",
       "      <td>730.000 kr.</td>\n",
       "      <td>01-01-1992Fam. Salg</td>\n",
       "      <td>216 m² 3.380 kr/m²</td>\n",
       "      <td>6</td>\n",
       "      <td>1971</td>\n",
       "      <td>NaN</td>\n",
       "      <td>Aktuel værdi</td>\n",
       "    </tr>\n",
       "    <tr>\n",
       "      <th>113909</th>\n",
       "      <td>Villa VVilla Faaborgvej 47  5250 Odense SV</td>\n",
       "      <td>581.000 kr.</td>\n",
       "      <td>01-01-1992Alm. Salg</td>\n",
       "      <td>165 m² 3.521 kr/m²</td>\n",
       "      <td>5</td>\n",
       "      <td>1933</td>\n",
       "      <td>NaN</td>\n",
       "      <td>Aktuel værdi</td>\n",
       "    </tr>\n",
       "    <tr>\n",
       "      <th>113910</th>\n",
       "      <td>Villa VVilla Lupinvej 38B  5210 Odense NV</td>\n",
       "      <td>747.646 kr.</td>\n",
       "      <td>01-01-1992Alm. Salg</td>\n",
       "      <td>145 m² 5.156 kr/m²</td>\n",
       "      <td>4</td>\n",
       "      <td>1961</td>\n",
       "      <td>NaN</td>\n",
       "      <td>Aktuel værdi</td>\n",
       "    </tr>\n",
       "  </tbody>\n",
       "</table>\n",
       "<p>113911 rows × 8 columns</p>\n",
       "</div>"
      ],
      "text/plain": [
       "                                      Boligtype & Adresse        Købesum  \\\n",
       "0          Rækkehus RRækkehus Bytoften 27  5210 Odense NV  1.450.000 kr.   \n",
       "1       Rækkehus RRækkehus Vægtens Kvarter 293  5220 O...  1.470.000 kr.   \n",
       "2       Rækkehus RRækkehus Humlebivænget 37  5260 Oden...  1.225.000 kr.   \n",
       "3       Rækkehus RRækkehus Niels Bjerres Vænge 39  522...  2.250.000 kr.   \n",
       "4       Ejerlejlighed EEjerlejlighed Floravænget 40, s...    825.000 kr.   \n",
       "...                                                   ...            ...   \n",
       "113906        Rækkehus RRækkehus Falen 63G  5000 Odense C  1.949.436 kr.   \n",
       "113907  Ejerlejlighed EEjerlejlighed Nørregade 45D, 2 ...    430.000 kr.   \n",
       "113908        Villa VVilla Mågebakken 106  5250 Odense SV    730.000 kr.   \n",
       "113909         Villa VVilla Faaborgvej 47  5250 Odense SV    581.000 kr.   \n",
       "113910          Villa VVilla Lupinvej 38B  5210 Odense NV    747.646 kr.   \n",
       "\n",
       "                Dato & Type        m² & Kr. / m²  Vær.  Byggeår  \\\n",
       "0       29-12-2022Alm. Salg  110 m² 13.182 kr/m²     3     1964   \n",
       "1           29-12-2022Andet   76 m² 19.342 kr/m²     3     1980   \n",
       "2       29-12-2022Alm. Salg   85 m² 14.412 kr/m²     3     1973   \n",
       "3       29-12-2022Alm. Salg  105 m² 21.429 kr/m²     4     1963   \n",
       "4       29-12-2022Alm. Salg   58 m² 14.224 kr/m²     2     1968   \n",
       "...                     ...                  ...   ...      ...   \n",
       "113906  01-01-1992Fam. Salg  117 m² 16.662 kr/m²     4     2019   \n",
       "113907  01-01-1992Alm. Salg   111 m² 3.874 kr/m²     2     1897   \n",
       "113908  01-01-1992Fam. Salg   216 m² 3.380 kr/m²     6     1971   \n",
       "113909  01-01-1992Alm. Salg   165 m² 3.521 kr/m²     5     1933   \n",
       "113910  01-01-1992Alm. Salg   145 m² 5.156 kr/m²     4     1961   \n",
       "\n",
       "       Den procentuelle forskel mellem seneste udbudspris og salgsprisen %  \\\n",
       "0                                                     -9%                    \n",
       "1                                                     NaN                    \n",
       "2                                                    -12%                    \n",
       "3                                                     -8%                    \n",
       "4                                                     -7%                    \n",
       "...                                                   ...                    \n",
       "113906                                                NaN                    \n",
       "113907                                                NaN                    \n",
       "113908                                                NaN                    \n",
       "113909                                                NaN                    \n",
       "113910                                                NaN                    \n",
       "\n",
       "          Unnamed: 7  \n",
       "0       Aktuel værdi  \n",
       "1       Aktuel værdi  \n",
       "2       Aktuel værdi  \n",
       "3       Aktuel værdi  \n",
       "4       Aktuel værdi  \n",
       "...              ...  \n",
       "113906  Aktuel værdi  \n",
       "113907  Aktuel værdi  \n",
       "113908  Aktuel værdi  \n",
       "113909  Aktuel værdi  \n",
       "113910  Aktuel værdi  \n",
       "\n",
       "[113911 rows x 8 columns]"
      ]
     },
     "execution_count": 38,
     "metadata": {},
     "output_type": "execute_result"
    }
   ],
   "source": [
    "pd.read_csv('sales_1992_2022_461.csv')"
   ]
  },
  {
   "cell_type": "code",
   "execution_count": null,
   "id": "a3c711e9-f03d-41a2-8800-069d489afed2",
   "metadata": {},
   "outputs": [],
   "source": []
  },
  {
   "cell_type": "code",
   "execution_count": null,
   "id": "de5e44a0-9261-45fa-a079-8eca3f3e33a0",
   "metadata": {},
   "outputs": [],
   "source": []
  },
  {
   "cell_type": "code",
   "execution_count": null,
   "id": "55e6a31f-5faa-457b-ad19-66f60e8a3416",
   "metadata": {},
   "outputs": [],
   "source": []
  },
  {
   "cell_type": "code",
   "execution_count": null,
   "id": "f03267d4-121f-4960-b37e-1b80200511d0",
   "metadata": {},
   "outputs": [],
   "source": []
  }
 ],
 "metadata": {
  "kernelspec": {
   "display_name": "Python 3 (ipykernel)",
   "language": "python",
   "name": "python3"
  },
  "language_info": {
   "codemirror_mode": {
    "name": "ipython",
    "version": 3
   },
   "file_extension": ".py",
   "mimetype": "text/x-python",
   "name": "python",
   "nbconvert_exporter": "python",
   "pygments_lexer": "ipython3",
   "version": "3.10.4"
  }
 },
 "nbformat": 4,
 "nbformat_minor": 5
}
