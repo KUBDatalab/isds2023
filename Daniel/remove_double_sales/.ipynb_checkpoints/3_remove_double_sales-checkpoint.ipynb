{
 "cells": [
  {
   "cell_type": "code",
   "execution_count": 28,
   "id": "810dd8f7-1e82-452f-b734-7624f51c0351",
   "metadata": {},
   "outputs": [],
   "source": [
    "from pathlib import Path\n",
    "import pandas as pd\n",
    "import time\n",
    "import os\n",
    "import tqdm"
   ]
  },
  {
   "cell_type": "code",
   "execution_count": 32,
   "id": "1b08b873-3ecd-449b-b10d-28710d7f10cb",
   "metadata": {},
   "outputs": [],
   "source": [
    "# Replace 'your_file.csv' with the actual path to your CSV file\n",
    "input_fp = Path.cwd() / 'tidy_data' # path of files to be found\n",
    "\n",
    "output_fp = Path.cwd() / 'unique_data' # output path of files generated\n",
    "# Use the Path object to actually create the subfolder\n",
    "Path.mkdir(output_fp, exist_ok=True)"
   ]
  },
  {
   "cell_type": "raw",
   "id": "0dadbe77-438b-40ec-b06d-4e9ce5001cd8",
   "metadata": {},
   "source": [
    "def find_matching_rows(df):\n",
    "    matching_indices = []\n",
    "    matched_indices = set()\n",
    "\n",
    "    for index, row in df.iterrows():\n",
    "        if index in matched_indices:\n",
    "            continue\n",
    "        \n",
    "        col1_value = row['date_of_sale']\n",
    "        col2_value = row['purchase_amount']\n",
    "\n",
    "        matching_rows = df[\n",
    "            (df['date_of_sale'] == col1_value) &\n",
    "            (df['purchase_amount'] == col2_value)\n",
    "        ]\n",
    "\n",
    "        if len(matching_rows) > 1:\n",
    "            matching_indices.extend(matching_rows.index.tolist())\n",
    "            matched_indices.update(matching_rows.index.tolist())\n",
    "    \n",
    "    #print(matching_indices)\n",
    "\n",
    "    return matching_indices"
   ]
  },
  {
   "cell_type": "code",
   "execution_count": 33,
   "id": "1af72331-a25f-4db5-b57c-afcaa0a0b4d8",
   "metadata": {},
   "outputs": [],
   "source": [
    "def find_matching_rows(df):\n",
    "    grouped = df.groupby(['date_of_sale', 'purchase_amount'])\n",
    "    matching_indices = []\n",
    "\n",
    "    for _, group in grouped:\n",
    "        if len(group) > 1:\n",
    "            matching_indices.extend(group.index.tolist())\n",
    "\n",
    "    return matching_indices"
   ]
  },
  {
   "cell_type": "raw",
   "id": "1033e8e4-5938-4138-bfd0-405685cf70c3",
   "metadata": {},
   "source": [
    "# slower model that checks everything - including already matched rows\n",
    "\n",
    "def find_matching_rows(df):\n",
    "    matching_indices = []\n",
    "\n",
    "    for index, row in df.iterrows():\n",
    "        \n",
    "        col1_value = row['date_of_sale']\n",
    "        col2_value = row['purchase_amount']\n",
    "\n",
    "        matching_rows = df[\n",
    "            (df['date_of_sale'] == col1_value) &\n",
    "            (df['purchase_amount'] == col2_value)\n",
    "        ]\n",
    "\n",
    "        if len(matching_rows) > 1:\n",
    "            matching_indices.extend(matching_rows.index.tolist())\n",
    "    \n",
    "    #print(matching_indices)\n",
    "\n",
    "    return matching_indices"
   ]
  },
  {
   "cell_type": "code",
   "execution_count": 34,
   "id": "91b0223d-64d1-4cfa-8435-bc53e0fef1f2",
   "metadata": {},
   "outputs": [
    {
     "name": "stderr",
     "output_type": "stream",
     "text": [
      "  0%|                                                                         | 0/4 [00:00<?, ?it/s]/var/folders/y9/g15wbk0j1wd01kznfcf__8f00000gn/T/ipykernel_45917/1334869125.py:6: DtypeWarning: Columns (12) have mixed types. Specify dtype option on import or set low_memory=False.\n",
      "  df = pd.read_csv(input_fp/filename) # read the CSV file into a DataFrame\n",
      " 75%|████████████████████████████████████████████████▊                | 3/4 [00:04<00:01,  1.29s/it]"
     ]
    },
    {
     "name": "stdout",
     "output_type": "stream",
     "text": [
      "Number of rows in tidy_sales_1992_2022_101.csv: 297624\n",
      "Number of matching rows: 82788\n",
      "Number of unique rows: 214836\n",
      "\n",
      "Number of rows in tidy_sales_1992_2022_161.csv: 9207\n",
      "Number of matching rows: 1365\n",
      "Number of unique rows: 7842\n",
      "\n"
     ]
    },
    {
     "name": "stderr",
     "output_type": "stream",
     "text": [
      "100%|█████████████████████████████████████████████████████████████████| 4/4 [00:04<00:00,  1.12s/it]"
     ]
    },
    {
     "name": "stdout",
     "output_type": "stream",
     "text": [
      "Number of rows in tidy_sales_1992_2022_165.csv: 7613\n",
      "Number of matching rows: 287\n",
      "Number of unique rows: 7326\n",
      "\n",
      "Runtime: 4.4815099239349365\n"
     ]
    },
    {
     "name": "stderr",
     "output_type": "stream",
     "text": [
      "\n"
     ]
    }
   ],
   "source": [
    "start_time = time.time()\n",
    "\n",
    "# Iterate through log files in the folder\n",
    "for filename in tqdm.tqdm(sorted(os.listdir(input_fp))):\n",
    "    if filename.startswith('tidy_sales_1992_2022_') and filename.endswith('.csv'):\n",
    "        df = pd.read_csv(input_fp/filename) # read the CSV file into a DataFrame\n",
    "        matching_indices = find_matching_rows(df)\n",
    "        matching_df = df[df.index.isin(matching_indices)]\n",
    "        unique_matching_indices = list(set(matching_indices))\n",
    "\n",
    "        # List of index numbers to exclude\n",
    "        index_numbers_to_exclude = unique_matching_indices\n",
    "        \n",
    "        # Create a new DataFrame excluding rows with specified index numbers\n",
    "        new_df = df[~df.index.isin(index_numbers_to_exclude)]\n",
    "        \n",
    "        # Rename and save the new DataFrame to a CSV file without index numbers\n",
    "        output_filename = filename.replace('tidy_', 'unique_')  # Replace 'tidy_' with 'unique_' in filename\n",
    "        new_df.to_csv(f'{output_fp}/{output_filename}', index=False)\n",
    "\n",
    "        print(f'Number of rows in {filename}: {len(df)}')\n",
    "        print(f'Number of matching rows: {len(matching_df)}')\n",
    "        print(f'Number of unique rows: {len(new_df)}')\n",
    "        print()\n",
    "\n",
    "elapsed_time = time.time() - start_time\n",
    "print(f'Runtime: {elapsed_time}')"
   ]
  },
  {
   "cell_type": "code",
   "execution_count": null,
   "id": "7cef337b-e669-4500-b258-abc0e0f16772",
   "metadata": {},
   "outputs": [],
   "source": []
  }
 ],
 "metadata": {
  "kernelspec": {
   "display_name": "Python 3 (ipykernel)",
   "language": "python",
   "name": "python3"
  },
  "language_info": {
   "codemirror_mode": {
    "name": "ipython",
    "version": 3
   },
   "file_extension": ".py",
   "mimetype": "text/x-python",
   "name": "python",
   "nbconvert_exporter": "python",
   "pygments_lexer": "ipython3",
   "version": "3.10.4"
  }
 },
 "nbformat": 4,
 "nbformat_minor": 5
}
