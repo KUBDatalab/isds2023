{
 "cells": [
  {
   "cell_type": "code",
   "execution_count": 1,
   "id": "9c1c5579-ca7a-4efd-8fb2-af8114bf39fb",
   "metadata": {},
   "outputs": [],
   "source": [
    "import pandas as pd\n",
    "import time"
   ]
  },
  {
   "cell_type": "code",
   "execution_count": null,
   "id": "d9e478da-91bb-4361-b72d-3a32444b4826",
   "metadata": {},
   "outputs": [],
   "source": [
    "\n",
    "# Replace 'your_file.csv' with the actual path to your CSV file\n",
    "csv_file_path = 'processed_data_sales_1992_2022_161.csv'\n",
    "\n",
    "# Read the CSV file into a DataFrame\n",
    "df = pd.read_csv(csv_file_path)\n",
    "\n",
    "# Now you can work with the DataFrame, for example, display the first few rows\n",
    "len(df)"
   ]
  },
  {
   "cell_type": "code",
   "execution_count": null,
   "id": "fa6a0b13-02cb-4eb8-9ed9-d34717eb156d",
   "metadata": {},
   "outputs": [],
   "source": [
    "def find_matching_rows(df):\n",
    "    matching_indices = set()\n",
    "    checked_indices = set()\n",
    "\n",
    "    for index, row in df.iterrows():\n",
    "        if index in checked_indices:\n",
    "            continue\n",
    "\n",
    "        col1_value = row['date_of_sale']\n",
    "        col2_prefix = row['address'].split()[0]  # Get the first word until whitespace\n",
    "\n",
    "        matching_rows = df[\n",
    "            (df['date_of_sale'] == col1_value) &\n",
    "            (df['address'].str.split().str[0] == col2_prefix)\n",
    "        ]\n",
    "\n",
    "        matching_indices.update(matching_rows.index)\n",
    "        checked_indices.update(matching_rows.index)\n",
    "\n",
    "    return matching_indices\n"
   ]
  }
 ],
 "metadata": {
  "kernelspec": {
   "display_name": "Python 3 (ipykernel)",
   "language": "python",
   "name": "python3"
  },
  "language_info": {
   "codemirror_mode": {
    "name": "ipython",
    "version": 3
   },
   "file_extension": ".py",
   "mimetype": "text/x-python",
   "name": "python",
   "nbconvert_exporter": "python",
   "pygments_lexer": "ipython3",
   "version": "3.10.4"
  }
 },
 "nbformat": 4,
 "nbformat_minor": 5
}
