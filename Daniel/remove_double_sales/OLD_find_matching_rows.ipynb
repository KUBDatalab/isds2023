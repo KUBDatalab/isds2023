{
 "cells": [
  {
   "cell_type": "code",
   "execution_count": 1,
   "id": "810dd8f7-1e82-452f-b734-7624f51c0351",
   "metadata": {},
   "outputs": [],
   "source": [
    "import pandas as pd\n",
    "import time"
   ]
  },
  {
   "cell_type": "code",
   "execution_count": 2,
   "id": "1b08b873-3ecd-449b-b10d-28710d7f10cb",
   "metadata": {},
   "outputs": [
    {
     "data": {
      "text/plain": [
       "9207"
      ]
     },
     "execution_count": 2,
     "metadata": {},
     "output_type": "execute_result"
    }
   ],
   "source": [
    "# Replace 'your_file.csv' with the actual path to your CSV file\n",
    "csv_file_path = 'processed_data_sales_1992_2022_161.csv'\n",
    "\n",
    "# Read the CSV file into a DataFrame\n",
    "df = pd.read_csv(csv_file_path)\n",
    "\n",
    "# Now you can work with the DataFrame, for example, display the first few rows\n",
    "len(df)"
   ]
  },
  {
   "cell_type": "code",
   "execution_count": 10,
   "id": "9ed7bb8a-77cb-4493-b2f2-11260e21a375",
   "metadata": {},
   "outputs": [],
   "source": [
    "def find_matching_rows(df):\n",
    "    matching_indices = []\n",
    "\n",
    "    for index, row in df.iterrows():\n",
    "        col1_value = row['date_of_sale']\n",
    "        #col2_prefix = row['address'].split()[0]  # Get the first word until whitespace\n",
    "        col3_value = row['purchase_amount']\n",
    "\n",
    "        matching_rows = df[\n",
    "            (df['date_of_sale'] == col1_value) &\n",
    "            (df['purchase_amount'] == col3_value) #&\n",
    "            #(df['address'].str.split().str[0] == col2_prefix)\n",
    "        ]\n",
    "\n",
    "        if len(matching_rows) > 1:\n",
    "            matching_indices.extend(matching_rows.index.tolist())\n",
    "\n",
    "    return matching_indices"
   ]
  },
  {
   "cell_type": "code",
   "execution_count": 11,
   "id": "91b0223d-64d1-4cfa-8435-bc53e0fef1f2",
   "metadata": {},
   "outputs": [
    {
     "name": "stdout",
     "output_type": "stream",
     "text": [
      "6.88054895401001\n"
     ]
    }
   ],
   "source": [
    "start_time = time.time()\n",
    "\n",
    "matching_indices = find_matching_rows(df)\n",
    "matching_df = df[df.index.isin(matching_indices)]\n",
    "\n",
    "elapsed_time = time.time() - start_time\n",
    "print(elapsed_time)"
   ]
  },
  {
   "cell_type": "code",
   "execution_count": 13,
   "id": "babdbca0-1f50-4d9d-87d8-b6968f63411f",
   "metadata": {},
   "outputs": [
    {
     "name": "stdout",
     "output_type": "stream",
     "text": [
      "1365\n"
     ]
    }
   ],
   "source": [
    "print(len(matching_df))\n",
    "#matching_df.head(50)"
   ]
  },
  {
   "cell_type": "code",
   "execution_count": 19,
   "id": "31ad2858-ffa3-4fc1-a364-9d6e0aec3eea",
   "metadata": {},
   "outputs": [],
   "source": [
    "unique_matching_indices = list(set(matching_indices))\n",
    "#len(unique_matching_indices)"
   ]
  },
  {
   "cell_type": "code",
   "execution_count": 21,
   "id": "660bee50-bc91-4df0-8a5e-d96aeef84e63",
   "metadata": {},
   "outputs": [],
   "source": [
    "# List of index numbers to exclude\n",
    "index_numbers_to_exclude = unique_matching_indices\n",
    "\n",
    "# Create a new DataFrame excluding rows with specified index numbers\n",
    "new_df = df[~df.index.isin(index_numbers_to_exclude)]\n",
    "\n",
    "# Save the new DataFrame to a CSV file without index numbers\n",
    "new_df.to_csv('filtered_data_sales_1992_2022_161.csv', index=False)"
   ]
  },
  {
   "cell_type": "code",
   "execution_count": null,
   "id": "df61cc08-22f3-4fb1-bdd4-a8d55ca544b3",
   "metadata": {},
   "outputs": [],
   "source": []
  }
 ],
 "metadata": {
  "kernelspec": {
   "display_name": "Python 3 (ipykernel)",
   "language": "python",
   "name": "python3"
  },
  "language_info": {
   "codemirror_mode": {
    "name": "ipython",
    "version": 3
   },
   "file_extension": ".py",
   "mimetype": "text/x-python",
   "name": "python",
   "nbconvert_exporter": "python",
   "pygments_lexer": "ipython3",
   "version": "3.10.4"
  }
 },
 "nbformat": 4,
 "nbformat_minor": 5
}
