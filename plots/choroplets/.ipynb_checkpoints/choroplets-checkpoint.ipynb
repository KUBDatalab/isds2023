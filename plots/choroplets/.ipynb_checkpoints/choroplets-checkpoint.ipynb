{
 "cells": [
  {
   "cell_type": "markdown",
   "id": "9afce6de",
   "metadata": {},
   "source": [
    "Constructing choroplets on our data"
   ]
  },
  {
   "cell_type": "code",
   "execution_count": 4,
   "id": "d9467dcb",
   "metadata": {},
   "outputs": [],
   "source": [
    "import random\n",
    "import geopandas as gpd\n",
    "import pandas as pd\n",
    "from pathlib import Path\n",
    "import matplotlib.pyplot as plt\n",
    "\n",
    "\n",
    "# Reading geodata\n",
    "gdf = gpd.read_file(\"municipalities.geojson\")\n",
    "\n",
    "# Recode geodata\n",
    "gdf = gdf.rename(columns={\"lau_1\": \"muni_code\"})\n",
    "gdf[\"muni_code\"] = gdf[\"muni_code\"].astype(\"int64\")\n",
    "\n"
   ]
  },
  {
   "cell_type": "markdown",
   "id": "ea566694",
   "metadata": {},
   "source": [
    "The following cells constructs two choroplets, showing the frequency of property trades in 1992 and 2022."
   ]
  },
  {
   "cell_type": "code",
   "execution_count": 7,
   "id": "c81a1fda",
   "metadata": {},
   "outputs": [],
   "source": [
    "# reading the aggregated data\n",
    "fp = Path(\"../../Boliga data/agg_data\")\n",
    "files = list(fp.glob('*.csv'))\n",
    "\n",
    "samlet = pd.DataFrame(columns = pd.read_csv(files[1]).columns)\n",
    "for i in files:\n",
    "    data = pd.read_csv(i)\n",
    "    samlet = pd.concat([samlet,data], ignore_index =True)\n",
    "    "
   ]
  },
  {
   "cell_type": "code",
   "execution_count": 8,
   "id": "c3836308",
   "metadata": {},
   "outputs": [],
   "source": [
    "# Constructing two dataframes, one for 1992 and one for 2022\n",
    "prop_trades = samlet.groupby([\"muni_code\", 'year'])['count'].agg(\"sum\").reset_index()\n",
    "\n",
    "prop_trades_1992 = prop_trades.query(\"year==1992\").copy()\n",
    "prop_trades_2022 = prop_trades.query(\"year==2022\").copy()\n"
   ]
  },
  {
   "cell_type": "code",
   "execution_count": 9,
   "id": "28b9e8b8",
   "metadata": {},
   "outputs": [],
   "source": [
    "\n",
    "# Merge GeoDataFrame with data\n",
    "prop_trades_1992 = gdf.merge(prop_trades_1992, on=\"muni_code\", how=\"left\")\n",
    "prop_trades_2022 = gdf.merge(prop_trades_2022, on=\"muni_code\", how=\"left\")\n",
    "\n",
    "\n"
   ]
  },
  {
   "cell_type": "code",
   "execution_count": 10,
   "id": "a280faff",
   "metadata": {},
   "outputs": [
    {
     "name": "stderr",
     "output_type": "stream",
     "text": [
      "c:\\program files\\Anaconda3\\lib\\site-packages\\pandas\\core\\algorithms.py:798: FutureWarning: In a future version, the Index constructor will not infer numeric dtypes when passed object-dtype sequences (matching Series behavior)\n",
      "  uniques = Index(uniques)\n"
     ]
    }
   ],
   "source": [
    "# Constructing the first plot\n",
    "fig, ax = plt.subplots(1, 1, figsize=(10, 10))\n",
    "\n",
    "# Using 'coolwarm' colormap for a blue-to-red gradient.\n",
    "prop_trades_1992.plot(column='count', cmap='coolwarm', legend=False, ax=ax)\n",
    "\n",
    "# Set title\n",
    "ax.set_title('Frequency of property trades 1992')\n",
    "\n",
    "# Remove Axes\n",
    "ax.set_axis_off()\n",
    "\n",
    "# Save map\n",
    "plt.savefig(\"map_n_trades_1992.png\", dpi=300, bbox_inches='tight')\n",
    "\n",
    "# close plot window\n",
    "plt.close()"
   ]
  },
  {
   "cell_type": "code",
   "execution_count": 11,
   "id": "81579c70",
   "metadata": {},
   "outputs": [
    {
     "name": "stderr",
     "output_type": "stream",
     "text": [
      "c:\\program files\\Anaconda3\\lib\\site-packages\\pandas\\core\\algorithms.py:798: FutureWarning: In a future version, the Index constructor will not infer numeric dtypes when passed object-dtype sequences (matching Series behavior)\n",
      "  uniques = Index(uniques)\n"
     ]
    }
   ],
   "source": [
    "# Constructing the second plot\n",
    "\n",
    "fig, ax = plt.subplots(1, 1, figsize=(10, 10))\n",
    "\n",
    "# Using 'coolwarm' colormap for a blue-to-red gradient.\n",
    "prop_trades_2022.plot(column='count', cmap='coolwarm', legend=False, ax=ax)\n",
    "\n",
    "# Set title\n",
    "ax.set_title('Frequency of property trades 2022')\n",
    "\n",
    "# Remove Axes\n",
    "ax.set_axis_off()\n",
    "\n",
    "# Save map\n",
    "plt.savefig(\"map_n_trades_2022.png\", dpi=300, bbox_inches='tight')\n",
    "\n",
    "# close plot window\n",
    "plt.close()"
   ]
  },
  {
   "cell_type": "markdown",
   "id": "d5cf4b46",
   "metadata": {},
   "source": [
    "constructing plots of average sqm price for 1992 and 2022"
   ]
  },
  {
   "cell_type": "code",
   "execution_count": 12,
   "id": "a0cf6bc5",
   "metadata": {},
   "outputs": [
    {
     "name": "stderr",
     "output_type": "stream",
     "text": [
      "c:\\program files\\Anaconda3\\lib\\site-packages\\pandas\\core\\algorithms.py:798: FutureWarning: In a future version, the Index constructor will not infer numeric dtypes when passed object-dtype sequences (matching Series behavior)\n",
      "  uniques = Index(uniques)\n"
     ]
    }
   ],
   "source": [
    "sqm_1992 = samlet\\\n",
    "    .query(\"housing_type == 'Ejerlejlighed' & year == 1992\")[[\"muni_code\",'avg_sqm_price']].copy()\n",
    "\n",
    "sqm_1992 = gdf.merge(sqm_1992, on=\"muni_code\", how=\"left\")\n",
    "fig, ax = plt.subplots(1, 1, figsize=(10, 10))\n",
    "\n",
    "sqm_1992.plot(column='avg_sqm_price', cmap='coolwarm', legend=False, ax=ax)\n",
    "# Set title\n",
    "ax.set_title('Average sqm price of condominiums 1992')\n",
    "\n",
    "# Remove Axes\n",
    "ax.set_axis_off()\n",
    "\n",
    "# Save map\n",
    "plt.savefig(\"map_sqm_price_1992.png\", dpi=300, bbox_inches='tight')\n",
    "\n",
    "# close plot window\n",
    "plt.close()"
   ]
  },
  {
   "cell_type": "code",
   "execution_count": 13,
   "id": "b97df79e",
   "metadata": {},
   "outputs": [
    {
     "name": "stderr",
     "output_type": "stream",
     "text": [
      "c:\\program files\\Anaconda3\\lib\\site-packages\\pandas\\core\\algorithms.py:798: FutureWarning: In a future version, the Index constructor will not infer numeric dtypes when passed object-dtype sequences (matching Series behavior)\n",
      "  uniques = Index(uniques)\n"
     ]
    }
   ],
   "source": [
    "sqm_2022 = samlet\\\n",
    "    .query(\"housing_type == 'Ejerlejlighed' & year == 2022\")[[\"muni_code\",'avg_sqm_price']].copy()\n",
    "\n",
    "sqm_2022 = gdf.merge(sqm_2022, on=\"muni_code\", how=\"left\")\n",
    "fig, ax = plt.subplots(1, 1, figsize=(10, 10))\n",
    "\n",
    "sqm_2022.plot(column='avg_sqm_price', cmap='coolwarm', legend=False, ax=ax)\n",
    "# Set title\n",
    "ax.set_title('Average sqm price of condominiums 2022')\n",
    "\n",
    "# Remove Axes\n",
    "ax.set_axis_off()\n",
    "\n",
    "# Save map\n",
    "plt.savefig(\"map_sqm_price_2022.png\", dpi=300, bbox_inches='tight')\n",
    "\n",
    "# close plot window\n",
    "plt.close()"
   ]
  }
 ],
 "metadata": {
  "kernelspec": {
   "display_name": "Python 3 (ipykernel)",
   "language": "python",
   "name": "python3"
  },
  "language_info": {
   "codemirror_mode": {
    "name": "ipython",
    "version": 3
   },
   "file_extension": ".py",
   "mimetype": "text/x-python",
   "name": "python",
   "nbconvert_exporter": "python",
   "pygments_lexer": "ipython3",
   "version": "3.9.12"
  }
 },
 "nbformat": 4,
 "nbformat_minor": 5
}
